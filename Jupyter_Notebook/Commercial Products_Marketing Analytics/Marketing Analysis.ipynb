{
 "cells": [
  {
   "cell_type": "markdown",
   "metadata": {
    "id": "7oOp3FTQM0xJ",
    "papermill": {
     "duration": 0.050075,
     "end_time": "2021-02-02T20:49:37.811906",
     "exception": false,
     "start_time": "2021-02-02T20:49:37.761831",
     "status": "completed"
    },
    "tags": []
   },
   "source": [
    "# Commercial Products Marketing Analytics (Data Analysis Project)"
   ]
  },
  {
   "cell_type": "markdown",
   "metadata": {
    "id": "kTnKxZbqM0xM",
    "papermill": {
     "duration": 0.04786,
     "end_time": "2021-02-02T20:49:37.908261",
     "exception": false,
     "start_time": "2021-02-02T20:49:37.860401",
     "status": "completed"
    },
    "tags": []
   },
   "source": [
    "## Introduction\n",
    "\n",
    "This notebook will accomplish the following task:\n",
    "\n",
    "1. Exploratory Data Analysis\n",
    "2. Statistical Analysis\n",
    "3. Data Visualization\n",
    "\n",
    "#### Overall goal:\n",
    "You're a Data Scientist and you've been told by the Chief Marketing Officer that recent marketing campaigns have not been as effective as they were expected to be. You need to analyze the dataset to understand this problem and propose data-driven solutions.  "
   ]
  },
  {
   "cell_type": "markdown",
   "metadata": {
    "id": "LpY4QuGWM0xN"
   },
   "source": [
    "#### Section 01: Exploratory Data Analysis\n",
    "* Are there any null values or outliers? How we will wrangle/handle them?\n",
    "* Are there any variables that needs transformations?\n",
    "* Are there any useful variables that we can utilize with the given data?\n",
    "* Do you notice any patterns or anomalies in the data? Can we plot them?\n",
    "\n",
    "#### Section 02: Statistical Analysis\n",
    "Run statistical tests in the form of regressions to answer these questions & propose data-driven action recommendations to the CMO. Make sure to interpret results with non-statistical jargon so that the CMO can understand our findings.  \n",
    "\n",
    "* What factors are significantly related to the number of store purchases?\n",
    "* Does US fare significantly better than the Rest of the World in terms of total purchases?\n",
    "* Your CMO insists that people who buy gold are more conservative. Therefore, people who spent an above average amount on gold in the last 2 years would have more in store purchases. Justify or refute this statement using an appropriate statistical test\n",
    "* Fish has Omega 3 fatty acids which are good for the brain. Accordingly, do \"Married PhD candidates\" have a significant relation with amount spent on fish? What other factors are significantly related to amount spent on fish?\n",
    "* Is there a significant relationship between geographical regional and success of a campaign?\n",
    "\n",
    "#### Section 03: Data Visualization\n",
    "Plot and visualize the answers to the below questions:\n",
    "\n",
    "* Which marketing campaign is most successful?\n",
    "* What does the average customer look like for this company?\n",
    "* Which products are performing best?\n",
    "* Which channels are underperforming?"
   ]
  },
  {
   "cell_type": "code",
   "execution_count": 1,
   "metadata": {
    "_cell_guid": "b1076dfc-b9ad-4769-8c92-a6c4dae69d19",
    "_kg_hide-input": true,
    "_kg_hide-output": false,
    "_uuid": "8f2839f25d086af736a60e9eeb907d3b93b6e0e5",
    "execution": {
     "iopub.execute_input": "2021-02-02T20:49:38.118443Z",
     "iopub.status.busy": "2021-02-02T20:49:38.117581Z",
     "iopub.status.idle": "2021-02-02T20:49:39.619855Z",
     "shell.execute_reply": "2021-02-02T20:49:39.620461Z"
    },
    "id": "5gJ3bQwyM0xO",
    "papermill": {
     "duration": 1.566031,
     "end_time": "2021-02-02T20:49:39.620665",
     "exception": false,
     "start_time": "2021-02-02T20:49:38.054634",
     "status": "completed"
    },
    "tags": []
   },
   "outputs": [],
   "source": [
    "# Turn off warnings\n",
    "import warnings\n",
    "warnings.filterwarnings('ignore')\n",
    "\n",
    "# Import libraries\n",
    "import numpy as np\n",
    "import pandas as pd\n",
    "import matplotlib.pyplot as plt\n",
    "import seaborn as sns\n",
    "\n",
    "pd.set_option('display.max_columns', None)\n",
    "%matplotlib inline\n",
    "sns.set_context('notebook')\n",
    "sns.set_style('whitegrid')\n",
    "sns.set_palette('Blues_r')"
   ]
  },
  {
   "cell_type": "markdown",
   "metadata": {
    "id": "3i_Wy21bM0xP",
    "papermill": {
     "duration": 0.049248,
     "end_time": "2021-02-02T20:49:38.006358",
     "exception": false,
     "start_time": "2021-02-02T20:49:37.957110",
     "status": "completed"
    },
    "tags": []
   },
   "source": [
    "## Dataset\n",
    "\n",
    "Before beginning the analysis, we will load and view the dataset, and perform data preparation.\n",
    "\n",
    "#### View the dataset info:"
   ]
  },
  {
   "cell_type": "code",
   "execution_count": 2,
   "metadata": {
    "colab": {
     "base_uri": "https://localhost:8080/",
     "height": 895
    },
    "id": "sdxRy1HAM0xP",
    "outputId": "1009ec31-0f2e-4f75-8218-e12a26b1098f"
   },
   "outputs": [
    {
     "name": "stdout",
     "output_type": "stream",
     "text": [
      "<class 'pandas.core.frame.DataFrame'>\n",
      "RangeIndex: 2240 entries, 0 to 2239\n",
      "Data columns (total 28 columns):\n",
      " #   Column               Non-Null Count  Dtype \n",
      "---  ------               --------------  ----- \n",
      " 0   ID                   2240 non-null   int64 \n",
      " 1   Year_Birth           2240 non-null   int64 \n",
      " 2   Education            2240 non-null   object\n",
      " 3   Marital_Status       2240 non-null   object\n",
      " 4    Income              2216 non-null   object\n",
      " 5   Kidhome              2240 non-null   int64 \n",
      " 6   Teenhome             2240 non-null   int64 \n",
      " 7   Dt_Customer          2240 non-null   object\n",
      " 8   Recency              2240 non-null   int64 \n",
      " 9   MntWines             2240 non-null   int64 \n",
      " 10  MntFruits            2240 non-null   int64 \n",
      " 11  MntMeatProducts      2240 non-null   int64 \n",
      " 12  MntFishProducts      2240 non-null   int64 \n",
      " 13  MntSweetProducts     2240 non-null   int64 \n",
      " 14  MntGoldProds         2240 non-null   int64 \n",
      " 15  NumDealsPurchases    2240 non-null   int64 \n",
      " 16  NumWebPurchases      2240 non-null   int64 \n",
      " 17  NumCatalogPurchases  2240 non-null   int64 \n",
      " 18  NumStorePurchases    2240 non-null   int64 \n",
      " 19  NumWebVisitsMonth    2240 non-null   int64 \n",
      " 20  AcceptedCmp3         2240 non-null   int64 \n",
      " 21  AcceptedCmp4         2240 non-null   int64 \n",
      " 22  AcceptedCmp5         2240 non-null   int64 \n",
      " 23  AcceptedCmp1         2240 non-null   int64 \n",
      " 24  AcceptedCmp2         2240 non-null   int64 \n",
      " 25  Response             2240 non-null   int64 \n",
      " 26  Complain             2240 non-null   int64 \n",
      " 27  Country              2240 non-null   object\n",
      "dtypes: int64(23), object(5)\n",
      "memory usage: 490.1+ KB\n",
      "None\n"
     ]
    },
    {
     "data": {
      "text/html": [
       "\n",
       "  <div id=\"df-85571df0-c3e1-40bc-9fd7-f0a989477176\">\n",
       "    <div class=\"colab-df-container\">\n",
       "      <div>\n",
       "<style scoped>\n",
       "    .dataframe tbody tr th:only-of-type {\n",
       "        vertical-align: middle;\n",
       "    }\n",
       "\n",
       "    .dataframe tbody tr th {\n",
       "        vertical-align: top;\n",
       "    }\n",
       "\n",
       "    .dataframe thead th {\n",
       "        text-align: right;\n",
       "    }\n",
       "</style>\n",
       "<table border=\"1\" class=\"dataframe\">\n",
       "  <thead>\n",
       "    <tr style=\"text-align: right;\">\n",
       "      <th></th>\n",
       "      <th>ID</th>\n",
       "      <th>Year_Birth</th>\n",
       "      <th>Education</th>\n",
       "      <th>Marital_Status</th>\n",
       "      <th>Income</th>\n",
       "      <th>Kidhome</th>\n",
       "      <th>Teenhome</th>\n",
       "      <th>Dt_Customer</th>\n",
       "      <th>Recency</th>\n",
       "      <th>MntWines</th>\n",
       "      <th>MntFruits</th>\n",
       "      <th>MntMeatProducts</th>\n",
       "      <th>MntFishProducts</th>\n",
       "      <th>MntSweetProducts</th>\n",
       "      <th>MntGoldProds</th>\n",
       "      <th>NumDealsPurchases</th>\n",
       "      <th>NumWebPurchases</th>\n",
       "      <th>NumCatalogPurchases</th>\n",
       "      <th>NumStorePurchases</th>\n",
       "      <th>NumWebVisitsMonth</th>\n",
       "      <th>AcceptedCmp3</th>\n",
       "      <th>AcceptedCmp4</th>\n",
       "      <th>AcceptedCmp5</th>\n",
       "      <th>AcceptedCmp1</th>\n",
       "      <th>AcceptedCmp2</th>\n",
       "      <th>Response</th>\n",
       "      <th>Complain</th>\n",
       "      <th>Country</th>\n",
       "    </tr>\n",
       "  </thead>\n",
       "  <tbody>\n",
       "    <tr>\n",
       "      <th>0</th>\n",
       "      <td>1826</td>\n",
       "      <td>1970</td>\n",
       "      <td>Graduation</td>\n",
       "      <td>Divorced</td>\n",
       "      <td>$84,835.00</td>\n",
       "      <td>0</td>\n",
       "      <td>0</td>\n",
       "      <td>6/16/14</td>\n",
       "      <td>0</td>\n",
       "      <td>189</td>\n",
       "      <td>104</td>\n",
       "      <td>379</td>\n",
       "      <td>111</td>\n",
       "      <td>189</td>\n",
       "      <td>218</td>\n",
       "      <td>1</td>\n",
       "      <td>4</td>\n",
       "      <td>4</td>\n",
       "      <td>6</td>\n",
       "      <td>1</td>\n",
       "      <td>0</td>\n",
       "      <td>0</td>\n",
       "      <td>0</td>\n",
       "      <td>0</td>\n",
       "      <td>0</td>\n",
       "      <td>1</td>\n",
       "      <td>0</td>\n",
       "      <td>SP</td>\n",
       "    </tr>\n",
       "    <tr>\n",
       "      <th>1</th>\n",
       "      <td>1</td>\n",
       "      <td>1961</td>\n",
       "      <td>Graduation</td>\n",
       "      <td>Single</td>\n",
       "      <td>$57,091.00</td>\n",
       "      <td>0</td>\n",
       "      <td>0</td>\n",
       "      <td>6/15/14</td>\n",
       "      <td>0</td>\n",
       "      <td>464</td>\n",
       "      <td>5</td>\n",
       "      <td>64</td>\n",
       "      <td>7</td>\n",
       "      <td>0</td>\n",
       "      <td>37</td>\n",
       "      <td>1</td>\n",
       "      <td>7</td>\n",
       "      <td>3</td>\n",
       "      <td>7</td>\n",
       "      <td>5</td>\n",
       "      <td>0</td>\n",
       "      <td>0</td>\n",
       "      <td>0</td>\n",
       "      <td>0</td>\n",
       "      <td>1</td>\n",
       "      <td>1</td>\n",
       "      <td>0</td>\n",
       "      <td>CA</td>\n",
       "    </tr>\n",
       "    <tr>\n",
       "      <th>2</th>\n",
       "      <td>10476</td>\n",
       "      <td>1958</td>\n",
       "      <td>Graduation</td>\n",
       "      <td>Married</td>\n",
       "      <td>$67,267.00</td>\n",
       "      <td>0</td>\n",
       "      <td>1</td>\n",
       "      <td>5/13/14</td>\n",
       "      <td>0</td>\n",
       "      <td>134</td>\n",
       "      <td>11</td>\n",
       "      <td>59</td>\n",
       "      <td>15</td>\n",
       "      <td>2</td>\n",
       "      <td>30</td>\n",
       "      <td>1</td>\n",
       "      <td>3</td>\n",
       "      <td>2</td>\n",
       "      <td>5</td>\n",
       "      <td>2</td>\n",
       "      <td>0</td>\n",
       "      <td>0</td>\n",
       "      <td>0</td>\n",
       "      <td>0</td>\n",
       "      <td>0</td>\n",
       "      <td>0</td>\n",
       "      <td>0</td>\n",
       "      <td>US</td>\n",
       "    </tr>\n",
       "    <tr>\n",
       "      <th>3</th>\n",
       "      <td>1386</td>\n",
       "      <td>1967</td>\n",
       "      <td>Graduation</td>\n",
       "      <td>Together</td>\n",
       "      <td>$32,474.00</td>\n",
       "      <td>1</td>\n",
       "      <td>1</td>\n",
       "      <td>5/11/14</td>\n",
       "      <td>0</td>\n",
       "      <td>10</td>\n",
       "      <td>0</td>\n",
       "      <td>1</td>\n",
       "      <td>0</td>\n",
       "      <td>0</td>\n",
       "      <td>0</td>\n",
       "      <td>1</td>\n",
       "      <td>1</td>\n",
       "      <td>0</td>\n",
       "      <td>2</td>\n",
       "      <td>7</td>\n",
       "      <td>0</td>\n",
       "      <td>0</td>\n",
       "      <td>0</td>\n",
       "      <td>0</td>\n",
       "      <td>0</td>\n",
       "      <td>0</td>\n",
       "      <td>0</td>\n",
       "      <td>AUS</td>\n",
       "    </tr>\n",
       "    <tr>\n",
       "      <th>4</th>\n",
       "      <td>5371</td>\n",
       "      <td>1989</td>\n",
       "      <td>Graduation</td>\n",
       "      <td>Single</td>\n",
       "      <td>$21,474.00</td>\n",
       "      <td>1</td>\n",
       "      <td>0</td>\n",
       "      <td>4/8/14</td>\n",
       "      <td>0</td>\n",
       "      <td>6</td>\n",
       "      <td>16</td>\n",
       "      <td>24</td>\n",
       "      <td>11</td>\n",
       "      <td>0</td>\n",
       "      <td>34</td>\n",
       "      <td>2</td>\n",
       "      <td>3</td>\n",
       "      <td>1</td>\n",
       "      <td>2</td>\n",
       "      <td>7</td>\n",
       "      <td>1</td>\n",
       "      <td>0</td>\n",
       "      <td>0</td>\n",
       "      <td>0</td>\n",
       "      <td>0</td>\n",
       "      <td>1</td>\n",
       "      <td>0</td>\n",
       "      <td>SP</td>\n",
       "    </tr>\n",
       "  </tbody>\n",
       "</table>\n",
       "</div>\n",
       "      <button class=\"colab-df-convert\" onclick=\"convertToInteractive('df-85571df0-c3e1-40bc-9fd7-f0a989477176')\"\n",
       "              title=\"Convert this dataframe to an interactive table.\"\n",
       "              style=\"display:none;\">\n",
       "        \n",
       "  <svg xmlns=\"http://www.w3.org/2000/svg\" height=\"24px\"viewBox=\"0 0 24 24\"\n",
       "       width=\"24px\">\n",
       "    <path d=\"M0 0h24v24H0V0z\" fill=\"none\"/>\n",
       "    <path d=\"M18.56 5.44l.94 2.06.94-2.06 2.06-.94-2.06-.94-.94-2.06-.94 2.06-2.06.94zm-11 1L8.5 8.5l.94-2.06 2.06-.94-2.06-.94L8.5 2.5l-.94 2.06-2.06.94zm10 10l.94 2.06.94-2.06 2.06-.94-2.06-.94-.94-2.06-.94 2.06-2.06.94z\"/><path d=\"M17.41 7.96l-1.37-1.37c-.4-.4-.92-.59-1.43-.59-.52 0-1.04.2-1.43.59L10.3 9.45l-7.72 7.72c-.78.78-.78 2.05 0 2.83L4 21.41c.39.39.9.59 1.41.59.51 0 1.02-.2 1.41-.59l7.78-7.78 2.81-2.81c.8-.78.8-2.07 0-2.86zM5.41 20L4 18.59l7.72-7.72 1.47 1.35L5.41 20z\"/>\n",
       "  </svg>\n",
       "      </button>\n",
       "      \n",
       "  <style>\n",
       "    .colab-df-container {\n",
       "      display:flex;\n",
       "      flex-wrap:wrap;\n",
       "      gap: 12px;\n",
       "    }\n",
       "\n",
       "    .colab-df-convert {\n",
       "      background-color: #E8F0FE;\n",
       "      border: none;\n",
       "      border-radius: 50%;\n",
       "      cursor: pointer;\n",
       "      display: none;\n",
       "      fill: #1967D2;\n",
       "      height: 32px;\n",
       "      padding: 0 0 0 0;\n",
       "      width: 32px;\n",
       "    }\n",
       "\n",
       "    .colab-df-convert:hover {\n",
       "      background-color: #E2EBFA;\n",
       "      box-shadow: 0px 1px 2px rgba(60, 64, 67, 0.3), 0px 1px 3px 1px rgba(60, 64, 67, 0.15);\n",
       "      fill: #174EA6;\n",
       "    }\n",
       "\n",
       "    [theme=dark] .colab-df-convert {\n",
       "      background-color: #3B4455;\n",
       "      fill: #D2E3FC;\n",
       "    }\n",
       "\n",
       "    [theme=dark] .colab-df-convert:hover {\n",
       "      background-color: #434B5C;\n",
       "      box-shadow: 0px 1px 3px 1px rgba(0, 0, 0, 0.15);\n",
       "      filter: drop-shadow(0px 1px 2px rgba(0, 0, 0, 0.3));\n",
       "      fill: #FFFFFF;\n",
       "    }\n",
       "  </style>\n",
       "\n",
       "      <script>\n",
       "        const buttonEl =\n",
       "          document.querySelector('#df-85571df0-c3e1-40bc-9fd7-f0a989477176 button.colab-df-convert');\n",
       "        buttonEl.style.display =\n",
       "          google.colab.kernel.accessAllowed ? 'block' : 'none';\n",
       "\n",
       "        async function convertToInteractive(key) {\n",
       "          const element = document.querySelector('#df-85571df0-c3e1-40bc-9fd7-f0a989477176');\n",
       "          const dataTable =\n",
       "            await google.colab.kernel.invokeFunction('convertToInteractive',\n",
       "                                                     [key], {});\n",
       "          if (!dataTable) return;\n",
       "\n",
       "          const docLinkHtml = 'Like what you see? Visit the ' +\n",
       "            '<a target=\"_blank\" href=https://colab.research.google.com/notebooks/data_table.ipynb>data table notebook</a>'\n",
       "            + ' to learn more about interactive tables.';\n",
       "          element.innerHTML = '';\n",
       "          dataTable['output_type'] = 'display_data';\n",
       "          await google.colab.output.renderOutput(dataTable, element);\n",
       "          const docLink = document.createElement('div');\n",
       "          docLink.innerHTML = docLinkHtml;\n",
       "          element.appendChild(docLink);\n",
       "        }\n",
       "      </script>\n",
       "    </div>\n",
       "  </div>\n",
       "  "
      ],
      "text/plain": [
       "      ID  Year_Birth   Education Marital_Status      Income   Kidhome  \\\n",
       "0   1826        1970  Graduation       Divorced  $84,835.00         0   \n",
       "1      1        1961  Graduation         Single  $57,091.00         0   \n",
       "2  10476        1958  Graduation        Married  $67,267.00         0   \n",
       "3   1386        1967  Graduation       Together  $32,474.00         1   \n",
       "4   5371        1989  Graduation         Single  $21,474.00         1   \n",
       "\n",
       "   Teenhome Dt_Customer  Recency  MntWines  MntFruits  MntMeatProducts  \\\n",
       "0         0     6/16/14        0       189        104              379   \n",
       "1         0     6/15/14        0       464          5               64   \n",
       "2         1     5/13/14        0       134         11               59   \n",
       "3         1     5/11/14        0        10          0                1   \n",
       "4         0      4/8/14        0         6         16               24   \n",
       "\n",
       "   MntFishProducts  MntSweetProducts  MntGoldProds  NumDealsPurchases  \\\n",
       "0              111               189           218                  1   \n",
       "1                7                 0            37                  1   \n",
       "2               15                 2            30                  1   \n",
       "3                0                 0             0                  1   \n",
       "4               11                 0            34                  2   \n",
       "\n",
       "   NumWebPurchases  NumCatalogPurchases  NumStorePurchases  NumWebVisitsMonth  \\\n",
       "0                4                    4                  6                  1   \n",
       "1                7                    3                  7                  5   \n",
       "2                3                    2                  5                  2   \n",
       "3                1                    0                  2                  7   \n",
       "4                3                    1                  2                  7   \n",
       "\n",
       "   AcceptedCmp3  AcceptedCmp4  AcceptedCmp5  AcceptedCmp1  AcceptedCmp2  \\\n",
       "0             0             0             0             0             0   \n",
       "1             0             0             0             0             1   \n",
       "2             0             0             0             0             0   \n",
       "3             0             0             0             0             0   \n",
       "4             1             0             0             0             0   \n",
       "\n",
       "   Response  Complain Country  \n",
       "0         1         0      SP  \n",
       "1         1         0      CA  \n",
       "2         0         0      US  \n",
       "3         0         0     AUS  \n",
       "4         1         0      SP  "
      ]
     },
     "execution_count": 2,
     "metadata": {},
     "output_type": "execute_result"
    }
   ],
   "source": [
    "# Read and load dataset\n",
    "\n",
    "df = pd.read_csv('marketing_data.csv')\n",
    "print(df.info())\n",
    "df.head()"
   ]
  },
  {
   "cell_type": "markdown",
   "metadata": {
    "id": "-vEFD_vaM0xQ",
    "papermill": {
     "duration": 0.050336,
     "end_time": "2021-02-02T20:49:39.722719",
     "exception": false,
     "start_time": "2021-02-02T20:49:39.672383",
     "status": "completed"
    },
    "tags": []
   },
   "source": [
    "* Clean up column names\n",
    "* Transform selected columns to numeric format:\n",
    "    - `Income` to float"
   ]
  },
  {
   "cell_type": "code",
   "execution_count": 3,
   "metadata": {
    "_kg_hide-input": false,
    "_kg_hide-output": false,
    "execution": {
     "iopub.execute_input": "2021-02-02T20:49:39.841135Z",
     "iopub.status.busy": "2021-02-02T20:49:39.840335Z",
     "iopub.status.idle": "2021-02-02T20:49:39.844817Z",
     "shell.execute_reply": "2021-02-02T20:49:39.843876Z"
    },
    "id": "26Ir8oIeM0xQ",
    "papermill": {
     "duration": 0.071247,
     "end_time": "2021-02-02T20:49:39.844968",
     "exception": false,
     "start_time": "2021-02-02T20:49:39.773721",
     "status": "completed"
    },
    "tags": []
   },
   "outputs": [],
   "source": [
    "# Clean up column names that contains whitespace\n",
    "df.columns = df.columns.str.replace(' ', '')\n",
    "\n",
    "# Transform income column to a numerical\n",
    "df['Income'] = df['Income'].str.replace('$', '')\n",
    "df['Income'] = df['Income'].str.replace(',', '').astype('float')"
   ]
  },
  {
   "cell_type": "markdown",
   "metadata": {
    "id": "8EGOdfqYM0xR",
    "papermill": {
     "duration": 0.050309,
     "end_time": "2021-02-02T20:49:39.946383",
     "exception": false,
     "start_time": "2021-02-02T20:49:39.896074",
     "status": "completed"
    },
    "tags": []
   },
   "source": [
    "#### The cleaned dataset:"
   ]
  },
  {
   "cell_type": "code",
   "execution_count": 4,
   "metadata": {
    "_kg_hide-input": true,
    "colab": {
     "base_uri": "https://localhost:8080/",
     "height": 270
    },
    "execution": {
     "iopub.execute_input": "2021-02-02T20:49:40.080952Z",
     "iopub.status.busy": "2021-02-02T20:49:40.079740Z",
     "iopub.status.idle": "2021-02-02T20:49:40.085385Z",
     "shell.execute_reply": "2021-02-02T20:49:40.084722Z"
    },
    "id": "zJZb9LATM0xR",
    "outputId": "c2691069-3152-4358-c426-7288fa073e70",
    "papermill": {
     "duration": 0.085767,
     "end_time": "2021-02-02T20:49:40.085522",
     "exception": false,
     "start_time": "2021-02-02T20:49:39.999755",
     "status": "completed"
    },
    "tags": []
   },
   "outputs": [
    {
     "data": {
      "text/html": [
       "\n",
       "  <div id=\"df-06858e2f-a821-4f21-ba83-e71f61ba6ec0\">\n",
       "    <div class=\"colab-df-container\">\n",
       "      <div>\n",
       "<style scoped>\n",
       "    .dataframe tbody tr th:only-of-type {\n",
       "        vertical-align: middle;\n",
       "    }\n",
       "\n",
       "    .dataframe tbody tr th {\n",
       "        vertical-align: top;\n",
       "    }\n",
       "\n",
       "    .dataframe thead th {\n",
       "        text-align: right;\n",
       "    }\n",
       "</style>\n",
       "<table border=\"1\" class=\"dataframe\">\n",
       "  <thead>\n",
       "    <tr style=\"text-align: right;\">\n",
       "      <th></th>\n",
       "      <th>ID</th>\n",
       "      <th>Year_Birth</th>\n",
       "      <th>Education</th>\n",
       "      <th>Marital_Status</th>\n",
       "      <th>Income</th>\n",
       "      <th>Kidhome</th>\n",
       "      <th>Teenhome</th>\n",
       "      <th>Dt_Customer</th>\n",
       "      <th>Recency</th>\n",
       "      <th>MntWines</th>\n",
       "      <th>MntFruits</th>\n",
       "      <th>MntMeatProducts</th>\n",
       "      <th>MntFishProducts</th>\n",
       "      <th>MntSweetProducts</th>\n",
       "      <th>MntGoldProds</th>\n",
       "      <th>NumDealsPurchases</th>\n",
       "      <th>NumWebPurchases</th>\n",
       "      <th>NumCatalogPurchases</th>\n",
       "      <th>NumStorePurchases</th>\n",
       "      <th>NumWebVisitsMonth</th>\n",
       "      <th>AcceptedCmp3</th>\n",
       "      <th>AcceptedCmp4</th>\n",
       "      <th>AcceptedCmp5</th>\n",
       "      <th>AcceptedCmp1</th>\n",
       "      <th>AcceptedCmp2</th>\n",
       "      <th>Response</th>\n",
       "      <th>Complain</th>\n",
       "      <th>Country</th>\n",
       "    </tr>\n",
       "  </thead>\n",
       "  <tbody>\n",
       "    <tr>\n",
       "      <th>0</th>\n",
       "      <td>1826</td>\n",
       "      <td>1970</td>\n",
       "      <td>Graduation</td>\n",
       "      <td>Divorced</td>\n",
       "      <td>84835.0</td>\n",
       "      <td>0</td>\n",
       "      <td>0</td>\n",
       "      <td>6/16/14</td>\n",
       "      <td>0</td>\n",
       "      <td>189</td>\n",
       "      <td>104</td>\n",
       "      <td>379</td>\n",
       "      <td>111</td>\n",
       "      <td>189</td>\n",
       "      <td>218</td>\n",
       "      <td>1</td>\n",
       "      <td>4</td>\n",
       "      <td>4</td>\n",
       "      <td>6</td>\n",
       "      <td>1</td>\n",
       "      <td>0</td>\n",
       "      <td>0</td>\n",
       "      <td>0</td>\n",
       "      <td>0</td>\n",
       "      <td>0</td>\n",
       "      <td>1</td>\n",
       "      <td>0</td>\n",
       "      <td>SP</td>\n",
       "    </tr>\n",
       "    <tr>\n",
       "      <th>1</th>\n",
       "      <td>1</td>\n",
       "      <td>1961</td>\n",
       "      <td>Graduation</td>\n",
       "      <td>Single</td>\n",
       "      <td>57091.0</td>\n",
       "      <td>0</td>\n",
       "      <td>0</td>\n",
       "      <td>6/15/14</td>\n",
       "      <td>0</td>\n",
       "      <td>464</td>\n",
       "      <td>5</td>\n",
       "      <td>64</td>\n",
       "      <td>7</td>\n",
       "      <td>0</td>\n",
       "      <td>37</td>\n",
       "      <td>1</td>\n",
       "      <td>7</td>\n",
       "      <td>3</td>\n",
       "      <td>7</td>\n",
       "      <td>5</td>\n",
       "      <td>0</td>\n",
       "      <td>0</td>\n",
       "      <td>0</td>\n",
       "      <td>0</td>\n",
       "      <td>1</td>\n",
       "      <td>1</td>\n",
       "      <td>0</td>\n",
       "      <td>CA</td>\n",
       "    </tr>\n",
       "    <tr>\n",
       "      <th>2</th>\n",
       "      <td>10476</td>\n",
       "      <td>1958</td>\n",
       "      <td>Graduation</td>\n",
       "      <td>Married</td>\n",
       "      <td>67267.0</td>\n",
       "      <td>0</td>\n",
       "      <td>1</td>\n",
       "      <td>5/13/14</td>\n",
       "      <td>0</td>\n",
       "      <td>134</td>\n",
       "      <td>11</td>\n",
       "      <td>59</td>\n",
       "      <td>15</td>\n",
       "      <td>2</td>\n",
       "      <td>30</td>\n",
       "      <td>1</td>\n",
       "      <td>3</td>\n",
       "      <td>2</td>\n",
       "      <td>5</td>\n",
       "      <td>2</td>\n",
       "      <td>0</td>\n",
       "      <td>0</td>\n",
       "      <td>0</td>\n",
       "      <td>0</td>\n",
       "      <td>0</td>\n",
       "      <td>0</td>\n",
       "      <td>0</td>\n",
       "      <td>US</td>\n",
       "    </tr>\n",
       "    <tr>\n",
       "      <th>3</th>\n",
       "      <td>1386</td>\n",
       "      <td>1967</td>\n",
       "      <td>Graduation</td>\n",
       "      <td>Together</td>\n",
       "      <td>32474.0</td>\n",
       "      <td>1</td>\n",
       "      <td>1</td>\n",
       "      <td>5/11/14</td>\n",
       "      <td>0</td>\n",
       "      <td>10</td>\n",
       "      <td>0</td>\n",
       "      <td>1</td>\n",
       "      <td>0</td>\n",
       "      <td>0</td>\n",
       "      <td>0</td>\n",
       "      <td>1</td>\n",
       "      <td>1</td>\n",
       "      <td>0</td>\n",
       "      <td>2</td>\n",
       "      <td>7</td>\n",
       "      <td>0</td>\n",
       "      <td>0</td>\n",
       "      <td>0</td>\n",
       "      <td>0</td>\n",
       "      <td>0</td>\n",
       "      <td>0</td>\n",
       "      <td>0</td>\n",
       "      <td>AUS</td>\n",
       "    </tr>\n",
       "    <tr>\n",
       "      <th>4</th>\n",
       "      <td>5371</td>\n",
       "      <td>1989</td>\n",
       "      <td>Graduation</td>\n",
       "      <td>Single</td>\n",
       "      <td>21474.0</td>\n",
       "      <td>1</td>\n",
       "      <td>0</td>\n",
       "      <td>4/8/14</td>\n",
       "      <td>0</td>\n",
       "      <td>6</td>\n",
       "      <td>16</td>\n",
       "      <td>24</td>\n",
       "      <td>11</td>\n",
       "      <td>0</td>\n",
       "      <td>34</td>\n",
       "      <td>2</td>\n",
       "      <td>3</td>\n",
       "      <td>1</td>\n",
       "      <td>2</td>\n",
       "      <td>7</td>\n",
       "      <td>1</td>\n",
       "      <td>0</td>\n",
       "      <td>0</td>\n",
       "      <td>0</td>\n",
       "      <td>0</td>\n",
       "      <td>1</td>\n",
       "      <td>0</td>\n",
       "      <td>SP</td>\n",
       "    </tr>\n",
       "  </tbody>\n",
       "</table>\n",
       "</div>\n",
       "      <button class=\"colab-df-convert\" onclick=\"convertToInteractive('df-06858e2f-a821-4f21-ba83-e71f61ba6ec0')\"\n",
       "              title=\"Convert this dataframe to an interactive table.\"\n",
       "              style=\"display:none;\">\n",
       "        \n",
       "  <svg xmlns=\"http://www.w3.org/2000/svg\" height=\"24px\"viewBox=\"0 0 24 24\"\n",
       "       width=\"24px\">\n",
       "    <path d=\"M0 0h24v24H0V0z\" fill=\"none\"/>\n",
       "    <path d=\"M18.56 5.44l.94 2.06.94-2.06 2.06-.94-2.06-.94-.94-2.06-.94 2.06-2.06.94zm-11 1L8.5 8.5l.94-2.06 2.06-.94-2.06-.94L8.5 2.5l-.94 2.06-2.06.94zm10 10l.94 2.06.94-2.06 2.06-.94-2.06-.94-.94-2.06-.94 2.06-2.06.94z\"/><path d=\"M17.41 7.96l-1.37-1.37c-.4-.4-.92-.59-1.43-.59-.52 0-1.04.2-1.43.59L10.3 9.45l-7.72 7.72c-.78.78-.78 2.05 0 2.83L4 21.41c.39.39.9.59 1.41.59.51 0 1.02-.2 1.41-.59l7.78-7.78 2.81-2.81c.8-.78.8-2.07 0-2.86zM5.41 20L4 18.59l7.72-7.72 1.47 1.35L5.41 20z\"/>\n",
       "  </svg>\n",
       "      </button>\n",
       "      \n",
       "  <style>\n",
       "    .colab-df-container {\n",
       "      display:flex;\n",
       "      flex-wrap:wrap;\n",
       "      gap: 12px;\n",
       "    }\n",
       "\n",
       "    .colab-df-convert {\n",
       "      background-color: #E8F0FE;\n",
       "      border: none;\n",
       "      border-radius: 50%;\n",
       "      cursor: pointer;\n",
       "      display: none;\n",
       "      fill: #1967D2;\n",
       "      height: 32px;\n",
       "      padding: 0 0 0 0;\n",
       "      width: 32px;\n",
       "    }\n",
       "\n",
       "    .colab-df-convert:hover {\n",
       "      background-color: #E2EBFA;\n",
       "      box-shadow: 0px 1px 2px rgba(60, 64, 67, 0.3), 0px 1px 3px 1px rgba(60, 64, 67, 0.15);\n",
       "      fill: #174EA6;\n",
       "    }\n",
       "\n",
       "    [theme=dark] .colab-df-convert {\n",
       "      background-color: #3B4455;\n",
       "      fill: #D2E3FC;\n",
       "    }\n",
       "\n",
       "    [theme=dark] .colab-df-convert:hover {\n",
       "      background-color: #434B5C;\n",
       "      box-shadow: 0px 1px 3px 1px rgba(0, 0, 0, 0.15);\n",
       "      filter: drop-shadow(0px 1px 2px rgba(0, 0, 0, 0.3));\n",
       "      fill: #FFFFFF;\n",
       "    }\n",
       "  </style>\n",
       "\n",
       "      <script>\n",
       "        const buttonEl =\n",
       "          document.querySelector('#df-06858e2f-a821-4f21-ba83-e71f61ba6ec0 button.colab-df-convert');\n",
       "        buttonEl.style.display =\n",
       "          google.colab.kernel.accessAllowed ? 'block' : 'none';\n",
       "\n",
       "        async function convertToInteractive(key) {\n",
       "          const element = document.querySelector('#df-06858e2f-a821-4f21-ba83-e71f61ba6ec0');\n",
       "          const dataTable =\n",
       "            await google.colab.kernel.invokeFunction('convertToInteractive',\n",
       "                                                     [key], {});\n",
       "          if (!dataTable) return;\n",
       "\n",
       "          const docLinkHtml = 'Like what you see? Visit the ' +\n",
       "            '<a target=\"_blank\" href=https://colab.research.google.com/notebooks/data_table.ipynb>data table notebook</a>'\n",
       "            + ' to learn more about interactive tables.';\n",
       "          element.innerHTML = '';\n",
       "          dataTable['output_type'] = 'display_data';\n",
       "          await google.colab.output.renderOutput(dataTable, element);\n",
       "          const docLink = document.createElement('div');\n",
       "          docLink.innerHTML = docLinkHtml;\n",
       "          element.appendChild(docLink);\n",
       "        }\n",
       "      </script>\n",
       "    </div>\n",
       "  </div>\n",
       "  "
      ],
      "text/plain": [
       "      ID  Year_Birth   Education Marital_Status   Income  Kidhome  Teenhome  \\\n",
       "0   1826        1970  Graduation       Divorced  84835.0        0         0   \n",
       "1      1        1961  Graduation         Single  57091.0        0         0   \n",
       "2  10476        1958  Graduation        Married  67267.0        0         1   \n",
       "3   1386        1967  Graduation       Together  32474.0        1         1   \n",
       "4   5371        1989  Graduation         Single  21474.0        1         0   \n",
       "\n",
       "  Dt_Customer  Recency  MntWines  MntFruits  MntMeatProducts  MntFishProducts  \\\n",
       "0     6/16/14        0       189        104              379              111   \n",
       "1     6/15/14        0       464          5               64                7   \n",
       "2     5/13/14        0       134         11               59               15   \n",
       "3     5/11/14        0        10          0                1                0   \n",
       "4      4/8/14        0         6         16               24               11   \n",
       "\n",
       "   MntSweetProducts  MntGoldProds  NumDealsPurchases  NumWebPurchases  \\\n",
       "0               189           218                  1                4   \n",
       "1                 0            37                  1                7   \n",
       "2                 2            30                  1                3   \n",
       "3                 0             0                  1                1   \n",
       "4                 0            34                  2                3   \n",
       "\n",
       "   NumCatalogPurchases  NumStorePurchases  NumWebVisitsMonth  AcceptedCmp3  \\\n",
       "0                    4                  6                  1             0   \n",
       "1                    3                  7                  5             0   \n",
       "2                    2                  5                  2             0   \n",
       "3                    0                  2                  7             0   \n",
       "4                    1                  2                  7             1   \n",
       "\n",
       "   AcceptedCmp4  AcceptedCmp5  AcceptedCmp1  AcceptedCmp2  Response  Complain  \\\n",
       "0             0             0             0             0         1         0   \n",
       "1             0             0             0             1         1         0   \n",
       "2             0             0             0             0         0         0   \n",
       "3             0             0             0             0         0         0   \n",
       "4             0             0             0             0         1         0   \n",
       "\n",
       "  Country  \n",
       "0      SP  \n",
       "1      CA  \n",
       "2      US  \n",
       "3     AUS  \n",
       "4      SP  "
      ]
     },
     "execution_count": 4,
     "metadata": {},
     "output_type": "execute_result"
    }
   ],
   "source": [
    "df.head()"
   ]
  },
  {
   "cell_type": "markdown",
   "metadata": {
    "id": "yunQi8LeM0xR",
    "papermill": {
     "duration": 0.052937,
     "end_time": "2021-02-02T20:49:40.190820",
     "exception": false,
     "start_time": "2021-02-02T20:49:40.137883",
     "status": "completed"
    },
    "tags": []
   },
   "source": [
    "# Section 01: Exploratory Data Analysis\n",
    "\n",
    "### Are there any null values or outliers? How will you wrangle/handle them?\n",
    "\n",
    "#### Null Values\n",
    "* Identify features containing null values:"
   ]
  },
  {
   "cell_type": "code",
   "execution_count": 5,
   "metadata": {
    "_cell_guid": "79c7e3d0-c299-4dcb-8224-4455121ee9b0",
    "_kg_hide-input": true,
    "_uuid": "d629ff2d2480ee46fbb7e2d37f6b5fab8052498a",
    "colab": {
     "base_uri": "https://localhost:8080/"
    },
    "execution": {
     "iopub.execute_input": "2021-02-02T20:49:40.307065Z",
     "iopub.status.busy": "2021-02-02T20:49:40.302551Z",
     "iopub.status.idle": "2021-02-02T20:49:40.313503Z",
     "shell.execute_reply": "2021-02-02T20:49:40.312647Z"
    },
    "id": "PxCaqtRuM0xS",
    "outputId": "5f3ca601-9949-419f-bfe7-8d73cef40c11",
    "papermill": {
     "duration": 0.071817,
     "end_time": "2021-02-02T20:49:40.313669",
     "exception": false,
     "start_time": "2021-02-02T20:49:40.241852",
     "status": "completed"
    },
    "tags": []
   },
   "outputs": [
    {
     "data": {
      "text/plain": [
       "Income                 24\n",
       "ID                      0\n",
       "NumDealsPurchases       0\n",
       "Complain                0\n",
       "Response                0\n",
       "AcceptedCmp2            0\n",
       "AcceptedCmp1            0\n",
       "AcceptedCmp5            0\n",
       "AcceptedCmp4            0\n",
       "AcceptedCmp3            0\n",
       "NumWebVisitsMonth       0\n",
       "NumStorePurchases       0\n",
       "NumCatalogPurchases     0\n",
       "NumWebPurchases         0\n",
       "MntGoldProds            0\n",
       "Year_Birth              0\n",
       "MntSweetProducts        0\n",
       "MntFishProducts         0\n",
       "MntMeatProducts         0\n",
       "MntFruits               0\n",
       "MntWines                0\n",
       "Recency                 0\n",
       "Dt_Customer             0\n",
       "Teenhome                0\n",
       "Kidhome                 0\n",
       "Marital_Status          0\n",
       "Education               0\n",
       "Country                 0\n",
       "dtype: int64"
      ]
     },
     "execution_count": 5,
     "metadata": {},
     "output_type": "execute_result"
    }
   ],
   "source": [
    "# Null values\n",
    "df.isnull().sum().sort_values(ascending=False)"
   ]
  },
  {
   "cell_type": "markdown",
   "metadata": {
    "id": "OPD5zqFTM0xS",
    "papermill": {
     "duration": 0.051516,
     "end_time": "2021-02-02T20:49:40.417149",
     "exception": false,
     "start_time": "2021-02-02T20:49:40.365633",
     "status": "completed"
    },
    "tags": []
   },
   "source": [
    "* The feature `Income` contains 24 null values\n",
    "* Plot this feature to identify best strategy for imputation\n",
    "    - Findings: \n",
    "        - Most incomes are distributed between \\\\$0-\\\\$100,000, with a few outliers\n",
    "        - Will impute null values with median value, to avoid effects of outliers on imputation value"
   ]
  },
  {
   "cell_type": "code",
   "execution_count": 6,
   "metadata": {
    "_kg_hide-input": true,
    "colab": {
     "base_uri": "https://localhost:8080/",
     "height": 303
    },
    "execution": {
     "iopub.execute_input": "2021-02-02T20:49:40.528469Z",
     "iopub.status.busy": "2021-02-02T20:49:40.527529Z",
     "iopub.status.idle": "2021-02-02T20:49:41.070852Z",
     "shell.execute_reply": "2021-02-02T20:49:41.071436Z"
    },
    "id": "y-H3N7F5M0xS",
    "outputId": "657d83d8-0d2b-4a1f-a713-2e081c34f804",
    "papermill": {
     "duration": 0.602608,
     "end_time": "2021-02-02T20:49:41.071638",
     "exception": false,
     "start_time": "2021-02-02T20:49:40.469030",
     "status": "completed"
    },
    "tags": []
   },
   "outputs": [
    {
     "data": {
      "image/png": "[encoded data removed]",
      "text/plain": [
       "<Figure size 576x288 with 1 Axes>"
      ]
     },
     "metadata": {},
     "output_type": "display_data"
    }
   ],
   "source": [
    "plt.figure(figsize=(8,4))\n",
    "sns.distplot(df['Income'], kde=False, hist=True)\n",
    "plt.title('Income distribution', size=16)\n",
    "plt.ylabel('count');"
   ]
  },
  {
   "cell_type": "code",
   "execution_count": 7,
   "metadata": {
    "_kg_hide-input": true,
    "colab": {
     "base_uri": "https://localhost:8080/",
     "height": 285
    },
    "execution": {
     "iopub.execute_input": "2021-02-02T20:49:41.190565Z",
     "iopub.status.busy": "2021-02-02T20:49:41.189696Z",
     "iopub.status.idle": "2021-02-02T20:49:41.369666Z",
     "shell.execute_reply": "2021-02-02T20:49:41.368838Z"
    },
    "id": "fPupM4r_M0xT",
    "outputId": "e13b6ea7-332b-4f58-9875-3b2a5e744a9b",
    "papermill": {
     "duration": 0.242027,
     "end_time": "2021-02-02T20:49:41.369815",
     "exception": false,
     "start_time": "2021-02-02T20:49:41.127788",
     "status": "completed"
    },
    "tags": []
   },
   "outputs": [
    {
     "data": {
      "text/plain": [
       "<matplotlib.axes._subplots.AxesSubplot at 0x7f88c45ba040>"
      ]
     },
     "execution_count": 7,
     "metadata": {},
     "output_type": "execute_result"
    },
    {
     "data": {
      "image/png": "[encoded data removed]",
      "text/plain": [
       "<Figure size 216x288 with 1 Axes>"
      ]
     },
     "metadata": {},
     "output_type": "display_data"
    }
   ],
   "source": [
    "df['Income'].plot(kind='box', figsize=(3,4), patch_artist=True)"
   ]
  },
  {
   "cell_type": "markdown",
   "metadata": {
    "id": "U_V3DlTuM0xT",
    "papermill": {
     "duration": 0.052995,
     "end_time": "2021-02-02T20:49:41.479021",
     "exception": false,
     "start_time": "2021-02-02T20:49:41.426026",
     "status": "completed"
    },
    "tags": []
   },
   "source": [
    "* Impute null values in `Income`, using median value (to avoid skewing of the mean due to outliers):"
   ]
  },
  {
   "cell_type": "code",
   "execution_count": 8,
   "metadata": {
    "_kg_hide-input": false,
    "execution": {
     "iopub.execute_input": "2021-02-02T20:49:41.598071Z",
     "iopub.status.busy": "2021-02-02T20:49:41.597027Z",
     "iopub.status.idle": "2021-02-02T20:49:41.601515Z",
     "shell.execute_reply": "2021-02-02T20:49:41.600630Z"
    },
    "id": "3uA6V559M0xT",
    "papermill": {
     "duration": 0.068015,
     "end_time": "2021-02-02T20:49:41.601663",
     "exception": false,
     "start_time": "2021-02-02T20:49:41.533648",
     "status": "completed"
    },
    "tags": []
   },
   "outputs": [],
   "source": [
    "df['Income'] = df['Income'].fillna(df['Income'].median())"
   ]
  },
  {
   "cell_type": "markdown",
   "metadata": {
    "id": "zR1hiqveM0xT",
    "papermill": {
     "duration": 0.054696,
     "end_time": "2021-02-02T20:49:41.711234",
     "exception": false,
     "start_time": "2021-02-02T20:49:41.656538",
     "status": "completed"
    },
    "tags": []
   },
   "source": [
    "#### Outliers\n",
    "\n",
    "* Identify features containing outliers:\n",
    "    - Findings: Multiple features contain outliers (see boxplots below), but the only that likely indicate data entry errors are `Year_Birth <= 1900`"
   ]
  },
  {
   "cell_type": "code",
   "execution_count": 9,
   "metadata": {
    "_kg_hide-input": true,
    "colab": {
     "base_uri": "https://localhost:8080/",
     "height": 814
    },
    "execution": {
     "iopub.execute_input": "2021-02-02T20:49:41.837550Z",
     "iopub.status.busy": "2021-02-02T20:49:41.836210Z",
     "iopub.status.idle": "2021-02-02T20:49:44.007614Z",
     "shell.execute_reply": "2021-02-02T20:49:44.006877Z"
    },
    "id": "33xgWYRQM0xT",
    "outputId": "30487d68-dfeb-47a7-e7ef-cb9982bfee85",
    "papermill": {
     "duration": 2.242212,
     "end_time": "2021-02-02T20:49:44.007761",
     "exception": false,
     "start_time": "2021-02-02T20:49:41.765549",
     "status": "completed"
    },
    "tags": []
   },
   "outputs": [
    {
     "data": {
      "image/png": "[encoded data removed]",
      "text/plain": [
       "<Figure size 864x1008 with 16 Axes>"
      ]
     },
     "metadata": {},
     "output_type": "display_data"
    }
   ],
   "source": [
    "# Select columns to plot\n",
    "df_to_plot = df.drop(columns=['ID', 'AcceptedCmp1', 'AcceptedCmp2', 'AcceptedCmp3', 'AcceptedCmp4', 'AcceptedCmp5', 'Response', 'Complain']).select_dtypes(include=np.number)\n",
    "\n",
    "# Subplots\n",
    "df_to_plot.plot(subplots=True, layout=(4,4), kind='box', figsize=(12,14), patch_artist=True)\n",
    "plt.subplots_adjust(wspace=0.5);"
   ]
  },
  {
   "cell_type": "markdown",
   "metadata": {
    "id": "yw4RNJb0M0xU",
    "papermill": {
     "duration": 0.056236,
     "end_time": "2021-02-02T20:49:44.121503",
     "exception": false,
     "start_time": "2021-02-02T20:49:44.065267",
     "status": "completed"
    },
    "tags": []
   },
   "source": [
    "* Remove rows where `Year_Birth <= 1900`:"
   ]
  },
  {
   "cell_type": "code",
   "execution_count": 10,
   "metadata": {
    "_kg_hide-input": true,
    "colab": {
     "base_uri": "https://localhost:8080/",
     "height": 269
    },
    "execution": {
     "iopub.execute_input": "2021-02-02T20:49:44.242933Z",
     "iopub.status.busy": "2021-02-02T20:49:44.242186Z",
     "iopub.status.idle": "2021-02-02T20:49:44.408226Z",
     "shell.execute_reply": "2021-02-02T20:49:44.408781Z"
    },
    "id": "sw1MUBYHM0xU",
    "outputId": "4784f3a2-7848-4799-c76a-099d4aa2f0ee",
    "papermill": {
     "duration": 0.230812,
     "end_time": "2021-02-02T20:49:44.408982",
     "exception": false,
     "start_time": "2021-02-02T20:49:44.178170",
     "status": "completed"
    },
    "tags": []
   },
   "outputs": [
    {
     "data": {
      "image/png": "[encoded data removed]",
      "text/plain": [
       "<Figure size 216x288 with 1 Axes>"
      ]
     },
     "metadata": {},
     "output_type": "display_data"
    }
   ],
   "source": [
    "df = df[df['Year_Birth'] > 1900].reset_index(drop=True)\n",
    "\n",
    "plt.figure(figsize=(3,4))\n",
    "df['Year_Birth'].plot(kind='box', patch_artist=True);"
   ]
  },
  {
   "cell_type": "markdown",
   "metadata": {
    "id": "0WoyfbA-M0xV",
    "papermill": {
     "duration": 0.058609,
     "end_time": "2021-02-02T20:49:44.524405",
     "exception": false,
     "start_time": "2021-02-02T20:49:44.465796",
     "status": "completed"
    },
    "tags": []
   },
   "source": [
    "## Are there any variables that warrant transformations?\n",
    "\n",
    "* View data types:\n",
    "    - Findings: The `Dt_Customer` column should be transformed to datetime format"
   ]
  },
  {
   "cell_type": "code",
   "execution_count": 11,
   "metadata": {
    "_kg_hide-input": true,
    "colab": {
     "base_uri": "https://localhost:8080/"
    },
    "execution": {
     "iopub.execute_input": "2021-02-02T20:49:44.642511Z",
     "iopub.status.busy": "2021-02-02T20:49:44.641715Z",
     "iopub.status.idle": "2021-02-02T20:49:44.658010Z",
     "shell.execute_reply": "2021-02-02T20:49:44.658643Z"
    },
    "id": "KT9sB0yDM0xV",
    "outputId": "f26c02bf-79ef-4ffe-a442-81fad6417d92",
    "papermill": {
     "duration": 0.07771,
     "end_time": "2021-02-02T20:49:44.658838",
     "exception": false,
     "start_time": "2021-02-02T20:49:44.581128",
     "status": "completed"
    },
    "tags": []
   },
   "outputs": [
    {
     "name": "stdout",
     "output_type": "stream",
     "text": [
      "<class 'pandas.core.frame.DataFrame'>\n",
      "RangeIndex: 2237 entries, 0 to 2236\n",
      "Data columns (total 28 columns):\n",
      " #   Column               Non-Null Count  Dtype  \n",
      "---  ------               --------------  -----  \n",
      " 0   ID                   2237 non-null   int64  \n",
      " 1   Year_Birth           2237 non-null   int64  \n",
      " 2   Education            2237 non-null   object \n",
      " 3   Marital_Status       2237 non-null   object \n",
      " 4   Income               2237 non-null   float64\n",
      " 5   Kidhome              2237 non-null   int64  \n",
      " 6   Teenhome             2237 non-null   int64  \n",
      " 7   Dt_Customer          2237 non-null   object \n",
      " 8   Recency              2237 non-null   int64  \n",
      " 9   MntWines             2237 non-null   int64  \n",
      " 10  MntFruits            2237 non-null   int64  \n",
      " 11  MntMeatProducts      2237 non-null   int64  \n",
      " 12  MntFishProducts      2237 non-null   int64  \n",
      " 13  MntSweetProducts     2237 non-null   int64  \n",
      " 14  MntGoldProds         2237 non-null   int64  \n",
      " 15  NumDealsPurchases    2237 non-null   int64  \n",
      " 16  NumWebPurchases      2237 non-null   int64  \n",
      " 17  NumCatalogPurchases  2237 non-null   int64  \n",
      " 18  NumStorePurchases    2237 non-null   int64  \n",
      " 19  NumWebVisitsMonth    2237 non-null   int64  \n",
      " 20  AcceptedCmp3         2237 non-null   int64  \n",
      " 21  AcceptedCmp4         2237 non-null   int64  \n",
      " 22  AcceptedCmp5         2237 non-null   int64  \n",
      " 23  AcceptedCmp1         2237 non-null   int64  \n",
      " 24  AcceptedCmp2         2237 non-null   int64  \n",
      " 25  Response             2237 non-null   int64  \n",
      " 26  Complain             2237 non-null   int64  \n",
      " 27  Country              2237 non-null   object \n",
      "dtypes: float64(1), int64(23), object(4)\n",
      "memory usage: 489.5+ KB\n"
     ]
    }
   ],
   "source": [
    "df.info()"
   ]
  },
  {
   "cell_type": "markdown",
   "metadata": {
    "id": "jXxIJch3M0xV",
    "papermill": {
     "duration": 0.056927,
     "end_time": "2021-02-02T20:49:44.773041",
     "exception": false,
     "start_time": "2021-02-02T20:49:44.716114",
     "status": "completed"
    },
    "tags": []
   },
   "source": [
    "* Transform `Dt_Customer` to datetime:"
   ]
  },
  {
   "cell_type": "code",
   "execution_count": 12,
   "metadata": {
    "execution": {
     "iopub.execute_input": "2021-02-02T20:49:44.893857Z",
     "iopub.status.busy": "2021-02-02T20:49:44.893071Z",
     "iopub.status.idle": "2021-02-02T20:49:45.087361Z",
     "shell.execute_reply": "2021-02-02T20:49:45.087937Z"
    },
    "id": "0HTRa4TEM0xV",
    "papermill": {
     "duration": 0.257938,
     "end_time": "2021-02-02T20:49:45.088148",
     "exception": false,
     "start_time": "2021-02-02T20:49:44.830210",
     "status": "completed"
    },
    "tags": []
   },
   "outputs": [],
   "source": [
    "df['Dt_Customer'] = pd.to_datetime(df['Dt_Customer'])"
   ]
  },
  {
   "cell_type": "markdown",
   "metadata": {
    "id": "sJm7u-yQM0xW",
    "papermill": {
     "duration": 0.058215,
     "end_time": "2021-02-02T20:49:45.205320",
     "exception": false,
     "start_time": "2021-02-02T20:49:45.147105",
     "status": "completed"
    },
    "tags": []
   },
   "source": [
    "### Are there any useful variables that we can utilize with the given data?\n",
    "\n",
    "* Review a list of the feature names below, from which we can engineer:\n",
    "    - The total number of dependents in the home ('Dependents') can be engineered from the sum of 'Kidhome' and 'Teenhome'.\n",
    "    - The year of becoming a customer ('Year_Customer') can be engineered from 'Dt_Customer'.\n",
    "    - The total amount spent ('TotalMnt') can be engineered from the sum of all features containing the keyword 'Mnt'.\n",
    "    - The total purchases ('TotalPurchases') can be engineered from the sum of all features containing the keyword 'Purchases'.\n",
    "    - The total number of campains accepted ('TotalCampaignsAcc') can be engineered from the sum of all features containing the keywords 'Cmp' and 'Response' (the latest campaign)."
   ]
  },
  {
   "cell_type": "code",
   "execution_count": 13,
   "metadata": {
    "_kg_hide-input": true,
    "colab": {
     "base_uri": "https://localhost:8080/"
    },
    "execution": {
     "iopub.execute_input": "2021-02-02T20:49:45.327893Z",
     "iopub.status.busy": "2021-02-02T20:49:45.326981Z",
     "iopub.status.idle": "2021-02-02T20:49:45.331730Z",
     "shell.execute_reply": "2021-02-02T20:49:45.331115Z"
    },
    "id": "SBzY_a9IM0xW",
    "outputId": "ef83feb9-f1c6-4623-c818-799fc82332ef",
    "papermill": {
     "duration": 0.06915,
     "end_time": "2021-02-02T20:49:45.331863",
     "exception": false,
     "start_time": "2021-02-02T20:49:45.262713",
     "status": "completed"
    },
    "tags": []
   },
   "outputs": [
    {
     "data": {
      "text/plain": [
       "['ID',\n",
       " 'Year_Birth',\n",
       " 'Education',\n",
       " 'Marital_Status',\n",
       " 'Income',\n",
       " 'Kidhome',\n",
       " 'Teenhome',\n",
       " 'Dt_Customer',\n",
       " 'Recency',\n",
       " 'MntWines',\n",
       " 'MntFruits',\n",
       " 'MntMeatProducts',\n",
       " 'MntFishProducts',\n",
       " 'MntSweetProducts',\n",
       " 'MntGoldProds',\n",
       " 'NumDealsPurchases',\n",
       " 'NumWebPurchases',\n",
       " 'NumCatalogPurchases',\n",
       " 'NumStorePurchases',\n",
       " 'NumWebVisitsMonth',\n",
       " 'AcceptedCmp3',\n",
       " 'AcceptedCmp4',\n",
       " 'AcceptedCmp5',\n",
       " 'AcceptedCmp1',\n",
       " 'AcceptedCmp2',\n",
       " 'Response',\n",
       " 'Complain',\n",
       " 'Country']"
      ]
     },
     "execution_count": 13,
     "metadata": {},
     "output_type": "execute_result"
    }
   ],
   "source": [
    "list(df.columns)"
   ]
  },
  {
   "cell_type": "markdown",
   "metadata": {
    "id": "0DMyDTH2M0xW",
    "papermill": {
     "duration": 0.05701,
     "end_time": "2021-02-02T20:49:45.446711",
     "exception": false,
     "start_time": "2021-02-02T20:49:45.389701",
     "status": "completed"
    },
    "tags": []
   },
   "source": [
    "* Perform feature engingeering as outlined in notes above:"
   ]
  },
  {
   "cell_type": "code",
   "execution_count": 14,
   "metadata": {
    "colab": {
     "base_uri": "https://localhost:8080/",
     "height": 206
    },
    "execution": {
     "iopub.execute_input": "2021-02-02T20:49:45.576315Z",
     "iopub.status.busy": "2021-02-02T20:49:45.575064Z",
     "iopub.status.idle": "2021-02-02T20:49:45.599680Z",
     "shell.execute_reply": "2021-02-02T20:49:45.599036Z"
    },
    "id": "iHRfiivJM0xW",
    "outputId": "b15f9d80-0014-4956-b6c0-5e6288100dff",
    "papermill": {
     "duration": 0.095913,
     "end_time": "2021-02-02T20:49:45.599811",
     "exception": false,
     "start_time": "2021-02-02T20:49:45.503898",
     "status": "completed"
    },
    "tags": []
   },
   "outputs": [
    {
     "data": {
      "text/html": [
       "\n",
       "  <div id=\"df-d1f2109a-1bae-4e09-b205-a2850a5653fe\">\n",
       "    <div class=\"colab-df-container\">\n",
       "      <div>\n",
       "<style scoped>\n",
       "    .dataframe tbody tr th:only-of-type {\n",
       "        vertical-align: middle;\n",
       "    }\n",
       "\n",
       "    .dataframe tbody tr th {\n",
       "        vertical-align: top;\n",
       "    }\n",
       "\n",
       "    .dataframe thead th {\n",
       "        text-align: right;\n",
       "    }\n",
       "</style>\n",
       "<table border=\"1\" class=\"dataframe\">\n",
       "  <thead>\n",
       "    <tr style=\"text-align: right;\">\n",
       "      <th></th>\n",
       "      <th>ID</th>\n",
       "      <th>Dependents</th>\n",
       "      <th>Year_Customer</th>\n",
       "      <th>TotalMnt</th>\n",
       "      <th>TotalPurchases</th>\n",
       "      <th>TotalCampaignsAcc</th>\n",
       "    </tr>\n",
       "  </thead>\n",
       "  <tbody>\n",
       "    <tr>\n",
       "      <th>0</th>\n",
       "      <td>1826</td>\n",
       "      <td>0</td>\n",
       "      <td>2014</td>\n",
       "      <td>1190</td>\n",
       "      <td>15</td>\n",
       "      <td>1</td>\n",
       "    </tr>\n",
       "    <tr>\n",
       "      <th>1</th>\n",
       "      <td>1</td>\n",
       "      <td>0</td>\n",
       "      <td>2014</td>\n",
       "      <td>577</td>\n",
       "      <td>18</td>\n",
       "      <td>2</td>\n",
       "    </tr>\n",
       "    <tr>\n",
       "      <th>2</th>\n",
       "      <td>10476</td>\n",
       "      <td>1</td>\n",
       "      <td>2014</td>\n",
       "      <td>251</td>\n",
       "      <td>11</td>\n",
       "      <td>0</td>\n",
       "    </tr>\n",
       "    <tr>\n",
       "      <th>3</th>\n",
       "      <td>1386</td>\n",
       "      <td>2</td>\n",
       "      <td>2014</td>\n",
       "      <td>11</td>\n",
       "      <td>4</td>\n",
       "      <td>0</td>\n",
       "    </tr>\n",
       "    <tr>\n",
       "      <th>4</th>\n",
       "      <td>5371</td>\n",
       "      <td>1</td>\n",
       "      <td>2014</td>\n",
       "      <td>91</td>\n",
       "      <td>8</td>\n",
       "      <td>2</td>\n",
       "    </tr>\n",
       "  </tbody>\n",
       "</table>\n",
       "</div>\n",
       "      <button class=\"colab-df-convert\" onclick=\"convertToInteractive('df-d1f2109a-1bae-4e09-b205-a2850a5653fe')\"\n",
       "              title=\"Convert this dataframe to an interactive table.\"\n",
       "              style=\"display:none;\">\n",
       "        \n",
       "  <svg xmlns=\"http://www.w3.org/2000/svg\" height=\"24px\"viewBox=\"0 0 24 24\"\n",
       "       width=\"24px\">\n",
       "    <path d=\"M0 0h24v24H0V0z\" fill=\"none\"/>\n",
       "    <path d=\"M18.56 5.44l.94 2.06.94-2.06 2.06-.94-2.06-.94-.94-2.06-.94 2.06-2.06.94zm-11 1L8.5 8.5l.94-2.06 2.06-.94-2.06-.94L8.5 2.5l-.94 2.06-2.06.94zm10 10l.94 2.06.94-2.06 2.06-.94-2.06-.94-.94-2.06-.94 2.06-2.06.94z\"/><path d=\"M17.41 7.96l-1.37-1.37c-.4-.4-.92-.59-1.43-.59-.52 0-1.04.2-1.43.59L10.3 9.45l-7.72 7.72c-.78.78-.78 2.05 0 2.83L4 21.41c.39.39.9.59 1.41.59.51 0 1.02-.2 1.41-.59l7.78-7.78 2.81-2.81c.8-.78.8-2.07 0-2.86zM5.41 20L4 18.59l7.72-7.72 1.47 1.35L5.41 20z\"/>\n",
       "  </svg>\n",
       "      </button>\n",
       "      \n",
       "  <style>\n",
       "    .colab-df-container {\n",
       "      display:flex;\n",
       "      flex-wrap:wrap;\n",
       "      gap: 12px;\n",
       "    }\n",
       "\n",
       "    .colab-df-convert {\n",
       "      background-color: #E8F0FE;\n",
       "      border: none;\n",
       "      border-radius: 50%;\n",
       "      cursor: pointer;\n",
       "      display: none;\n",
       "      fill: #1967D2;\n",
       "      height: 32px;\n",
       "      padding: 0 0 0 0;\n",
       "      width: 32px;\n",
       "    }\n",
       "\n",
       "    .colab-df-convert:hover {\n",
       "      background-color: #E2EBFA;\n",
       "      box-shadow: 0px 1px 2px rgba(60, 64, 67, 0.3), 0px 1px 3px 1px rgba(60, 64, 67, 0.15);\n",
       "      fill: #174EA6;\n",
       "    }\n",
       "\n",
       "    [theme=dark] .colab-df-convert {\n",
       "      background-color: #3B4455;\n",
       "      fill: #D2E3FC;\n",
       "    }\n",
       "\n",
       "    [theme=dark] .colab-df-convert:hover {\n",
       "      background-color: #434B5C;\n",
       "      box-shadow: 0px 1px 3px 1px rgba(0, 0, 0, 0.15);\n",
       "      filter: drop-shadow(0px 1px 2px rgba(0, 0, 0, 0.3));\n",
       "      fill: #FFFFFF;\n",
       "    }\n",
       "  </style>\n",
       "\n",
       "      <script>\n",
       "        const buttonEl =\n",
       "          document.querySelector('#df-d1f2109a-1bae-4e09-b205-a2850a5653fe button.colab-df-convert');\n",
       "        buttonEl.style.display =\n",
       "          google.colab.kernel.accessAllowed ? 'block' : 'none';\n",
       "\n",
       "        async function convertToInteractive(key) {\n",
       "          const element = document.querySelector('#df-d1f2109a-1bae-4e09-b205-a2850a5653fe');\n",
       "          const dataTable =\n",
       "            await google.colab.kernel.invokeFunction('convertToInteractive',\n",
       "                                                     [key], {});\n",
       "          if (!dataTable) return;\n",
       "\n",
       "          const docLinkHtml = 'Like what you see? Visit the ' +\n",
       "            '<a target=\"_blank\" href=https://colab.research.google.com/notebooks/data_table.ipynb>data table notebook</a>'\n",
       "            + ' to learn more about interactive tables.';\n",
       "          element.innerHTML = '';\n",
       "          dataTable['output_type'] = 'display_data';\n",
       "          await google.colab.output.renderOutput(dataTable, element);\n",
       "          const docLink = document.createElement('div');\n",
       "          docLink.innerHTML = docLinkHtml;\n",
       "          element.appendChild(docLink);\n",
       "        }\n",
       "      </script>\n",
       "    </div>\n",
       "  </div>\n",
       "  "
      ],
      "text/plain": [
       "      ID  Dependents  Year_Customer  TotalMnt  TotalPurchases  \\\n",
       "0   1826           0           2014      1190              15   \n",
       "1      1           0           2014       577              18   \n",
       "2  10476           1           2014       251              11   \n",
       "3   1386           2           2014        11               4   \n",
       "4   5371           1           2014        91               8   \n",
       "\n",
       "   TotalCampaignsAcc  \n",
       "0                  1  \n",
       "1                  2  \n",
       "2                  0  \n",
       "3                  0  \n",
       "4                  2  "
      ]
     },
     "execution_count": 14,
     "metadata": {},
     "output_type": "execute_result"
    }
   ],
   "source": [
    "# Dependents\n",
    "df['Dependents'] = df['Kidhome'] + df['Teenhome']\n",
    "\n",
    "# Year becoming a Customer\n",
    "df['Year_Customer'] = pd.DatetimeIndex(df['Dt_Customer']).year\n",
    "\n",
    "# Total Amount Spent\n",
    "mnt_cols = [col for col in df.columns if 'Mnt' in col]\n",
    "df['TotalMnt'] = df[mnt_cols].sum(axis=1)\n",
    "\n",
    "# Total Purchases\n",
    "purchases_cols = [col for col in df.columns if 'Purchases' in col]\n",
    "df['TotalPurchases'] = df[purchases_cols].sum(axis=1)\n",
    "\n",
    "# Total Campaigns Accepted\n",
    "campaigns_cols = [col for col in df.columns if 'Cmp' in col] + ['Response'] # 'Response' is for the latest campaign\n",
    "df['TotalCampaignsAcc'] = df[campaigns_cols].sum(axis=1)\n",
    "\n",
    "# View new features, by Customer ID\n",
    "df[['ID', 'Dependents', 'Year_Customer', 'TotalMnt', 'TotalPurchases', 'TotalCampaignsAcc']].head()"
   ]
  },
  {
   "cell_type": "markdown",
   "metadata": {
    "id": "DV2gXUvrM0xX",
    "papermill": {
     "duration": 0.057921,
     "end_time": "2021-02-02T20:49:45.716544",
     "exception": false,
     "start_time": "2021-02-02T20:49:45.658623",
     "status": "completed"
    },
    "tags": []
   },
   "source": [
    "### Do you notice any patterns or anomalies in the data? Can you plot them?\n",
    "\n",
    "* To identify patterns, we will first identify feature correlations. Positive correlations between features appear red, negative correlations appear blue, and no correlation appears grey in the clustered heatmap below.\n",
    "* From this heatmap we can observe the following clusters of correlated features:\n",
    "    - The **\"High Income\"** cluster:\n",
    "        - Amount spent ('TotalMnt' and other 'Mnt' features) and number of purchases ('TotalPurchases' and other 'Num...Purchases' features) are positively correlated with 'Income'\n",
    "        - Purchasing in store, on the web, or via the catalog ('NumStorePurchases', 'NumWebPurchases', 'NumCatalogPurchases') is positively correlated with 'Income'\n",
    "    - The **\"Have Kids & Teens\"** cluster:\n",
    "        - Amount spent ('TotalMnt' and other 'Mnt' features) and number of purchases ('TotalPurchases' and other 'Num...Purchases' features) are negatively correlated with 'Dependents' (with a stronger effect from kids *vs.* teens)\n",
    "        - Purchasing deals ('NumDealsPurchases') is positively correlated with 'Dependents' (kids and/or teens) and negatively correlated with 'Income'\n",
    "    - The **\"Advertising Campaigns\"** cluster:\n",
    "        - Acceptance of the advertising campaigns ('AcceptedCmp' and 'Response') are strongly positively correlated with each other\n",
    "        - Weak positive correlation of the advertising campaigns is seen with the \"High Income\" cluster, and weak negative correlation is seen with the \"Have Kids & Teens\" cluster\n",
    "* Anomalies:\n",
    "    - Surprisingly, the number of website visits in the last month ('NumWebVisitsMonth') does not correlate with an increased number of web purchases ('NumWebPurchases')\n",
    "    - Instead, 'NumWebVisitsMonth' is positively correlated with the number of deals purchased ('NumDealsPurchases'), suggesting that  suggesting that deals are an effective way of stimulating purchases on the website"
   ]
  },
  {
   "cell_type": "markdown",
   "metadata": {
    "id": "N3tbk3JVM0xX"
   },
   "source": [
    "#### Calculate correlation matrix"
   ]
  },
  {
   "cell_type": "code",
   "execution_count": 15,
   "metadata": {
    "_kg_hide-input": true,
    "colab": {
     "base_uri": "https://localhost:8080/",
     "height": 728
    },
    "execution": {
     "iopub.execute_input": "2021-02-02T20:49:45.847545Z",
     "iopub.status.busy": "2021-02-02T20:49:45.843772Z",
     "iopub.status.idle": "2021-02-02T20:49:47.427906Z",
     "shell.execute_reply": "2021-02-02T20:49:47.425726Z"
    },
    "id": "OKKkiEMiM0xX",
    "outputId": "73518447-f4f5-4ca0-c0ad-0352e2b2cef7",
    "papermill": {
     "duration": 1.65218,
     "end_time": "2021-02-02T20:49:47.428165",
     "exception": false,
     "start_time": "2021-02-02T20:49:45.775985",
     "status": "completed"
    },
    "tags": []
   },
   "outputs": [
    {
     "data": {
      "image/png": "[encoded data removed]",
      "text/plain": [
       "<Figure size 720x720 with 4 Axes>"
      ]
     },
     "metadata": {},
     "output_type": "display_data"
    }
   ],
   "source": [
    "## Using non-parametric test of correlation (kendall), since some features are binary\n",
    "corrs = df.drop(columns='ID').select_dtypes(include=np.number).corr(method = 'kendall')\n",
    "\n",
    "# Plot clustered heatmap of correlations\n",
    "sns.clustermap(corrs, cbar_pos=(-0.05, 0.8, 0.05, 0.18), cmap='coolwarm', center=0);"
   ]
  },
  {
   "cell_type": "markdown",
   "metadata": {
    "id": "uNMLuFQRM0xY",
    "papermill": {
     "duration": 0.076489,
     "end_time": "2021-02-02T20:49:47.573986",
     "exception": false,
     "start_time": "2021-02-02T20:49:47.497497",
     "status": "completed"
    },
    "tags": []
   },
   "source": [
    "* Plot illustrating the effect of high income on spending:\n",
    "\n",
    "Note: For the purposes of this plot, limiting income to < 200000 to remove outlier"
   ]
  },
  {
   "cell_type": "code",
   "execution_count": 16,
   "metadata": {
    "_kg_hide-input": true,
    "colab": {
     "base_uri": "https://localhost:8080/",
     "height": 365
    },
    "execution": {
     "iopub.execute_input": "2021-02-02T20:49:47.717350Z",
     "iopub.status.busy": "2021-02-02T20:49:47.716102Z",
     "iopub.status.idle": "2021-02-02T20:49:48.475755Z",
     "shell.execute_reply": "2021-02-02T20:49:48.475129Z"
    },
    "id": "HNLhOQLvM0xY",
    "outputId": "dfa000ac-4036-4e70-c58c-e359a8ee133c",
    "papermill": {
     "duration": 0.834196,
     "end_time": "2021-02-02T20:49:48.475899",
     "exception": false,
     "start_time": "2021-02-02T20:49:47.641703",
     "status": "completed"
    },
    "tags": []
   },
   "outputs": [
    {
     "data": {
      "image/png": "[encoded data removed]",
      "text/plain": [
       "<Figure size 360x360 with 1 Axes>"
      ]
     },
     "metadata": {},
     "output_type": "display_data"
    }
   ],
   "source": [
    "sns.lmplot(x='Income', y='TotalMnt', data=df[df['Income'] < 200000]);"
   ]
  },
  {
   "cell_type": "markdown",
   "metadata": {
    "id": "qv_Ks_lnM0xY",
    "papermill": {
     "duration": 0.066127,
     "end_time": "2021-02-02T20:49:48.605361",
     "exception": false,
     "start_time": "2021-02-02T20:49:48.539234",
     "status": "completed"
    },
    "tags": []
   },
   "source": [
    "* Plot illustrating negative effect of having dependents (kids & teens) on spending:"
   ]
  },
  {
   "cell_type": "code",
   "execution_count": 17,
   "metadata": {
    "_kg_hide-input": true,
    "colab": {
     "base_uri": "https://localhost:8080/",
     "height": 285
    },
    "execution": {
     "iopub.execute_input": "2021-02-02T20:49:48.738568Z",
     "iopub.status.busy": "2021-02-02T20:49:48.737841Z",
     "iopub.status.idle": "2021-02-02T20:49:48.943131Z",
     "shell.execute_reply": "2021-02-02T20:49:48.942379Z"
    },
    "id": "ySH30Y5dM0xY",
    "outputId": "6fc045a2-01b8-4f0e-cc52-b4b1f0092988",
    "papermill": {
     "duration": 0.27561,
     "end_time": "2021-02-02T20:49:48.943301",
     "exception": false,
     "start_time": "2021-02-02T20:49:48.667691",
     "status": "completed"
    },
    "tags": []
   },
   "outputs": [
    {
     "data": {
      "image/png": "[encoded data removed]",
      "text/plain": [
       "<Figure size 288x288 with 1 Axes>"
      ]
     },
     "metadata": {},
     "output_type": "display_data"
    }
   ],
   "source": [
    "plt.figure(figsize=(4,4))\n",
    "sns.boxplot(x='Dependents', y='TotalMnt', data=df);"
   ]
  },
  {
   "cell_type": "markdown",
   "metadata": {
    "id": "TfG1I1b0M0xZ",
    "papermill": {
     "duration": 0.063021,
     "end_time": "2021-02-02T20:49:49.072335",
     "exception": false,
     "start_time": "2021-02-02T20:49:49.009314",
     "status": "completed"
    },
    "tags": []
   },
   "source": [
    "* Plot illustrating positive effect of having dependents (kids & teens) on number of deals purchased:"
   ]
  },
  {
   "cell_type": "code",
   "execution_count": 18,
   "metadata": {
    "_kg_hide-input": true,
    "colab": {
     "base_uri": "https://localhost:8080/",
     "height": 285
    },
    "execution": {
     "iopub.execute_input": "2021-02-02T20:49:49.220372Z",
     "iopub.status.busy": "2021-02-02T20:49:49.212456Z",
     "iopub.status.idle": "2021-02-02T20:49:49.431527Z",
     "shell.execute_reply": "2021-02-02T20:49:49.430705Z"
    },
    "id": "JJ0jTnc5M0xZ",
    "outputId": "3b003c67-f11e-4940-fcec-6ebeca4d2a5d",
    "papermill": {
     "duration": 0.293234,
     "end_time": "2021-02-02T20:49:49.431679",
     "exception": false,
     "start_time": "2021-02-02T20:49:49.138445",
     "status": "completed"
    },
    "tags": []
   },
   "outputs": [
    {
     "data": {
      "image/png": "[encoded data removed]",
      "text/plain": [
       "<Figure size 288x288 with 1 Axes>"
      ]
     },
     "metadata": {},
     "output_type": "display_data"
    }
   ],
   "source": [
    "plt.figure(figsize=(4,4))\n",
    "sns.boxplot(x='Dependents', y='NumDealsPurchases', data=df);"
   ]
  },
  {
   "cell_type": "markdown",
   "metadata": {
    "id": "-s5IgH9RM0xZ",
    "papermill": {
     "duration": 0.06489,
     "end_time": "2021-02-02T20:49:49.561842",
     "exception": false,
     "start_time": "2021-02-02T20:49:49.496952",
     "status": "completed"
    },
    "tags": []
   },
   "source": [
    "* Plots illustrating the positive effect of income and negative effect of having kids & teens on advertising campaign acceptance:\n",
    "\n",
    "Note: For the purposes of the following plot, limiting income to < 200000 to remove outlier"
   ]
  },
  {
   "cell_type": "code",
   "execution_count": 19,
   "metadata": {
    "_kg_hide-input": true,
    "colab": {
     "base_uri": "https://localhost:8080/",
     "height": 285
    },
    "execution": {
     "iopub.execute_input": "2021-02-02T20:49:49.706095Z",
     "iopub.status.busy": "2021-02-02T20:49:49.702220Z",
     "iopub.status.idle": "2021-02-02T20:49:50.162593Z",
     "shell.execute_reply": "2021-02-02T20:49:50.161810Z"
    },
    "id": "GWZC8MmnM0xZ",
    "outputId": "6db4e5e8-b76b-4cf2-9529-d677919ed0fd",
    "papermill": {
     "duration": 0.535173,
     "end_time": "2021-02-02T20:49:50.162728",
     "exception": false,
     "start_time": "2021-02-02T20:49:49.627555",
     "status": "completed"
    },
    "tags": []
   },
   "outputs": [
    {
     "data": {
      "image/png": "[encoded data removed]",
      "text/plain": [
       "<Figure size 396x288 with 1 Axes>"
      ]
     },
     "metadata": {},
     "output_type": "display_data"
    }
   ],
   "source": [
    "plt.figure(figsize=(5.5,4))\n",
    "sns.boxplot(x='TotalCampaignsAcc', y='Income', data=df[df['Income']<200000]);"
   ]
  },
  {
   "cell_type": "code",
   "execution_count": 20,
   "metadata": {
    "_kg_hide-input": true,
    "colab": {
     "base_uri": "https://localhost:8080/",
     "height": 285
    },
    "execution": {
     "iopub.execute_input": "2021-02-02T20:49:50.307161Z",
     "iopub.status.busy": "2021-02-02T20:49:50.302592Z",
     "iopub.status.idle": "2021-02-02T20:49:50.566405Z",
     "shell.execute_reply": "2021-02-02T20:49:50.565652Z"
    },
    "id": "_akftcjPM0xa",
    "outputId": "289a2f80-f6ae-41ff-8b59-d96d134ff001",
    "papermill": {
     "duration": 0.337711,
     "end_time": "2021-02-02T20:49:50.566540",
     "exception": false,
     "start_time": "2021-02-02T20:49:50.228829",
     "status": "completed"
    },
    "tags": []
   },
   "outputs": [
    {
     "data": {
      "image/png": "[encoded data removed]",
      "text/plain": [
       "<Figure size 396x288 with 1 Axes>"
      ]
     },
     "metadata": {},
     "output_type": "display_data"
    }
   ],
   "source": [
    "plt.figure(figsize=(5.5,4))\n",
    "sns.boxplot(x='TotalCampaignsAcc', y='Dependents', data=df);"
   ]
  },
  {
   "cell_type": "markdown",
   "metadata": {
    "id": "jRsCHtk4M0xa",
    "papermill": {
     "duration": 0.068024,
     "end_time": "2021-02-02T20:49:50.700601",
     "exception": false,
     "start_time": "2021-02-02T20:49:50.632577",
     "status": "completed"
    },
    "tags": []
   },
   "source": [
    "* Investigate anomaly: \n",
    "    - Number of web visits in the last month is not positively correlated with number of web purchases\n",
    "    - Instead, it is positively correlated with the number of deals purchased, suggesting that deals are an effective way of stimulating purchases on the website"
   ]
  },
  {
   "cell_type": "code",
   "execution_count": 21,
   "metadata": {
    "_kg_hide-input": true,
    "colab": {
     "base_uri": "https://localhost:8080/",
     "height": 365
    },
    "execution": {
     "iopub.execute_input": "2021-02-02T20:49:50.851890Z",
     "iopub.status.busy": "2021-02-02T20:49:50.845414Z",
     "iopub.status.idle": "2021-02-02T20:49:51.555604Z",
     "shell.execute_reply": "2021-02-02T20:49:51.553591Z"
    },
    "id": "p2n5AScDM0xa",
    "outputId": "cdb21cfa-2b42-4a14-8100-8798b10ea4aa",
    "papermill": {
     "duration": 0.786112,
     "end_time": "2021-02-02T20:49:51.555773",
     "exception": false,
     "start_time": "2021-02-02T20:49:50.769661",
     "status": "completed"
    },
    "tags": []
   },
   "outputs": [
    {
     "data": {
      "image/png": "[encoded data removed]",
      "text/plain": [
       "<Figure size 360x360 with 1 Axes>"
      ]
     },
     "metadata": {},
     "output_type": "display_data"
    }
   ],
   "source": [
    "sns.lmplot(x='NumWebVisitsMonth', y='NumWebPurchases', data=df);"
   ]
  },
  {
   "cell_type": "code",
   "execution_count": 22,
   "metadata": {
    "_kg_hide-input": true,
    "colab": {
     "base_uri": "https://localhost:8080/",
     "height": 365
    },
    "execution": {
     "iopub.execute_input": "2021-02-02T20:49:51.737980Z",
     "iopub.status.busy": "2021-02-02T20:49:51.737124Z",
     "iopub.status.idle": "2021-02-02T20:49:52.444789Z",
     "shell.execute_reply": "2021-02-02T20:49:52.445425Z"
    },
    "id": "EZQAnsxGM0xa",
    "outputId": "570db96c-634e-49ac-d7bf-43bd12788861",
    "papermill": {
     "duration": 0.803933,
     "end_time": "2021-02-02T20:49:52.445646",
     "exception": false,
     "start_time": "2021-02-02T20:49:51.641713",
     "status": "completed"
    },
    "tags": []
   },
   "outputs": [
    {
     "data": {
      "image/png": "[encoded data removed]",
      "text/plain": [
       "<Figure size 360x360 with 1 Axes>"
      ]
     },
     "metadata": {},
     "output_type": "display_data"
    }
   ],
   "source": [
    "sns.lmplot(x='NumWebVisitsMonth', y='NumDealsPurchases', data=df);"
   ]
  },
  {
   "cell_type": "markdown",
   "metadata": {
    "id": "kjrC6t6FM0xa",
    "papermill": {
     "duration": 0.068756,
     "end_time": "2021-02-02T20:49:52.583514",
     "exception": false,
     "start_time": "2021-02-02T20:49:52.514758",
     "status": "completed"
    },
    "tags": []
   },
   "source": [
    "# Section 02: Statistical Analysis\n",
    "\n",
    "Run statistical tests in the form of regressions to answer these questions & propose data-driven action recommendations to your CMO. Make sure to interpret your results with non-statistical jargon so your CMO can understand your findings. \n",
    "\n",
    "### What factors are significantly related to the number of store purchases?  \n",
    "\n",
    "* We will use use a linear regression model with `NumStorePurchases` as the target variable, and then use machine learning explainability techniques to get insights about which features predict the number of store purchases\n",
    "* Begin by plotting the target variable:"
   ]
  },
  {
   "cell_type": "code",
   "execution_count": 23,
   "metadata": {
    "_kg_hide-input": true,
    "colab": {
     "base_uri": "https://localhost:8080/",
     "height": 248
    },
    "execution": {
     "iopub.execute_input": "2021-02-02T20:49:52.727117Z",
     "iopub.status.busy": "2021-02-02T20:49:52.726316Z",
     "iopub.status.idle": "2021-02-02T20:49:53.056963Z",
     "shell.execute_reply": "2021-02-02T20:49:53.057824Z"
    },
    "id": "-pmVmzU_M0xb",
    "outputId": "d6394402-e5f1-4dbd-8443-53fa6145da41",
    "papermill": {
     "duration": 0.405734,
     "end_time": "2021-02-02T20:49:53.058162",
     "exception": false,
     "start_time": "2021-02-02T20:49:52.652428",
     "status": "completed"
    },
    "tags": []
   },
   "outputs": [
    {
     "data": {
      "image/png": "[encoded data removed]",
      "text/plain": [
       "<Figure size 576x216 with 1 Axes>"
      ]
     },
     "metadata": {},
     "output_type": "display_data"
    }
   ],
   "source": [
    "plt.figure(figsize=(8,3))\n",
    "sns.distplot(df['NumStorePurchases'], kde=False, hist=True, bins=12)\n",
    "plt.title('NumStorePurchases distribution', size=16)\n",
    "plt.ylabel('count');"
   ]
  },
  {
   "cell_type": "markdown",
   "metadata": {
    "id": "yGfn2uZnM0xb",
    "papermill": {
     "duration": 0.074723,
     "end_time": "2021-02-02T20:49:53.204817",
     "exception": false,
     "start_time": "2021-02-02T20:49:53.130094",
     "status": "completed"
    },
    "tags": []
   },
   "source": [
    "* Drop uninformative features\n",
    "    - `ID` is unique to each customer\n",
    "    - `Dt_Customer` will be dropped in favor of using engineered variable `Year_Customer`\n",
    "* Perform one-hot encoding of categorical features, encoded data shown below:"
   ]
  },
  {
   "cell_type": "code",
   "execution_count": 24,
   "metadata": {
    "_kg_hide-input": true,
    "execution": {
     "iopub.execute_input": "2021-02-02T20:49:53.353246Z",
     "iopub.status.busy": "2021-02-02T20:49:53.352473Z",
     "iopub.status.idle": "2021-02-02T20:49:53.361062Z",
     "shell.execute_reply": "2021-02-02T20:49:53.360391Z"
    },
    "id": "AaHTJMKgM0xb",
    "papermill": {
     "duration": 0.083482,
     "end_time": "2021-02-02T20:49:53.361223",
     "exception": false,
     "start_time": "2021-02-02T20:49:53.277741",
     "status": "completed"
    },
    "tags": []
   },
   "outputs": [],
   "source": [
    "# Drop unique ID\n",
    "df.drop(columns=['ID', 'Dt_Customer'], inplace=True)"
   ]
  },
  {
   "cell_type": "code",
   "execution_count": 25,
   "metadata": {
    "_kg_hide-input": true,
    "colab": {
     "base_uri": "https://localhost:8080/",
     "height": 374
    },
    "execution": {
     "iopub.execute_input": "2021-02-02T20:49:53.512104Z",
     "iopub.status.busy": "2021-02-02T20:49:53.511392Z",
     "iopub.status.idle": "2021-02-02T20:49:53.658538Z",
     "shell.execute_reply": "2021-02-02T20:49:53.657926Z"
    },
    "id": "2ksMkoNyM0xb",
    "outputId": "e0b6e9a2-6a40-4721-a12c-695947afedb8",
    "papermill": {
     "duration": 0.227518,
     "end_time": "2021-02-02T20:49:53.658684",
     "exception": false,
     "start_time": "2021-02-02T20:49:53.431166",
     "status": "completed"
    },
    "tags": []
   },
   "outputs": [
    {
     "name": "stdout",
     "output_type": "stream",
     "text": [
      "Number of unique values per categorical feature:\n",
      " Education         5\n",
      "Marital_Status    8\n",
      "Country           8\n",
      "dtype: int64\n"
     ]
    },
    {
     "data": {
      "text/html": [
       "\n",
       "  <div id=\"df-dbfd5d5b-a9cb-4da0-b43d-7056785e27c2\">\n",
       "    <div class=\"colab-df-container\">\n",
       "      <div>\n",
       "<style scoped>\n",
       "    .dataframe tbody tr th:only-of-type {\n",
       "        vertical-align: middle;\n",
       "    }\n",
       "\n",
       "    .dataframe tbody tr th {\n",
       "        vertical-align: top;\n",
       "    }\n",
       "\n",
       "    .dataframe thead th {\n",
       "        text-align: right;\n",
       "    }\n",
       "</style>\n",
       "<table border=\"1\" class=\"dataframe\">\n",
       "  <thead>\n",
       "    <tr style=\"text-align: right;\">\n",
       "      <th></th>\n",
       "      <th>Education_2n Cycle</th>\n",
       "      <th>Education_Basic</th>\n",
       "      <th>Education_Graduation</th>\n",
       "      <th>Education_Master</th>\n",
       "      <th>Education_PhD</th>\n",
       "      <th>Marital_Status_Absurd</th>\n",
       "      <th>Marital_Status_Alone</th>\n",
       "      <th>Marital_Status_Divorced</th>\n",
       "      <th>Marital_Status_Married</th>\n",
       "      <th>Marital_Status_Single</th>\n",
       "      <th>Marital_Status_Together</th>\n",
       "      <th>Marital_Status_Widow</th>\n",
       "      <th>Marital_Status_YOLO</th>\n",
       "      <th>Country_AUS</th>\n",
       "      <th>Country_CA</th>\n",
       "      <th>Country_GER</th>\n",
       "      <th>Country_IND</th>\n",
       "      <th>Country_ME</th>\n",
       "      <th>Country_SA</th>\n",
       "      <th>Country_SP</th>\n",
       "      <th>Country_US</th>\n",
       "      <th>Year_Birth</th>\n",
       "      <th>Income</th>\n",
       "      <th>Kidhome</th>\n",
       "      <th>Teenhome</th>\n",
       "      <th>Recency</th>\n",
       "      <th>MntWines</th>\n",
       "      <th>MntFruits</th>\n",
       "      <th>MntMeatProducts</th>\n",
       "      <th>MntFishProducts</th>\n",
       "      <th>MntSweetProducts</th>\n",
       "      <th>MntGoldProds</th>\n",
       "      <th>NumDealsPurchases</th>\n",
       "      <th>NumWebPurchases</th>\n",
       "      <th>NumCatalogPurchases</th>\n",
       "      <th>NumStorePurchases</th>\n",
       "      <th>NumWebVisitsMonth</th>\n",
       "      <th>AcceptedCmp3</th>\n",
       "      <th>AcceptedCmp4</th>\n",
       "      <th>AcceptedCmp5</th>\n",
       "      <th>AcceptedCmp1</th>\n",
       "      <th>AcceptedCmp2</th>\n",
       "      <th>Response</th>\n",
       "      <th>Complain</th>\n",
       "      <th>Dependents</th>\n",
       "      <th>Year_Customer</th>\n",
       "      <th>TotalMnt</th>\n",
       "      <th>TotalPurchases</th>\n",
       "      <th>TotalCampaignsAcc</th>\n",
       "    </tr>\n",
       "  </thead>\n",
       "  <tbody>\n",
       "    <tr>\n",
       "      <th>0</th>\n",
       "      <td>0.0</td>\n",
       "      <td>0.0</td>\n",
       "      <td>1.0</td>\n",
       "      <td>0.0</td>\n",
       "      <td>0.0</td>\n",
       "      <td>0.0</td>\n",
       "      <td>0.0</td>\n",
       "      <td>1.0</td>\n",
       "      <td>0.0</td>\n",
       "      <td>0.0</td>\n",
       "      <td>0.0</td>\n",
       "      <td>0.0</td>\n",
       "      <td>0.0</td>\n",
       "      <td>0.0</td>\n",
       "      <td>0.0</td>\n",
       "      <td>0.0</td>\n",
       "      <td>0.0</td>\n",
       "      <td>0.0</td>\n",
       "      <td>0.0</td>\n",
       "      <td>1.0</td>\n",
       "      <td>0.0</td>\n",
       "      <td>1970</td>\n",
       "      <td>84835.0</td>\n",
       "      <td>0</td>\n",
       "      <td>0</td>\n",
       "      <td>0</td>\n",
       "      <td>189</td>\n",
       "      <td>104</td>\n",
       "      <td>379</td>\n",
       "      <td>111</td>\n",
       "      <td>189</td>\n",
       "      <td>218</td>\n",
       "      <td>1</td>\n",
       "      <td>4</td>\n",
       "      <td>4</td>\n",
       "      <td>6</td>\n",
       "      <td>1</td>\n",
       "      <td>0</td>\n",
       "      <td>0</td>\n",
       "      <td>0</td>\n",
       "      <td>0</td>\n",
       "      <td>0</td>\n",
       "      <td>1</td>\n",
       "      <td>0</td>\n",
       "      <td>0</td>\n",
       "      <td>2014</td>\n",
       "      <td>1190</td>\n",
       "      <td>15</td>\n",
       "      <td>1</td>\n",
       "    </tr>\n",
       "    <tr>\n",
       "      <th>1</th>\n",
       "      <td>0.0</td>\n",
       "      <td>0.0</td>\n",
       "      <td>1.0</td>\n",
       "      <td>0.0</td>\n",
       "      <td>0.0</td>\n",
       "      <td>0.0</td>\n",
       "      <td>0.0</td>\n",
       "      <td>0.0</td>\n",
       "      <td>0.0</td>\n",
       "      <td>1.0</td>\n",
       "      <td>0.0</td>\n",
       "      <td>0.0</td>\n",
       "      <td>0.0</td>\n",
       "      <td>0.0</td>\n",
       "      <td>1.0</td>\n",
       "      <td>0.0</td>\n",
       "      <td>0.0</td>\n",
       "      <td>0.0</td>\n",
       "      <td>0.0</td>\n",
       "      <td>0.0</td>\n",
       "      <td>0.0</td>\n",
       "      <td>1961</td>\n",
       "      <td>57091.0</td>\n",
       "      <td>0</td>\n",
       "      <td>0</td>\n",
       "      <td>0</td>\n",
       "      <td>464</td>\n",
       "      <td>5</td>\n",
       "      <td>64</td>\n",
       "      <td>7</td>\n",
       "      <td>0</td>\n",
       "      <td>37</td>\n",
       "      <td>1</td>\n",
       "      <td>7</td>\n",
       "      <td>3</td>\n",
       "      <td>7</td>\n",
       "      <td>5</td>\n",
       "      <td>0</td>\n",
       "      <td>0</td>\n",
       "      <td>0</td>\n",
       "      <td>0</td>\n",
       "      <td>1</td>\n",
       "      <td>1</td>\n",
       "      <td>0</td>\n",
       "      <td>0</td>\n",
       "      <td>2014</td>\n",
       "      <td>577</td>\n",
       "      <td>18</td>\n",
       "      <td>2</td>\n",
       "    </tr>\n",
       "    <tr>\n",
       "      <th>2</th>\n",
       "      <td>0.0</td>\n",
       "      <td>0.0</td>\n",
       "      <td>1.0</td>\n",
       "      <td>0.0</td>\n",
       "      <td>0.0</td>\n",
       "      <td>0.0</td>\n",
       "      <td>0.0</td>\n",
       "      <td>0.0</td>\n",
       "      <td>1.0</td>\n",
       "      <td>0.0</td>\n",
       "      <td>0.0</td>\n",
       "      <td>0.0</td>\n",
       "      <td>0.0</td>\n",
       "      <td>0.0</td>\n",
       "      <td>0.0</td>\n",
       "      <td>0.0</td>\n",
       "      <td>0.0</td>\n",
       "      <td>0.0</td>\n",
       "      <td>0.0</td>\n",
       "      <td>0.0</td>\n",
       "      <td>1.0</td>\n",
       "      <td>1958</td>\n",
       "      <td>67267.0</td>\n",
       "      <td>0</td>\n",
       "      <td>1</td>\n",
       "      <td>0</td>\n",
       "      <td>134</td>\n",
       "      <td>11</td>\n",
       "      <td>59</td>\n",
       "      <td>15</td>\n",
       "      <td>2</td>\n",
       "      <td>30</td>\n",
       "      <td>1</td>\n",
       "      <td>3</td>\n",
       "      <td>2</td>\n",
       "      <td>5</td>\n",
       "      <td>2</td>\n",
       "      <td>0</td>\n",
       "      <td>0</td>\n",
       "      <td>0</td>\n",
       "      <td>0</td>\n",
       "      <td>0</td>\n",
       "      <td>0</td>\n",
       "      <td>0</td>\n",
       "      <td>1</td>\n",
       "      <td>2014</td>\n",
       "      <td>251</td>\n",
       "      <td>11</td>\n",
       "      <td>0</td>\n",
       "    </tr>\n",
       "    <tr>\n",
       "      <th>3</th>\n",
       "      <td>0.0</td>\n",
       "      <td>0.0</td>\n",
       "      <td>1.0</td>\n",
       "      <td>0.0</td>\n",
       "      <td>0.0</td>\n",
       "      <td>0.0</td>\n",
       "      <td>0.0</td>\n",
       "      <td>0.0</td>\n",
       "      <td>0.0</td>\n",
       "      <td>0.0</td>\n",
       "      <td>1.0</td>\n",
       "      <td>0.0</td>\n",
       "      <td>0.0</td>\n",
       "      <td>1.0</td>\n",
       "      <td>0.0</td>\n",
       "      <td>0.0</td>\n",
       "      <td>0.0</td>\n",
       "      <td>0.0</td>\n",
       "      <td>0.0</td>\n",
       "      <td>0.0</td>\n",
       "      <td>0.0</td>\n",
       "      <td>1967</td>\n",
       "      <td>32474.0</td>\n",
       "      <td>1</td>\n",
       "      <td>1</td>\n",
       "      <td>0</td>\n",
       "      <td>10</td>\n",
       "      <td>0</td>\n",
       "      <td>1</td>\n",
       "      <td>0</td>\n",
       "      <td>0</td>\n",
       "      <td>0</td>\n",
       "      <td>1</td>\n",
       "      <td>1</td>\n",
       "      <td>0</td>\n",
       "      <td>2</td>\n",
       "      <td>7</td>\n",
       "      <td>0</td>\n",
       "      <td>0</td>\n",
       "      <td>0</td>\n",
       "      <td>0</td>\n",
       "      <td>0</td>\n",
       "      <td>0</td>\n",
       "      <td>0</td>\n",
       "      <td>2</td>\n",
       "      <td>2014</td>\n",
       "      <td>11</td>\n",
       "      <td>4</td>\n",
       "      <td>0</td>\n",
       "    </tr>\n",
       "    <tr>\n",
       "      <th>4</th>\n",
       "      <td>0.0</td>\n",
       "      <td>0.0</td>\n",
       "      <td>1.0</td>\n",
       "      <td>0.0</td>\n",
       "      <td>0.0</td>\n",
       "      <td>0.0</td>\n",
       "      <td>0.0</td>\n",
       "      <td>0.0</td>\n",
       "      <td>0.0</td>\n",
       "      <td>1.0</td>\n",
       "      <td>0.0</td>\n",
       "      <td>0.0</td>\n",
       "      <td>0.0</td>\n",
       "      <td>0.0</td>\n",
       "      <td>0.0</td>\n",
       "      <td>0.0</td>\n",
       "      <td>0.0</td>\n",
       "      <td>0.0</td>\n",
       "      <td>0.0</td>\n",
       "      <td>1.0</td>\n",
       "      <td>0.0</td>\n",
       "      <td>1989</td>\n",
       "      <td>21474.0</td>\n",
       "      <td>1</td>\n",
       "      <td>0</td>\n",
       "      <td>0</td>\n",
       "      <td>6</td>\n",
       "      <td>16</td>\n",
       "      <td>24</td>\n",
       "      <td>11</td>\n",
       "      <td>0</td>\n",
       "      <td>34</td>\n",
       "      <td>2</td>\n",
       "      <td>3</td>\n",
       "      <td>1</td>\n",
       "      <td>2</td>\n",
       "      <td>7</td>\n",
       "      <td>1</td>\n",
       "      <td>0</td>\n",
       "      <td>0</td>\n",
       "      <td>0</td>\n",
       "      <td>0</td>\n",
       "      <td>1</td>\n",
       "      <td>0</td>\n",
       "      <td>1</td>\n",
       "      <td>2014</td>\n",
       "      <td>91</td>\n",
       "      <td>8</td>\n",
       "      <td>2</td>\n",
       "    </tr>\n",
       "  </tbody>\n",
       "</table>\n",
       "</div>\n",
       "      <button class=\"colab-df-convert\" onclick=\"convertToInteractive('df-dbfd5d5b-a9cb-4da0-b43d-7056785e27c2')\"\n",
       "              title=\"Convert this dataframe to an interactive table.\"\n",
       "              style=\"display:none;\">\n",
       "        \n",
       "  <svg xmlns=\"http://www.w3.org/2000/svg\" height=\"24px\"viewBox=\"0 0 24 24\"\n",
       "       width=\"24px\">\n",
       "    <path d=\"M0 0h24v24H0V0z\" fill=\"none\"/>\n",
       "    <path d=\"M18.56 5.44l.94 2.06.94-2.06 2.06-.94-2.06-.94-.94-2.06-.94 2.06-2.06.94zm-11 1L8.5 8.5l.94-2.06 2.06-.94-2.06-.94L8.5 2.5l-.94 2.06-2.06.94zm10 10l.94 2.06.94-2.06 2.06-.94-2.06-.94-.94-2.06-.94 2.06-2.06.94z\"/><path d=\"M17.41 7.96l-1.37-1.37c-.4-.4-.92-.59-1.43-.59-.52 0-1.04.2-1.43.59L10.3 9.45l-7.72 7.72c-.78.78-.78 2.05 0 2.83L4 21.41c.39.39.9.59 1.41.59.51 0 1.02-.2 1.41-.59l7.78-7.78 2.81-2.81c.8-.78.8-2.07 0-2.86zM5.41 20L4 18.59l7.72-7.72 1.47 1.35L5.41 20z\"/>\n",
       "  </svg>\n",
       "      </button>\n",
       "      \n",
       "  <style>\n",
       "    .colab-df-container {\n",
       "      display:flex;\n",
       "      flex-wrap:wrap;\n",
       "      gap: 12px;\n",
       "    }\n",
       "\n",
       "    .colab-df-convert {\n",
       "      background-color: #E8F0FE;\n",
       "      border: none;\n",
       "      border-radius: 50%;\n",
       "      cursor: pointer;\n",
       "      display: none;\n",
       "      fill: #1967D2;\n",
       "      height: 32px;\n",
       "      padding: 0 0 0 0;\n",
       "      width: 32px;\n",
       "    }\n",
       "\n",
       "    .colab-df-convert:hover {\n",
       "      background-color: #E2EBFA;\n",
       "      box-shadow: 0px 1px 2px rgba(60, 64, 67, 0.3), 0px 1px 3px 1px rgba(60, 64, 67, 0.15);\n",
       "      fill: #174EA6;\n",
       "    }\n",
       "\n",
       "    [theme=dark] .colab-df-convert {\n",
       "      background-color: #3B4455;\n",
       "      fill: #D2E3FC;\n",
       "    }\n",
       "\n",
       "    [theme=dark] .colab-df-convert:hover {\n",
       "      background-color: #434B5C;\n",
       "      box-shadow: 0px 1px 3px 1px rgba(0, 0, 0, 0.15);\n",
       "      filter: drop-shadow(0px 1px 2px rgba(0, 0, 0, 0.3));\n",
       "      fill: #FFFFFF;\n",
       "    }\n",
       "  </style>\n",
       "\n",
       "      <script>\n",
       "        const buttonEl =\n",
       "          document.querySelector('#df-dbfd5d5b-a9cb-4da0-b43d-7056785e27c2 button.colab-df-convert');\n",
       "        buttonEl.style.display =\n",
       "          google.colab.kernel.accessAllowed ? 'block' : 'none';\n",
       "\n",
       "        async function convertToInteractive(key) {\n",
       "          const element = document.querySelector('#df-dbfd5d5b-a9cb-4da0-b43d-7056785e27c2');\n",
       "          const dataTable =\n",
       "            await google.colab.kernel.invokeFunction('convertToInteractive',\n",
       "                                                     [key], {});\n",
       "          if (!dataTable) return;\n",
       "\n",
       "          const docLinkHtml = 'Like what you see? Visit the ' +\n",
       "            '<a target=\"_blank\" href=https://colab.research.google.com/notebooks/data_table.ipynb>data table notebook</a>'\n",
       "            + ' to learn more about interactive tables.';\n",
       "          element.innerHTML = '';\n",
       "          dataTable['output_type'] = 'display_data';\n",
       "          await google.colab.output.renderOutput(dataTable, element);\n",
       "          const docLink = document.createElement('div');\n",
       "          docLink.innerHTML = docLinkHtml;\n",
       "          element.appendChild(docLink);\n",
       "        }\n",
       "      </script>\n",
       "    </div>\n",
       "  </div>\n",
       "  "
      ],
      "text/plain": [
       "   Education_2n Cycle  Education_Basic  Education_Graduation  \\\n",
       "0                 0.0              0.0                   1.0   \n",
       "1                 0.0              0.0                   1.0   \n",
       "2                 0.0              0.0                   1.0   \n",
       "3                 0.0              0.0                   1.0   \n",
       "4                 0.0              0.0                   1.0   \n",
       "\n",
       "   Education_Master  Education_PhD  Marital_Status_Absurd  \\\n",
       "0               0.0            0.0                    0.0   \n",
       "1               0.0            0.0                    0.0   \n",
       "2               0.0            0.0                    0.0   \n",
       "3               0.0            0.0                    0.0   \n",
       "4               0.0            0.0                    0.0   \n",
       "\n",
       "   Marital_Status_Alone  Marital_Status_Divorced  Marital_Status_Married  \\\n",
       "0                   0.0                      1.0                     0.0   \n",
       "1                   0.0                      0.0                     0.0   \n",
       "2                   0.0                      0.0                     1.0   \n",
       "3                   0.0                      0.0                     0.0   \n",
       "4                   0.0                      0.0                     0.0   \n",
       "\n",
       "   Marital_Status_Single  Marital_Status_Together  Marital_Status_Widow  \\\n",
       "0                    0.0                      0.0                   0.0   \n",
       "1                    1.0                      0.0                   0.0   \n",
       "2                    0.0                      0.0                   0.0   \n",
       "3                    0.0                      1.0                   0.0   \n",
       "4                    1.0                      0.0                   0.0   \n",
       "\n",
       "   Marital_Status_YOLO  Country_AUS  Country_CA  Country_GER  Country_IND  \\\n",
       "0                  0.0          0.0         0.0          0.0          0.0   \n",
       "1                  0.0          0.0         1.0          0.0          0.0   \n",
       "2                  0.0          0.0         0.0          0.0          0.0   \n",
       "3                  0.0          1.0         0.0          0.0          0.0   \n",
       "4                  0.0          0.0         0.0          0.0          0.0   \n",
       "\n",
       "   Country_ME  Country_SA  Country_SP  Country_US  Year_Birth   Income  \\\n",
       "0         0.0         0.0         1.0         0.0        1970  84835.0   \n",
       "1         0.0         0.0         0.0         0.0        1961  57091.0   \n",
       "2         0.0         0.0         0.0         1.0        1958  67267.0   \n",
       "3         0.0         0.0         0.0         0.0        1967  32474.0   \n",
       "4         0.0         0.0         1.0         0.0        1989  21474.0   \n",
       "\n",
       "   Kidhome  Teenhome  Recency  MntWines  MntFruits  MntMeatProducts  \\\n",
       "0        0         0        0       189        104              379   \n",
       "1        0         0        0       464          5               64   \n",
       "2        0         1        0       134         11               59   \n",
       "3        1         1        0        10          0                1   \n",
       "4        1         0        0         6         16               24   \n",
       "\n",
       "   MntFishProducts  MntSweetProducts  MntGoldProds  NumDealsPurchases  \\\n",
       "0              111               189           218                  1   \n",
       "1                7                 0            37                  1   \n",
       "2               15                 2            30                  1   \n",
       "3                0                 0             0                  1   \n",
       "4               11                 0            34                  2   \n",
       "\n",
       "   NumWebPurchases  NumCatalogPurchases  NumStorePurchases  NumWebVisitsMonth  \\\n",
       "0                4                    4                  6                  1   \n",
       "1                7                    3                  7                  5   \n",
       "2                3                    2                  5                  2   \n",
       "3                1                    0                  2                  7   \n",
       "4                3                    1                  2                  7   \n",
       "\n",
       "   AcceptedCmp3  AcceptedCmp4  AcceptedCmp5  AcceptedCmp1  AcceptedCmp2  \\\n",
       "0             0             0             0             0             0   \n",
       "1             0             0             0             0             1   \n",
       "2             0             0             0             0             0   \n",
       "3             0             0             0             0             0   \n",
       "4             1             0             0             0             0   \n",
       "\n",
       "   Response  Complain  Dependents  Year_Customer  TotalMnt  TotalPurchases  \\\n",
       "0         1         0           0           2014      1190              15   \n",
       "1         1         0           0           2014       577              18   \n",
       "2         0         0           1           2014       251              11   \n",
       "3         0         0           2           2014        11               4   \n",
       "4         1         0           1           2014        91               8   \n",
       "\n",
       "   TotalCampaignsAcc  \n",
       "0                  1  \n",
       "1                  2  \n",
       "2                  0  \n",
       "3                  0  \n",
       "4                  2  "
      ]
     },
     "execution_count": 25,
     "metadata": {},
     "output_type": "execute_result"
    }
   ],
   "source": [
    "# One-hot encoding of categorical features\n",
    "from sklearn.preprocessing import OneHotEncoder\n",
    "\n",
    "# Get categorical features and review number of unique values\n",
    "cat = df.select_dtypes(exclude=np.number)\n",
    "print(\"Number of unique values per categorical feature:\\n\", cat.nunique())\n",
    "\n",
    "# Use one hot encoder\n",
    "enc = OneHotEncoder(sparse=False).fit(cat)\n",
    "cat_encoded = pd.DataFrame(enc.transform(cat))\n",
    "cat_encoded.columns = enc.get_feature_names(cat.columns)\n",
    "\n",
    "# Merge with numeric data\n",
    "num = df.drop(columns=cat.columns)\n",
    "df2 = pd.concat([cat_encoded, num], axis=1)\n",
    "df2.head()"
   ]
  },
  {
   "cell_type": "markdown",
   "metadata": {
    "id": "pmvW8_dtM0xc",
    "papermill": {
     "duration": 0.07032,
     "end_time": "2021-02-02T20:49:53.800639",
     "exception": false,
     "start_time": "2021-02-02T20:49:53.730319",
     "status": "completed"
    },
    "tags": []
   },
   "source": [
    "* Fit linear regression model to training data (70% of dataset)\n",
    "* Evaluate predictions on test data (30% of dataset) using RMSE:\n",
    "    - Findings: The RMSE is exceedingly small compared to the median value of the target variable, indicating good model predictions."
   ]
  },
  {
   "cell_type": "code",
   "execution_count": 26,
   "metadata": {
    "_kg_hide-input": true,
    "colab": {
     "base_uri": "https://localhost:8080/"
    },
    "execution": {
     "iopub.execute_input": "2021-02-02T20:49:53.956494Z",
     "iopub.status.busy": "2021-02-02T20:49:53.955611Z",
     "iopub.status.idle": "2021-02-02T20:49:54.196435Z",
     "shell.execute_reply": "2021-02-02T20:49:54.197247Z"
    },
    "id": "4UZ1fO-mM0xc",
    "outputId": "1625b753-5784-4a65-fa3a-4cafeedf150a",
    "papermill": {
     "duration": 0.324224,
     "end_time": "2021-02-02T20:49:54.197520",
     "exception": false,
     "start_time": "2021-02-02T20:49:53.873296",
     "status": "completed"
    },
    "tags": []
   },
   "outputs": [
    {
     "name": "stdout",
     "output_type": "stream",
     "text": [
      "Linear regression model RMSE:  3.39691070855469e-14\n",
      "Median value of target variable:  5.0\n"
     ]
    }
   ],
   "source": [
    "from sklearn.model_selection import train_test_split\n",
    "from sklearn.linear_model import LinearRegression\n",
    "from sklearn.metrics import mean_squared_error\n",
    "\n",
    "# Isolate X and y variables, and perform train-test split\n",
    "X = df2.drop(columns='NumStorePurchases')\n",
    "y = df2['NumStorePurchases']\n",
    "\n",
    "X_train, X_test, y_train, y_test = train_test_split(X, y, test_size=0.3, random_state=1)\n",
    "\n",
    "# Linear regression model\n",
    "model = LinearRegression()\n",
    "model.fit(X_train, y_train)\n",
    "\n",
    "# Predictions\n",
    "preds = model.predict(X_test)\n",
    "\n",
    "# Evaluate model using RMSE\n",
    "print(\"Linear regression model RMSE: \", np.sqrt(mean_squared_error(y_test, preds)))\n",
    "print(\"Median value of target variable: \", y.median())"
   ]
  },
  {
   "cell_type": "markdown",
   "metadata": {
    "id": "Y4R9ZsUnM0xc",
    "papermill": {
     "duration": 0.075635,
     "end_time": "2021-02-02T20:49:54.347855",
     "exception": false,
     "start_time": "2021-02-02T20:49:54.272220",
     "status": "completed"
    },
    "tags": []
   },
   "source": [
    "* Identify features that significantly affect the number of store purchases, using permutation importance:\n",
    "    - Significant features:\n",
    "        - 'TotalPurchases', 'NumCatalogPurchases', 'NumWebPurchases', 'NumDealsPurchases'\n",
    "        - All other features are not significant"
   ]
  },
  {
   "cell_type": "code",
   "execution_count": 27,
   "metadata": {
    "colab": {
     "base_uri": "https://localhost:8080/"
    },
    "id": "HoKC5shKOtB6",
    "outputId": "e9a47ef2-90f0-49a3-ad6c-84a7c85b38e0"
   },
   "outputs": [
    {
     "name": "stdout",
     "output_type": "stream",
     "text": [
      "Looking in indexes: https://pypi.org/simple, https://us-python.pkg.dev/colab-wheels/public/simple/\n",
      "Collecting eli5\n",
      "  Downloading eli5-0.13.0.tar.gz (216 kB)\n",
      "\u001b[2K     \u001b[90m━━━━━━━━━━━━━━━━━━━━━━━━━━━━━━━━━━━━━━━\u001b[0m \u001b[32m216.2/216.2 KB\u001b[0m \u001b[31m7.8 MB/s\u001b[0m eta \u001b[36m0:00:00\u001b[0m\n",
      "\u001b[?25h  Preparing metadata (setup.py) ... \u001b[?25l\u001b[?25hdone\n",
      "Requirement already satisfied: attrs>17.1.0 in /usr/local/lib/python3.8/dist-packages (from eli5) (22.2.0)\n",
      "Collecting jinja2>=3.0.0\n",
      "  Downloading Jinja2-3.1.2-py3-none-any.whl (133 kB)\n",
      "\u001b[2K     \u001b[90m━━━━━━━━━━━━━━━━━━━━━━━━━━━━━━━━━━━━━━\u001b[0m \u001b[32m133.1/133.1 KB\u001b[0m \u001b[31m15.1 MB/s\u001b[0m eta \u001b[36m0:00:00\u001b[0m\n",
      "\u001b[?25hRequirement already satisfied: numpy>=1.9.0 in /usr/local/lib/python3.8/dist-packages (from eli5) (1.21.6)\n",
      "Requirement already satisfied: scipy in /usr/local/lib/python3.8/dist-packages (from eli5) (1.7.3)\n",
      "Requirement already satisfied: six in /usr/local/lib/python3.8/dist-packages (from eli5) (1.15.0)\n",
      "Requirement already satisfied: scikit-learn>=0.20 in /usr/local/lib/python3.8/dist-packages (from eli5) (1.0.2)\n",
      "Requirement already satisfied: graphviz in /usr/local/lib/python3.8/dist-packages (from eli5) (0.10.1)\n",
      "Requirement already satisfied: tabulate>=0.7.7 in /usr/local/lib/python3.8/dist-packages (from eli5) (0.8.10)\n",
      "Requirement already satisfied: MarkupSafe>=2.0 in /usr/local/lib/python3.8/dist-packages (from jinja2>=3.0.0->eli5) (2.0.1)\n",
      "Requirement already satisfied: joblib>=0.11 in /usr/local/lib/python3.8/dist-packages (from scikit-learn>=0.20->eli5) (1.2.0)\n",
      "Requirement already satisfied: threadpoolctl>=2.0.0 in /usr/local/lib/python3.8/dist-packages (from scikit-learn>=0.20->eli5) (3.1.0)\n",
      "Building wheels for collected packages: eli5\n",
      "  Building wheel for eli5 (setup.py) ... \u001b[?25l\u001b[?25hdone\n",
      "  Created wheel for eli5: filename=eli5-0.13.0-py2.py3-none-any.whl size=107748 sha256=590585da0c975ef8700f4c0b01601b63b49297ea1011e65171f9be0342148c1c\n",
      "  Stored in directory: /root/.cache/pip/wheels/85/ac/25/ffcd87ef8f9b1eec324fdf339359be71f22612459d8c75d89c\n",
      "Successfully built eli5\n",
      "Installing collected packages: jinja2, eli5\n",
      "  Attempting uninstall: jinja2\n",
      "    Found existing installation: Jinja2 2.11.3\n",
      "    Uninstalling Jinja2-2.11.3:\n",
      "      Successfully uninstalled Jinja2-2.11.3\n",
      "\u001b[31mERROR: pip's dependency resolver does not currently take into account all the packages that are installed. This behaviour is the source of the following dependency conflicts.\n",
      "notebook 5.7.16 requires jinja2<=3.0.0, but you have jinja2 3.1.2 which is incompatible.\n",
      "flask 1.1.4 requires Jinja2<3.0,>=2.10.1, but you have jinja2 3.1.2 which is incompatible.\u001b[0m\u001b[31m\n",
      "\u001b[0mSuccessfully installed eli5-0.13.0 jinja2-3.1.2\n"
     ]
    }
   ],
   "source": [
    "# Install eli5\n",
    "!pip install eli5"
   ]
  },
  {
   "cell_type": "code",
   "execution_count": 28,
   "metadata": {
    "_kg_hide-input": true,
    "colab": {
     "base_uri": "https://localhost:8080/",
     "height": 139
    },
    "execution": {
     "iopub.execute_input": "2021-02-02T20:49:54.499327Z",
     "iopub.status.busy": "2021-02-02T20:49:54.498113Z",
     "iopub.status.idle": "2021-02-02T20:50:04.659403Z",
     "shell.execute_reply": "2021-02-02T20:50:04.660033Z"
    },
    "id": "ZZZPzMPzM0xc",
    "outputId": "6826352c-8318-41a8-b144-e893648392ce",
    "papermill": {
     "duration": 10.239487,
     "end_time": "2021-02-02T20:50:04.660375",
     "exception": false,
     "start_time": "2021-02-02T20:49:54.420888",
     "status": "completed"
    },
    "tags": []
   },
   "outputs": [
    {
     "data": {
      "text/html": [
       "\n",
       "    <style>\n",
       "    table.eli5-weights tr:hover {\n",
       "        filter: brightness(85%);\n",
       "    }\n",
       "</style>\n",
       "\n",
       "\n",
       "\n",
       "    \n",
       "\n",
       "    \n",
       "\n",
       "    \n",
       "\n",
       "    \n",
       "\n",
       "    \n",
       "\n",
       "    \n",
       "\n",
       "\n",
       "    \n",
       "\n",
       "    \n",
       "\n",
       "    \n",
       "\n",
       "    \n",
       "\n",
       "    \n",
       "\n",
       "    \n",
       "\n",
       "\n",
       "    \n",
       "\n",
       "    \n",
       "\n",
       "    \n",
       "\n",
       "    \n",
       "\n",
       "    \n",
       "        <table class=\"eli5-weights eli5-feature-importances\" style=\"border-collapse: collapse; border: none; margin-top: 0em; table-layout: auto;\">\n",
       "    <thead>\n",
       "    <tr style=\"border: none;\">\n",
       "        <th style=\"padding: 0 1em 0 0.5em; text-align: right; border: none;\">Weight</th>\n",
       "        <th style=\"padding: 0 0.5em 0 0.5em; text-align: left; border: none;\">Feature</th>\n",
       "    </tr>\n",
       "    </thead>\n",
       "    <tbody>\n",
       "    \n",
       "        <tr style=\"background-color: hsl(120, 100.00%, 80.00%); border: none;\">\n",
       "            <td style=\"padding: 0 1em 0 0.5em; text-align: right; border: none;\">\n",
       "                11.9544\n",
       "                \n",
       "                    &plusmn; 1.0736\n",
       "                \n",
       "            </td>\n",
       "            <td style=\"padding: 0 0.5em 0 0.5em; text-align: left; border: none;\">\n",
       "                TotalPurchases\n",
       "            </td>\n",
       "        </tr>\n",
       "    \n",
       "        <tr style=\"background-color: hsl(120, 100.00%, 94.35%); border: none;\">\n",
       "            <td style=\"padding: 0 1em 0 0.5em; text-align: right; border: none;\">\n",
       "                1.9621\n",
       "                \n",
       "                    &plusmn; 0.0445\n",
       "                \n",
       "            </td>\n",
       "            <td style=\"padding: 0 0.5em 0 0.5em; text-align: left; border: none;\">\n",
       "                NumCatalogPurchases\n",
       "            </td>\n",
       "        </tr>\n",
       "    \n",
       "        <tr style=\"background-color: hsl(120, 100.00%, 95.29%); border: none;\">\n",
       "            <td style=\"padding: 0 1em 0 0.5em; text-align: right; border: none;\">\n",
       "                1.5157\n",
       "                \n",
       "                    &plusmn; 0.0982\n",
       "                \n",
       "            </td>\n",
       "            <td style=\"padding: 0 0.5em 0 0.5em; text-align: left; border: none;\">\n",
       "                NumWebPurchases\n",
       "            </td>\n",
       "        </tr>\n",
       "    \n",
       "        <tr style=\"background-color: hsl(120, 100.00%, 97.00%); border: none;\">\n",
       "            <td style=\"padding: 0 1em 0 0.5em; text-align: right; border: none;\">\n",
       "                0.7951\n",
       "                \n",
       "                    &plusmn; 0.0392\n",
       "                \n",
       "            </td>\n",
       "            <td style=\"padding: 0 0.5em 0 0.5em; text-align: left; border: none;\">\n",
       "                NumDealsPurchases\n",
       "            </td>\n",
       "        </tr>\n",
       "    \n",
       "        <tr style=\"background-color: hsl(0, 100.00%, 100.00%); border: none;\">\n",
       "            <td style=\"padding: 0 1em 0 0.5em; text-align: right; border: none;\">\n",
       "                0\n",
       "                \n",
       "                    &plusmn; 0.0000\n",
       "                \n",
       "            </td>\n",
       "            <td style=\"padding: 0 0.5em 0 0.5em; text-align: left; border: none;\">\n",
       "                Country_CA\n",
       "            </td>\n",
       "        </tr>\n",
       "    \n",
       "    \n",
       "        \n",
       "            <tr style=\"background-color: hsl(0, 100.00%, 100.00%); border: none;\">\n",
       "                <td colspan=\"2\" style=\"padding: 0 0.5em 0 0.5em; text-align: center; border: none; white-space: nowrap;\">\n",
       "                    <i>&hellip; 43 more &hellip;</i>\n",
       "                </td>\n",
       "            </tr>\n",
       "        \n",
       "    \n",
       "    </tbody>\n",
       "</table>\n",
       "    \n",
       "\n",
       "    \n",
       "\n",
       "\n",
       "    \n",
       "\n",
       "    \n",
       "\n",
       "    \n",
       "\n",
       "    \n",
       "\n",
       "    \n",
       "\n",
       "    \n",
       "\n",
       "\n",
       "\n"
      ],
      "text/plain": [
       "<IPython.core.display.HTML object>"
      ]
     },
     "execution_count": 28,
     "metadata": {},
     "output_type": "execute_result"
    }
   ],
   "source": [
    "import eli5\n",
    "from eli5.sklearn import PermutationImportance\n",
    "\n",
    "perm = PermutationImportance(model, random_state=1).fit(X_test, y_test)\n",
    "eli5.show_weights(perm, feature_names = X_test.columns.tolist(), top=5)"
   ]
  },
  {
   "cell_type": "markdown",
   "metadata": {
    "id": "EKSVudUhM0xc",
    "papermill": {
     "duration": 0.075331,
     "end_time": "2021-02-02T20:50:04.810337",
     "exception": false,
     "start_time": "2021-02-02T20:50:04.735006",
     "status": "completed"
    },
    "tags": []
   },
   "source": [
    "* Explore the directionality of these effects, using SHAP values:\n",
    "    - Findings:\n",
    "        - The number of store purchases increases with higher number of total purchases ('TotalPurchases')\n",
    "        - The number of store purchases decreases with higher number of catalog, web, or deals purchases ('NumCatalogPurchases', 'NumWebPurchases', 'NumDealsPurchases')\n",
    "    - Interpretation:\n",
    "        - Customers who shop the most in stores are those who shop less via the catalog, website, or special deals"
   ]
  },
  {
   "cell_type": "code",
   "execution_count": 29,
   "metadata": {
    "colab": {
     "base_uri": "https://localhost:8080/"
    },
    "id": "eJxATTkAO5mC",
    "outputId": "f3e696ba-a31f-4389-ead6-25c74afafd13"
   },
   "outputs": [
    {
     "name": "stdout",
     "output_type": "stream",
     "text": [
      "Looking in indexes: https://pypi.org/simple, https://us-python.pkg.dev/colab-wheels/public/simple/\n",
      "Collecting shap\n",
      "  Downloading shap-0.41.0-cp38-cp38-manylinux_2_12_x86_64.manylinux2010_x86_64.whl (575 kB)\n",
      "\u001b[2K     \u001b[90m━━━━━━━━━━━━━━━━━━━━━━━━━━━━━━━━━━━━━━\u001b[0m \u001b[32m575.9/575.9 KB\u001b[0m \u001b[31m10.0 MB/s\u001b[0m eta \u001b[36m0:00:00\u001b[0m\n",
      "\u001b[?25hRequirement already satisfied: numba in /usr/local/lib/python3.8/dist-packages (from shap) (0.56.4)\n",
      "Collecting slicer==0.0.7\n",
      "  Downloading slicer-0.0.7-py3-none-any.whl (14 kB)\n",
      "Requirement already satisfied: tqdm>4.25.0 in /usr/local/lib/python3.8/dist-packages (from shap) (4.64.1)\n",
      "Requirement already satisfied: scikit-learn in /usr/local/lib/python3.8/dist-packages (from shap) (1.0.2)\n",
      "Requirement already satisfied: cloudpickle in /usr/local/lib/python3.8/dist-packages (from shap) (2.2.0)\n",
      "Requirement already satisfied: scipy in /usr/local/lib/python3.8/dist-packages (from shap) (1.7.3)\n",
      "Requirement already satisfied: pandas in /usr/local/lib/python3.8/dist-packages (from shap) (1.3.5)\n",
      "Requirement already satisfied: packaging>20.9 in /usr/local/lib/python3.8/dist-packages (from shap) (21.3)\n",
      "Requirement already satisfied: numpy in /usr/local/lib/python3.8/dist-packages (from shap) (1.21.6)\n",
      "Requirement already satisfied: pyparsing!=3.0.5,>=2.0.2 in /usr/local/lib/python3.8/dist-packages (from packaging>20.9->shap) (3.0.9)\n",
      "Requirement already satisfied: importlib-metadata in /usr/local/lib/python3.8/dist-packages (from numba->shap) (6.0.0)\n",
      "Requirement already satisfied: setuptools in /usr/local/lib/python3.8/dist-packages (from numba->shap) (57.4.0)\n",
      "Requirement already satisfied: llvmlite<0.40,>=0.39.0dev0 in /usr/local/lib/python3.8/dist-packages (from numba->shap) (0.39.1)\n",
      "Requirement already satisfied: python-dateutil>=2.7.3 in /usr/local/lib/python3.8/dist-packages (from pandas->shap) (2.8.2)\n",
      "Requirement already satisfied: pytz>=2017.3 in /usr/local/lib/python3.8/dist-packages (from pandas->shap) (2022.7)\n",
      "Requirement already satisfied: threadpoolctl>=2.0.0 in /usr/local/lib/python3.8/dist-packages (from scikit-learn->shap) (3.1.0)\n",
      "Requirement already satisfied: joblib>=0.11 in /usr/local/lib/python3.8/dist-packages (from scikit-learn->shap) (1.2.0)\n",
      "Requirement already satisfied: six>=1.5 in /usr/local/lib/python3.8/dist-packages (from python-dateutil>=2.7.3->pandas->shap) (1.15.0)\n",
      "Requirement already satisfied: zipp>=0.5 in /usr/local/lib/python3.8/dist-packages (from importlib-metadata->numba->shap) (3.11.0)\n",
      "Installing collected packages: slicer, shap\n",
      "Successfully installed shap-0.41.0 slicer-0.0.7\n"
     ]
    }
   ],
   "source": [
    "# Install shap\n",
    "!pip install shap"
   ]
  },
  {
   "cell_type": "code",
   "execution_count": 30,
   "metadata": {
    "_kg_hide-input": true,
    "colab": {
     "base_uri": "https://localhost:8080/",
     "height": 276
    },
    "execution": {
     "iopub.execute_input": "2021-02-02T20:50:04.963996Z",
     "iopub.status.busy": "2021-02-02T20:50:04.963136Z",
     "iopub.status.idle": "2021-02-02T20:50:07.118557Z",
     "shell.execute_reply": "2021-02-02T20:50:07.117714Z"
    },
    "id": "Mq3j5-UvM0xd",
    "outputId": "92efc4ab-5555-4f7f-b8ca-abee940b8160",
    "papermill": {
     "duration": 2.234295,
     "end_time": "2021-02-02T20:50:07.118711",
     "exception": false,
     "start_time": "2021-02-02T20:50:04.884416",
     "status": "completed"
    },
    "tags": []
   },
   "outputs": [
    {
     "data": {
      "image/png": "[encoded data removed]",
      "text/plain": [
       "<Figure size 576x252 with 2 Axes>"
      ]
     },
     "metadata": {},
     "output_type": "display_data"
    }
   ],
   "source": [
    "import shap\n",
    "\n",
    "# Calculate shap values \n",
    "ex = shap.Explainer(model, X_train)\n",
    "shap_values = ex(X_test)\n",
    "\n",
    "# Plot\n",
    "plt.title('SHAP summary for NumStorePurchases', size=16)\n",
    "shap.plots.beeswarm(shap_values, max_display=5);"
   ]
  },
  {
   "cell_type": "markdown",
   "metadata": {
    "id": "1UBfDYNFM0xd",
    "papermill": {
     "duration": 0.075712,
     "end_time": "2021-02-02T20:50:07.274633",
     "exception": false,
     "start_time": "2021-02-02T20:50:07.198921",
     "status": "completed"
    },
    "tags": []
   },
   "source": [
    "### Does US fare significantly better than the rest of the world in terms of total purchases?\n",
    "\n",
    "* Plot total number of purchases by country:\n",
    "    - Findings: \n",
    "        - Spain (SP) has the highest number of purchases\n",
    "        - US is second to last, therefore the US does not fare better than the rest of the world in terms of the total number of purchases"
   ]
  },
  {
   "cell_type": "code",
   "execution_count": 31,
   "metadata": {
    "_kg_hide-input": true,
    "colab": {
     "base_uri": "https://localhost:8080/",
     "height": 316
    },
    "execution": {
     "iopub.execute_input": "2021-02-02T20:50:07.448650Z",
     "iopub.status.busy": "2021-02-02T20:50:07.447829Z",
     "iopub.status.idle": "2021-02-02T20:50:07.670079Z",
     "shell.execute_reply": "2021-02-02T20:50:07.670707Z"
    },
    "id": "WkHs0TMQM0xd",
    "outputId": "cbeb69a8-bee9-4a5e-dbf4-98b7a2aaa021",
    "papermill": {
     "duration": 0.320792,
     "end_time": "2021-02-02T20:50:07.670888",
     "exception": false,
     "start_time": "2021-02-02T20:50:07.350096",
     "status": "completed"
    },
    "tags": []
   },
   "outputs": [
    {
     "data": {
      "image/png": "[encoded data removed]",
      "text/plain": [
       "<Figure size 360x288 with 1 Axes>"
      ]
     },
     "metadata": {},
     "output_type": "display_data"
    }
   ],
   "source": [
    "plt.figure(figsize=(5,4))\n",
    "df.groupby('Country')['TotalPurchases'].sum().sort_values(ascending=False).plot(kind='bar')\n",
    "plt.title('Total Number of Purchases by Country', size=16)\n",
    "plt.ylabel('Number of Purchases');"
   ]
  },
  {
   "cell_type": "markdown",
   "metadata": {
    "id": "TYqGjzhAM0xd",
    "papermill": {
     "duration": 0.081024,
     "end_time": "2021-02-02T20:50:07.830420",
     "exception": false,
     "start_time": "2021-02-02T20:50:07.749396",
     "status": "completed"
    },
    "tags": []
   },
   "source": [
    "* Plot total amount spent by country: \n",
    "    - Findings: \n",
    "        - Spain (SP) has the highest total amount spent on purchases.\n",
    "        - US is second to last, therefore the US does not fare better than the rest of the world in terms of the total amount spent on purchases."
   ]
  },
  {
   "cell_type": "code",
   "execution_count": 32,
   "metadata": {
    "_kg_hide-input": true,
    "colab": {
     "base_uri": "https://localhost:8080/",
     "height": 316
    },
    "execution": {
     "iopub.execute_input": "2021-02-02T20:50:07.987910Z",
     "iopub.status.busy": "2021-02-02T20:50:07.987129Z",
     "iopub.status.idle": "2021-02-02T20:50:08.215204Z",
     "shell.execute_reply": "2021-02-02T20:50:08.214478Z"
    },
    "id": "EKfiK4hiM0xe",
    "outputId": "6452ce02-75ae-417d-a131-0516508589bf",
    "papermill": {
     "duration": 0.309152,
     "end_time": "2021-02-02T20:50:08.215357",
     "exception": false,
     "start_time": "2021-02-02T20:50:07.906205",
     "status": "completed"
    },
    "tags": []
   },
   "outputs": [
    {
     "data": {
      "image/png": "[encoded data removed]",
      "text/plain": [
       "<Figure size 360x288 with 1 Axes>"
      ]
     },
     "metadata": {},
     "output_type": "display_data"
    }
   ],
   "source": [
    "plt.figure(figsize=(5,4))\n",
    "df.groupby('Country')['TotalMnt'].sum().sort_values(ascending=False).plot(kind='bar')\n",
    "plt.title('Total Amount Spent by Country', size=16)\n",
    "plt.ylabel('Amount Spent');"
   ]
  },
  {
   "cell_type": "markdown",
   "metadata": {
    "id": "9k4xSCWmM0xe",
    "papermill": {
     "duration": 0.078573,
     "end_time": "2021-02-02T20:50:08.374124",
     "exception": false,
     "start_time": "2021-02-02T20:50:08.295551",
     "status": "completed"
    },
    "tags": []
   },
   "source": [
    "### Your CMO insists that people who buy gold are more conservative. Therefore, people who spent an above-average amount on gold in the last 2 years would have more in-store purchases. Justify or refute this statement using an appropriate statistical test.\n",
    "\n",
    "* Plot relationship between amount spent on gold in the last 2 years (`MntGoldProds`) and number of in store purchases (`NumStorePurchases`):\n",
    "    - Findings: There is a positive relationship, but is it statistically significant?"
   ]
  },
  {
   "cell_type": "code",
   "execution_count": 33,
   "metadata": {
    "_kg_hide-input": true,
    "colab": {
     "base_uri": "https://localhost:8080/",
     "height": 365
    },
    "execution": {
     "iopub.execute_input": "2021-02-02T20:50:08.539616Z",
     "iopub.status.busy": "2021-02-02T20:50:08.537130Z",
     "iopub.status.idle": "2021-02-02T20:50:09.228831Z",
     "shell.execute_reply": "2021-02-02T20:50:09.229435Z"
    },
    "id": "iQC4f7xmM0xe",
    "outputId": "689225f0-e9e6-454c-fa0a-08dfdee8eb7c",
    "papermill": {
     "duration": 0.777851,
     "end_time": "2021-02-02T20:50:09.229749",
     "exception": false,
     "start_time": "2021-02-02T20:50:08.451898",
     "status": "completed"
    },
    "tags": []
   },
   "outputs": [
    {
     "data": {
      "image/png": "[encoded data removed]",
      "text/plain": [
       "<Figure size 360x360 with 1 Axes>"
      ]
     },
     "metadata": {},
     "output_type": "display_data"
    }
   ],
   "source": [
    "sns.lmplot(x='MntGoldProds', y='NumStorePurchases', data = df);"
   ]
  },
  {
   "cell_type": "markdown",
   "metadata": {
    "id": "huJ9vbXCM0xf",
    "papermill": {
     "duration": 0.078837,
     "end_time": "2021-02-02T20:50:09.388493",
     "exception": false,
     "start_time": "2021-02-02T20:50:09.309656",
     "status": "completed"
    },
    "tags": []
   },
   "source": [
    "* Perform Kendall correlation analysis (non-parametric test since `MntGoldProducts` is not normally distributed and contains outliers):\n",
    "    - Findings: There is significant positive correlation between `MntGoldProds` and `NumStorePurchases`"
   ]
  },
  {
   "cell_type": "code",
   "execution_count": 34,
   "metadata": {
    "_kg_hide-input": true,
    "colab": {
     "base_uri": "https://localhost:8080/"
    },
    "execution": {
     "iopub.execute_input": "2021-02-02T20:50:09.555792Z",
     "iopub.status.busy": "2021-02-02T20:50:09.554630Z",
     "iopub.status.idle": "2021-02-02T20:50:09.565827Z",
     "shell.execute_reply": "2021-02-02T20:50:09.565065Z"
    },
    "id": "rWMhqXp1M0xf",
    "outputId": "fa06a868-8008-40b2-d6d8-24b4dfe91a82",
    "papermill": {
     "duration": 0.095965,
     "end_time": "2021-02-02T20:50:09.565960",
     "exception": false,
     "start_time": "2021-02-02T20:50:09.469995",
     "status": "completed"
    },
    "tags": []
   },
   "outputs": [
    {
     "name": "stdout",
     "output_type": "stream",
     "text": [
      "Kendall correlation (tau):  0.3927160395725131\n",
      "Kendall p-value:  3.55881817905435e-152\n"
     ]
    }
   ],
   "source": [
    "from scipy.stats import kendalltau\n",
    "\n",
    "kendall_corr = kendalltau(x=df['MntGoldProds'], y=df['NumStorePurchases'])\n",
    "\n",
    "# print results\n",
    "print('Kendall correlation (tau): ', kendall_corr.correlation)\n",
    "print('Kendall p-value: ', kendall_corr.pvalue)"
   ]
  },
  {
   "cell_type": "markdown",
   "metadata": {
    "id": "_s9eICqIM0xf",
    "papermill": {
     "duration": 0.081561,
     "end_time": "2021-02-02T20:50:09.729123",
     "exception": false,
     "start_time": "2021-02-02T20:50:09.647562",
     "status": "completed"
    },
    "tags": []
   },
   "source": [
    "### Fish has Omega 3 fatty acids which are good for the brain. Accordingly, do \"Married PhD candidates\" have a significant relation with amount spent on fish? \n",
    "\n",
    "* We will compare `MntFishProducts` between Married PhD candidates and all other customers:\n",
    "    - Findings: Married PhD candidates spend significantly less on fish products compared to other customers."
   ]
  },
  {
   "cell_type": "code",
   "execution_count": 35,
   "metadata": {
    "_kg_hide-input": true,
    "colab": {
     "base_uri": "https://localhost:8080/",
     "height": 285
    },
    "execution": {
     "iopub.execute_input": "2021-02-02T20:50:09.908045Z",
     "iopub.status.busy": "2021-02-02T20:50:09.907264Z",
     "iopub.status.idle": "2021-02-02T20:50:10.079736Z",
     "shell.execute_reply": "2021-02-02T20:50:10.079061Z"
    },
    "id": "o4fu43YVM0xg",
    "outputId": "bf2e8f43-7469-40b1-cb7b-5d7ced1c2633",
    "papermill": {
     "duration": 0.270844,
     "end_time": "2021-02-02T20:50:10.079870",
     "exception": false,
     "start_time": "2021-02-02T20:50:09.809026",
     "status": "completed"
    },
    "tags": []
   },
   "outputs": [
    {
     "data": {
      "image/png": "[encoded data removed]",
      "text/plain": [
       "<Figure size 180x288 with 1 Axes>"
      ]
     },
     "metadata": {},
     "output_type": "display_data"
    }
   ],
   "source": [
    "# Get the sum of the marital status and phd dummy variables - the Married+PhD group will have value of 2\n",
    "df2['Married_PhD'] = df2['Marital_Status_Married'] + df2['Education_PhD']\n",
    "df2['Married_PhD'] = df2['Married_PhD'].replace({2:'Married-PhD', 1:'Other', 0:'Other'})\n",
    "\n",
    "# Plot MntFishProducts between Married-PhD and others\n",
    "plt.figure(figsize=(2.5,4))\n",
    "sns.boxplot(x='Married_PhD', y='MntFishProducts', data=df2);"
   ]
  },
  {
   "cell_type": "code",
   "execution_count": 36,
   "metadata": {
    "_kg_hide-input": true,
    "colab": {
     "base_uri": "https://localhost:8080/"
    },
    "execution": {
     "iopub.execute_input": "2021-02-02T20:50:10.248070Z",
     "iopub.status.busy": "2021-02-02T20:50:10.247130Z",
     "iopub.status.idle": "2021-02-02T20:50:10.265630Z",
     "shell.execute_reply": "2021-02-02T20:50:10.264880Z"
    },
    "id": "_fCYlksgM0xg",
    "outputId": "3a2e2cbb-ecad-4982-dfbb-67919af74b3a",
    "papermill": {
     "duration": 0.103409,
     "end_time": "2021-02-02T20:50:10.265789",
     "exception": false,
     "start_time": "2021-02-02T20:50:10.162380",
     "status": "completed"
    },
    "tags": []
   },
   "outputs": [
    {
     "name": "stdout",
     "output_type": "stream",
     "text": [
      "t-test p-value:  0.005\n"
     ]
    }
   ],
   "source": [
    "# Independent t-test p-value\n",
    "from scipy.stats import ttest_ind\n",
    "pval = ttest_ind(df2[df2['Married_PhD'] == 'Married-PhD']['MntFishProducts'], df2[df2['Married_PhD'] == 'Other']['MntFishProducts']).pvalue\n",
    "print(\"t-test p-value: \", round(pval, 3))"
   ]
  },
  {
   "cell_type": "code",
   "execution_count": 37,
   "metadata": {
    "_kg_hide-input": true,
    "_kg_hide-output": true,
    "execution": {
     "iopub.execute_input": "2021-02-02T20:50:10.437167Z",
     "iopub.status.busy": "2021-02-02T20:50:10.436385Z",
     "iopub.status.idle": "2021-02-02T20:50:10.439859Z",
     "shell.execute_reply": "2021-02-02T20:50:10.440393Z"
    },
    "id": "SRnpnsJEM0xh",
    "papermill": {
     "duration": 0.094254,
     "end_time": "2021-02-02T20:50:10.440581",
     "exception": false,
     "start_time": "2021-02-02T20:50:10.346327",
     "status": "completed"
    },
    "tags": []
   },
   "outputs": [],
   "source": [
    "# Drop the married-phD column created above, to include only the original variables in the analysis below\n",
    "df2.drop(columns='Married_PhD', inplace=True)"
   ]
  },
  {
   "cell_type": "markdown",
   "metadata": {
    "id": "Y6XSVclxM0xh",
    "papermill": {
     "duration": 0.080816,
     "end_time": "2021-02-02T20:50:10.602870",
     "exception": false,
     "start_time": "2021-02-02T20:50:10.522054",
     "status": "completed"
    },
    "tags": []
   },
   "source": [
    "### What other factors are significantly related to amount spent on fish?\n",
    "\n",
    "* Like with the analysis of `NumStorePurchases` above, we will use use a linear regression model with `MntFishProducts` as the target variable, and then use machine learning explainability techniques to get insights about which features predict the amount spent on fish\n",
    "* Begin by plotting the target variable:"
   ]
  },
  {
   "cell_type": "code",
   "execution_count": 38,
   "metadata": {
    "_kg_hide-input": true,
    "colab": {
     "base_uri": "https://localhost:8080/",
     "height": 248
    },
    "execution": {
     "iopub.execute_input": "2021-02-02T20:50:10.780337Z",
     "iopub.status.busy": "2021-02-02T20:50:10.779562Z",
     "iopub.status.idle": "2021-02-02T20:50:11.104906Z",
     "shell.execute_reply": "2021-02-02T20:50:11.103951Z"
    },
    "id": "Xzv65WIoM0xh",
    "outputId": "888a5526-3623-4628-ee4c-1e201d950868",
    "papermill": {
     "duration": 0.421162,
     "end_time": "2021-02-02T20:50:11.105063",
     "exception": false,
     "start_time": "2021-02-02T20:50:10.683901",
     "status": "completed"
    },
    "scrolled": true,
    "tags": []
   },
   "outputs": [
    {
     "data": {
      "image/png": "[encoded data removed]",
      "text/plain": [
       "<Figure size 576x216 with 1 Axes>"
      ]
     },
     "metadata": {},
     "output_type": "display_data"
    }
   ],
   "source": [
    "plt.figure(figsize=(8,3))\n",
    "sns.distplot(df['MntFishProducts'], kde=False, hist=True, bins=12)\n",
    "plt.title('MntFishProducts distribution', size=16)\n",
    "plt.ylabel('count');"
   ]
  },
  {
   "cell_type": "markdown",
   "metadata": {
    "id": "OmbTVo_bM0xh",
    "papermill": {
     "duration": 0.080587,
     "end_time": "2021-02-02T20:50:11.268042",
     "exception": false,
     "start_time": "2021-02-02T20:50:11.187455",
     "status": "completed"
    },
    "tags": []
   },
   "source": [
    "* Fit linear regression model to training data (70% of dataset)\n",
    "* Evaluate predictions on test data (30% of dataset) using RMSE:\n",
    "    - Findings: The RMSE is exceedingly small compared to the median value of the target variable, indicating good model predictions"
   ]
  },
  {
   "cell_type": "code",
   "execution_count": 39,
   "metadata": {
    "_kg_hide-input": true,
    "colab": {
     "base_uri": "https://localhost:8080/"
    },
    "execution": {
     "iopub.execute_input": "2021-02-02T20:50:11.446914Z",
     "iopub.status.busy": "2021-02-02T20:50:11.445586Z",
     "iopub.status.idle": "2021-02-02T20:50:11.464721Z",
     "shell.execute_reply": "2021-02-02T20:50:11.464049Z"
    },
    "id": "gn3Uk9dVM0xi",
    "outputId": "084bede7-1675-47a9-fc81-123ce8e32a9c",
    "papermill": {
     "duration": 0.113905,
     "end_time": "2021-02-02T20:50:11.464861",
     "exception": false,
     "start_time": "2021-02-02T20:50:11.350956",
     "status": "completed"
    },
    "tags": []
   },
   "outputs": [
    {
     "name": "stdout",
     "output_type": "stream",
     "text": [
      "Linear regression model RMSE:  7.766866033260308e-13\n",
      "Median value of target variable:  12.0\n"
     ]
    }
   ],
   "source": [
    "# Isolate X and y variables, and perform train-test split\n",
    "X = df2.drop(columns='MntFishProducts')\n",
    "y = df2['MntFishProducts']\n",
    "\n",
    "X_train, X_test, y_train, y_test = train_test_split(X, y, test_size=0.3, random_state=1)\n",
    "\n",
    "# Linear regression model\n",
    "model = LinearRegression()\n",
    "model.fit(X_train, y_train)\n",
    "\n",
    "# Predictions\n",
    "preds = model.predict(X_test)\n",
    "\n",
    "# Evaluate model using RMSE\n",
    "print(\"Linear regression model RMSE: \", np.sqrt(mean_squared_error(y_test, preds)))\n",
    "print(\"Median value of target variable: \", y.median())"
   ]
  },
  {
   "cell_type": "markdown",
   "metadata": {
    "id": "2SOMtspVM0xi",
    "papermill": {
     "duration": 0.084865,
     "end_time": "2021-02-02T20:50:11.633915",
     "exception": false,
     "start_time": "2021-02-02T20:50:11.549050",
     "status": "completed"
    },
    "tags": []
   },
   "source": [
    "* Identify features that significantly affect the amount spent on fish, using permutation importance:\n",
    "    - Significant features:\n",
    "        - 'TotalMnt', 'MntWines', 'MntMeatProducts', 'MntGoldProds', 'MntSweetProducts', 'MntFruits'\n",
    "        - All other features are not significant"
   ]
  },
  {
   "cell_type": "code",
   "execution_count": 40,
   "metadata": {
    "_kg_hide-input": true,
    "colab": {
     "base_uri": "https://localhost:8080/",
     "height": 173
    },
    "execution": {
     "iopub.execute_input": "2021-02-02T20:50:11.815823Z",
     "iopub.status.busy": "2021-02-02T20:50:11.812066Z",
     "iopub.status.idle": "2021-02-02T20:50:12.493454Z",
     "shell.execute_reply": "2021-02-02T20:50:12.492001Z"
    },
    "id": "ccwrIeUkM0xi",
    "outputId": "d9fcc22c-a1f1-49c2-8b9f-eff9ad91f025",
    "papermill": {
     "duration": 0.774022,
     "end_time": "2021-02-02T20:50:12.493670",
     "exception": false,
     "start_time": "2021-02-02T20:50:11.719648",
     "status": "completed"
    },
    "tags": []
   },
   "outputs": [
    {
     "data": {
      "text/html": [
       "\n",
       "    <style>\n",
       "    table.eli5-weights tr:hover {\n",
       "        filter: brightness(85%);\n",
       "    }\n",
       "</style>\n",
       "\n",
       "\n",
       "\n",
       "    \n",
       "\n",
       "    \n",
       "\n",
       "    \n",
       "\n",
       "    \n",
       "\n",
       "    \n",
       "\n",
       "    \n",
       "\n",
       "\n",
       "    \n",
       "\n",
       "    \n",
       "\n",
       "    \n",
       "\n",
       "    \n",
       "\n",
       "    \n",
       "\n",
       "    \n",
       "\n",
       "\n",
       "    \n",
       "\n",
       "    \n",
       "\n",
       "    \n",
       "\n",
       "    \n",
       "\n",
       "    \n",
       "        <table class=\"eli5-weights eli5-feature-importances\" style=\"border-collapse: collapse; border: none; margin-top: 0em; table-layout: auto;\">\n",
       "    <thead>\n",
       "    <tr style=\"border: none;\">\n",
       "        <th style=\"padding: 0 1em 0 0.5em; text-align: right; border: none;\">Weight</th>\n",
       "        <th style=\"padding: 0 0.5em 0 0.5em; text-align: left; border: none;\">Feature</th>\n",
       "    </tr>\n",
       "    </thead>\n",
       "    <tbody>\n",
       "    \n",
       "        <tr style=\"background-color: hsl(120, 100.00%, 80.00%); border: none;\">\n",
       "            <td style=\"padding: 0 1em 0 0.5em; text-align: right; border: none;\">\n",
       "                231.8007\n",
       "                \n",
       "                    &plusmn; 15.6371\n",
       "                \n",
       "            </td>\n",
       "            <td style=\"padding: 0 0.5em 0 0.5em; text-align: left; border: none;\">\n",
       "                TotalMnt\n",
       "            </td>\n",
       "        </tr>\n",
       "    \n",
       "        <tr style=\"background-color: hsl(120, 100.00%, 91.29%); border: none;\">\n",
       "            <td style=\"padding: 0 1em 0 0.5em; text-align: right; border: none;\">\n",
       "                70.7519\n",
       "                \n",
       "                    &plusmn; 3.9459\n",
       "                \n",
       "            </td>\n",
       "            <td style=\"padding: 0 0.5em 0 0.5em; text-align: left; border: none;\">\n",
       "                MntWines\n",
       "            </td>\n",
       "        </tr>\n",
       "    \n",
       "        <tr style=\"background-color: hsl(120, 100.00%, 94.80%); border: none;\">\n",
       "            <td style=\"padding: 0 1em 0 0.5em; text-align: right; border: none;\">\n",
       "                33.8252\n",
       "                \n",
       "                    &plusmn; 2.0694\n",
       "                \n",
       "            </td>\n",
       "            <td style=\"padding: 0 0.5em 0 0.5em; text-align: left; border: none;\">\n",
       "                MntMeatProducts\n",
       "            </td>\n",
       "        </tr>\n",
       "    \n",
       "        <tr style=\"background-color: hsl(120, 100.00%, 99.32%); border: none;\">\n",
       "            <td style=\"padding: 0 1em 0 0.5em; text-align: right; border: none;\">\n",
       "                1.8676\n",
       "                \n",
       "                    &plusmn; 0.0755\n",
       "                \n",
       "            </td>\n",
       "            <td style=\"padding: 0 0.5em 0 0.5em; text-align: left; border: none;\">\n",
       "                MntGoldProds\n",
       "            </td>\n",
       "        </tr>\n",
       "    \n",
       "        <tr style=\"background-color: hsl(120, 100.00%, 99.51%); border: none;\">\n",
       "            <td style=\"padding: 0 1em 0 0.5em; text-align: right; border: none;\">\n",
       "                1.1637\n",
       "                \n",
       "                    &plusmn; 0.0601\n",
       "                \n",
       "            </td>\n",
       "            <td style=\"padding: 0 0.5em 0 0.5em; text-align: left; border: none;\">\n",
       "                MntSweetProducts\n",
       "            </td>\n",
       "        </tr>\n",
       "    \n",
       "        <tr style=\"background-color: hsl(120, 100.00%, 99.54%); border: none;\">\n",
       "            <td style=\"padding: 0 1em 0 0.5em; text-align: right; border: none;\">\n",
       "                1.0509\n",
       "                \n",
       "                    &plusmn; 0.0710\n",
       "                \n",
       "            </td>\n",
       "            <td style=\"padding: 0 0.5em 0 0.5em; text-align: left; border: none;\">\n",
       "                MntFruits\n",
       "            </td>\n",
       "        </tr>\n",
       "    \n",
       "        <tr style=\"background-color: hsl(0, 100.00%, 100.00%); border: none;\">\n",
       "            <td style=\"padding: 0 1em 0 0.5em; text-align: right; border: none;\">\n",
       "                0\n",
       "                \n",
       "                    &plusmn; 0.0000\n",
       "                \n",
       "            </td>\n",
       "            <td style=\"padding: 0 0.5em 0 0.5em; text-align: left; border: none;\">\n",
       "                Country_GER\n",
       "            </td>\n",
       "        </tr>\n",
       "    \n",
       "    \n",
       "        \n",
       "            <tr style=\"background-color: hsl(0, 100.00%, 100.00%); border: none;\">\n",
       "                <td colspan=\"2\" style=\"padding: 0 0.5em 0 0.5em; text-align: center; border: none; white-space: nowrap;\">\n",
       "                    <i>&hellip; 41 more &hellip;</i>\n",
       "                </td>\n",
       "            </tr>\n",
       "        \n",
       "    \n",
       "    </tbody>\n",
       "</table>\n",
       "    \n",
       "\n",
       "    \n",
       "\n",
       "\n",
       "    \n",
       "\n",
       "    \n",
       "\n",
       "    \n",
       "\n",
       "    \n",
       "\n",
       "    \n",
       "\n",
       "    \n",
       "\n",
       "\n",
       "\n"
      ],
      "text/plain": [
       "<IPython.core.display.HTML object>"
      ]
     },
     "execution_count": 40,
     "metadata": {},
     "output_type": "execute_result"
    }
   ],
   "source": [
    "perm = PermutationImportance(model, random_state=1).fit(X_test, y_test)\n",
    "eli5.show_weights(perm, feature_names = X_test.columns.tolist(), top=7)"
   ]
  },
  {
   "cell_type": "markdown",
   "metadata": {
    "id": "pJfdT1QqM0xi",
    "papermill": {
     "duration": 0.084424,
     "end_time": "2021-02-02T20:50:12.667656",
     "exception": false,
     "start_time": "2021-02-02T20:50:12.583232",
     "status": "completed"
    },
    "tags": []
   },
   "source": [
    "* Explore the directionality of these effects, using SHAP values:\n",
    "    - Findings:\n",
    "        - The amount spent on fish increases with higher total amount spent ('TotalMnt')\n",
    "        - The amount spent on fish decreases with higher amounts spent on wine, meat, gold, fruit, or sweets ('MntWines', 'MntMeatProducts', 'MntGoldProds', 'MntSweetProducts', 'MntFruits')\n",
    "    - Interpretation:\n",
    "        - Customers who spend the most on fish are those who spend less on other products (wine, meat, gold, fruit, and sweets)"
   ]
  },
  {
   "cell_type": "code",
   "execution_count": 41,
   "metadata": {
    "_kg_hide-input": true,
    "colab": {
     "base_uri": "https://localhost:8080/",
     "height": 319
    },
    "execution": {
     "iopub.execute_input": "2021-02-02T20:50:12.846204Z",
     "iopub.status.busy": "2021-02-02T20:50:12.845459Z",
     "iopub.status.idle": "2021-02-02T20:50:13.221094Z",
     "shell.execute_reply": "2021-02-02T20:50:13.220477Z"
    },
    "id": "TUlLfxJLM0xj",
    "outputId": "29f80862-8f34-4545-9d88-ffdf2cf1a887",
    "papermill": {
     "duration": 0.468408,
     "end_time": "2021-02-02T20:50:13.221239",
     "exception": false,
     "start_time": "2021-02-02T20:50:12.752831",
     "status": "completed"
    },
    "tags": []
   },
   "outputs": [
    {
     "data": {
      "image/png": "[encoded data removed]",
      "text/plain": [
       "<Figure size 576x309.6 with 2 Axes>"
      ]
     },
     "metadata": {},
     "output_type": "display_data"
    }
   ],
   "source": [
    "# Calculate shap values \n",
    "ex = shap.Explainer(model, X_train)\n",
    "shap_values = ex(X_test)\n",
    "\n",
    "# Plot\n",
    "plt.title('SHAP summary for MntFishProducts', size=16)\n",
    "shap.plots.beeswarm(shap_values, max_display=7);"
   ]
  },
  {
   "cell_type": "markdown",
   "metadata": {
    "id": "6RaXIo87M0xj",
    "papermill": {
     "duration": 0.084835,
     "end_time": "2021-02-02T20:50:13.390887",
     "exception": false,
     "start_time": "2021-02-02T20:50:13.306052",
     "status": "completed"
    },
    "tags": []
   },
   "source": [
    "### Is there a significant relationship between geographical regional and success of a campaign?\n",
    "\n",
    "* Plot success of campaigns by region:\n",
    "    - Findings:\n",
    "        - The campaign acceptance rates are low overall.\n",
    "        - The campaign with the highest overall acceptance rate is the most recent campaign (column name: `Response`).\n",
    "        - The country with the highest acceptance rate in any campaign is Mexico.\n",
    "    - Is the effect of region on campaign success statistically significant? See below."
   ]
  },
  {
   "cell_type": "markdown",
   "metadata": {
    "id": "Puetjj-9M0xj"
   },
   "source": [
    "#### Convert country codes to correct nomenclature for choropleth plot\n",
    "#### The dataset doesn't provide information about country codes"
   ]
  },
  {
   "cell_type": "code",
   "execution_count": 42,
   "metadata": {
    "_kg_hide-input": true,
    "colab": {
     "base_uri": "https://localhost:8080/",
     "height": 542
    },
    "execution": {
     "iopub.execute_input": "2021-02-02T20:50:13.589504Z",
     "iopub.status.busy": "2021-02-02T20:50:13.588148Z",
     "iopub.status.idle": "2021-02-02T20:50:15.749049Z",
     "shell.execute_reply": "2021-02-02T20:50:15.748478Z"
    },
    "id": "c-xYufk7M0xj",
    "outputId": "defe475b-a84b-4702-82ed-f505e900f5cd",
    "papermill": {
     "duration": 2.273594,
     "end_time": "2021-02-02T20:50:15.749182",
     "exception": false,
     "start_time": "2021-02-02T20:50:13.475588",
     "status": "completed"
    },
    "tags": []
   },
   "outputs": [
    {
     "data": {
      "text/html": [
       "<html>\n",
       "<head><meta charset=\"utf-8\" /></head>\n",
       "<body>\n",
       "    <div>            <script src=\"https://cdnjs.cloudflare.com/ajax/libs/mathjax/2.7.5/MathJax.js?config=TeX-AMS-MML_SVG\"></script><script type=\"text/javascript\">if (window.MathJax) {MathJax.Hub.Config({SVG: {font: \"STIX-Web\"}});}</script>                <script type=\"text/javascript\">window.PlotlyConfig = {MathJaxConfig: 'local'};</script>\n",
       "        <script src=\"https://cdn.plot.ly/plotly-2.8.3.min.js\"></script>                <div id=\"9f08b674-0c66-4b2e-9388-4e4c9e37667b\" class=\"plotly-graph-div\" style=\"height:525px; width:700px;\"></div>            <script type=\"text/javascript\">                                    window.PLOTLYENV=window.PLOTLYENV || {};                                    if (document.getElementById(\"9f08b674-0c66-4b2e-9388-4e4c9e37667b\")) {                    Plotly.newPlot(                        \"9f08b674-0c66-4b2e-9388-4e4c9e37667b\",                        [{\"coloraxis\":\"coloraxis\",\"geo\":\"geo5\",\"hovertemplate\":\"Campaign=1<br>Country_code=%{location}<br>Accepted (%)=%{z}<extra></extra>\",\"locationmode\":\"ISO-3\",\"locations\":[\"AUS\",\"CAN\",\"ESP\",\"GER\",\"IND\",\"MEX\",\"USA\",\"ZAF\"],\"name\":\"\",\"z\":[4.375,6.7164179104477615,7.129798903107861,5.833333333333333,4.761904761904762,0.0,6.422018348623854,5.952380952380952],\"type\":\"choropleth\"},{\"coloraxis\":\"coloraxis\",\"geo\":\"geo6\",\"hovertemplate\":\"Campaign=2<br>Country_code=%{location}<br>Accepted (%)=%{z}<extra></extra>\",\"locationmode\":\"ISO-3\",\"locations\":[\"AUS\",\"CAN\",\"ESP\",\"GER\",\"IND\",\"MEX\",\"USA\",\"ZAF\"],\"name\":\"\",\"z\":[0.0,2.2388059701492535,1.4625228519195612,1.6666666666666667,1.3605442176870748,0.0,0.0,1.1904761904761905],\"type\":\"choropleth\"},{\"coloraxis\":\"coloraxis\",\"geo\":\"geo3\",\"hovertemplate\":\"Campaign=3<br>Country_code=%{location}<br>Accepted (%)=%{z}<extra></extra>\",\"locationmode\":\"ISO-3\",\"locations\":[\"AUS\",\"CAN\",\"ESP\",\"GER\",\"IND\",\"MEX\",\"USA\",\"ZAF\"],\"name\":\"\",\"z\":[5.625,6.7164179104477615,7.586837294332724,8.333333333333332,8.843537414965986,33.33333333333333,7.339449541284404,6.25],\"type\":\"choropleth\"},{\"coloraxis\":\"coloraxis\",\"geo\":\"geo4\",\"hovertemplate\":\"Campaign=4<br>Country_code=%{location}<br>Accepted (%)=%{z}<extra></extra>\",\"locationmode\":\"ISO-3\",\"locations\":[\"AUS\",\"CAN\",\"ESP\",\"GER\",\"IND\",\"MEX\",\"USA\",\"ZAF\"],\"name\":\"\",\"z\":[3.75,8.955223880597014,8.135283363802559,9.166666666666666,7.482993197278912,0.0,5.5045871559633035,5.952380952380952],\"type\":\"choropleth\"},{\"coloraxis\":\"coloraxis\",\"geo\":\"geo\",\"hovertemplate\":\"Campaign=5<br>Country_code=%{location}<br>Accepted (%)=%{z}<extra></extra>\",\"locationmode\":\"ISO-3\",\"locations\":[\"AUS\",\"CAN\",\"ESP\",\"GER\",\"IND\",\"MEX\",\"USA\",\"ZAF\"],\"name\":\"\",\"z\":[8.125,7.835820895522389,8.043875685557587,6.666666666666667,4.081632653061225,0.0,4.587155963302752,6.25],\"type\":\"choropleth\"},{\"coloraxis\":\"coloraxis\",\"geo\":\"geo2\",\"hovertemplate\":\"Campaign=Most recent<br>Country_code=%{location}<br>Accepted (%)=%{z}<extra></extra>\",\"locationmode\":\"ISO-3\",\"locations\":[\"AUS\",\"CAN\",\"ESP\",\"GER\",\"IND\",\"MEX\",\"USA\",\"ZAF\"],\"name\":\"\",\"z\":[14.374999999999998,14.17910447761194,16.087751371115175,14.166666666666666,8.843537414965986,66.66666666666666,11.926605504587156,15.476190476190476],\"type\":\"choropleth\"}],                        {\"template\":{\"data\":{\"bar\":[{\"error_x\":{\"color\":\"#2a3f5f\"},\"error_y\":{\"color\":\"#2a3f5f\"},\"marker\":{\"line\":{\"color\":\"#E5ECF6\",\"width\":0.5},\"pattern\":{\"fillmode\":\"overlay\",\"size\":10,\"solidity\":0.2}},\"type\":\"bar\"}],\"barpolar\":[{\"marker\":{\"line\":{\"color\":\"#E5ECF6\",\"width\":0.5},\"pattern\":{\"fillmode\":\"overlay\",\"size\":10,\"solidity\":0.2}},\"type\":\"barpolar\"}],\"carpet\":[{\"aaxis\":{\"endlinecolor\":\"#2a3f5f\",\"gridcolor\":\"white\",\"linecolor\":\"white\",\"minorgridcolor\":\"white\",\"startlinecolor\":\"#2a3f5f\"},\"baxis\":{\"endlinecolor\":\"#2a3f5f\",\"gridcolor\":\"white\",\"linecolor\":\"white\",\"minorgridcolor\":\"white\",\"startlinecolor\":\"#2a3f5f\"},\"type\":\"carpet\"}],\"choropleth\":[{\"colorbar\":{\"outlinewidth\":0,\"ticks\":\"\"},\"type\":\"choropleth\"}],\"contour\":[{\"colorbar\":{\"outlinewidth\":0,\"ticks\":\"\"},\"colorscale\":[[0.0,\"#0d0887\"],[0.1111111111111111,\"#46039f\"],[0.2222222222222222,\"#7201a8\"],[0.3333333333333333,\"#9c179e\"],[0.4444444444444444,\"#bd3786\"],[0.5555555555555556,\"#d8576b\"],[0.6666666666666666,\"#ed7953\"],[0.7777777777777778,\"#fb9f3a\"],[0.8888888888888888,\"#fdca26\"],[1.0,\"#f0f921\"]],\"type\":\"contour\"}],\"contourcarpet\":[{\"colorbar\":{\"outlinewidth\":0,\"ticks\":\"\"},\"type\":\"contourcarpet\"}],\"heatmap\":[{\"colorbar\":{\"outlinewidth\":0,\"ticks\":\"\"},\"colorscale\":[[0.0,\"#0d0887\"],[0.1111111111111111,\"#46039f\"],[0.2222222222222222,\"#7201a8\"],[0.3333333333333333,\"#9c179e\"],[0.4444444444444444,\"#bd3786\"],[0.5555555555555556,\"#d8576b\"],[0.6666666666666666,\"#ed7953\"],[0.7777777777777778,\"#fb9f3a\"],[0.8888888888888888,\"#fdca26\"],[1.0,\"#f0f921\"]],\"type\":\"heatmap\"}],\"heatmapgl\":[{\"colorbar\":{\"outlinewidth\":0,\"ticks\":\"\"},\"colorscale\":[[0.0,\"#0d0887\"],[0.1111111111111111,\"#46039f\"],[0.2222222222222222,\"#7201a8\"],[0.3333333333333333,\"#9c179e\"],[0.4444444444444444,\"#bd3786\"],[0.5555555555555556,\"#d8576b\"],[0.6666666666666666,\"#ed7953\"],[0.7777777777777778,\"#fb9f3a\"],[0.8888888888888888,\"#fdca26\"],[1.0,\"#f0f921\"]],\"type\":\"heatmapgl\"}],\"histogram\":[{\"marker\":{\"pattern\":{\"fillmode\":\"overlay\",\"size\":10,\"solidity\":0.2}},\"type\":\"histogram\"}],\"histogram2d\":[{\"colorbar\":{\"outlinewidth\":0,\"ticks\":\"\"},\"colorscale\":[[0.0,\"#0d0887\"],[0.1111111111111111,\"#46039f\"],[0.2222222222222222,\"#7201a8\"],[0.3333333333333333,\"#9c179e\"],[0.4444444444444444,\"#bd3786\"],[0.5555555555555556,\"#d8576b\"],[0.6666666666666666,\"#ed7953\"],[0.7777777777777778,\"#fb9f3a\"],[0.8888888888888888,\"#fdca26\"],[1.0,\"#f0f921\"]],\"type\":\"histogram2d\"}],\"histogram2dcontour\":[{\"colorbar\":{\"outlinewidth\":0,\"ticks\":\"\"},\"colorscale\":[[0.0,\"#0d0887\"],[0.1111111111111111,\"#46039f\"],[0.2222222222222222,\"#7201a8\"],[0.3333333333333333,\"#9c179e\"],[0.4444444444444444,\"#bd3786\"],[0.5555555555555556,\"#d8576b\"],[0.6666666666666666,\"#ed7953\"],[0.7777777777777778,\"#fb9f3a\"],[0.8888888888888888,\"#fdca26\"],[1.0,\"#f0f921\"]],\"type\":\"histogram2dcontour\"}],\"mesh3d\":[{\"colorbar\":{\"outlinewidth\":0,\"ticks\":\"\"},\"type\":\"mesh3d\"}],\"parcoords\":[{\"line\":{\"colorbar\":{\"outlinewidth\":0,\"ticks\":\"\"}},\"type\":\"parcoords\"}],\"pie\":[{\"automargin\":true,\"type\":\"pie\"}],\"scatter\":[{\"marker\":{\"colorbar\":{\"outlinewidth\":0,\"ticks\":\"\"}},\"type\":\"scatter\"}],\"scatter3d\":[{\"line\":{\"colorbar\":{\"outlinewidth\":0,\"ticks\":\"\"}},\"marker\":{\"colorbar\":{\"outlinewidth\":0,\"ticks\":\"\"}},\"type\":\"scatter3d\"}],\"scattercarpet\":[{\"marker\":{\"colorbar\":{\"outlinewidth\":0,\"ticks\":\"\"}},\"type\":\"scattercarpet\"}],\"scattergeo\":[{\"marker\":{\"colorbar\":{\"outlinewidth\":0,\"ticks\":\"\"}},\"type\":\"scattergeo\"}],\"scattergl\":[{\"marker\":{\"colorbar\":{\"outlinewidth\":0,\"ticks\":\"\"}},\"type\":\"scattergl\"}],\"scattermapbox\":[{\"marker\":{\"colorbar\":{\"outlinewidth\":0,\"ticks\":\"\"}},\"type\":\"scattermapbox\"}],\"scatterpolar\":[{\"marker\":{\"colorbar\":{\"outlinewidth\":0,\"ticks\":\"\"}},\"type\":\"scatterpolar\"}],\"scatterpolargl\":[{\"marker\":{\"colorbar\":{\"outlinewidth\":0,\"ticks\":\"\"}},\"type\":\"scatterpolargl\"}],\"scatterternary\":[{\"marker\":{\"colorbar\":{\"outlinewidth\":0,\"ticks\":\"\"}},\"type\":\"scatterternary\"}],\"surface\":[{\"colorbar\":{\"outlinewidth\":0,\"ticks\":\"\"},\"colorscale\":[[0.0,\"#0d0887\"],[0.1111111111111111,\"#46039f\"],[0.2222222222222222,\"#7201a8\"],[0.3333333333333333,\"#9c179e\"],[0.4444444444444444,\"#bd3786\"],[0.5555555555555556,\"#d8576b\"],[0.6666666666666666,\"#ed7953\"],[0.7777777777777778,\"#fb9f3a\"],[0.8888888888888888,\"#fdca26\"],[1.0,\"#f0f921\"]],\"type\":\"surface\"}],\"table\":[{\"cells\":{\"fill\":{\"color\":\"#EBF0F8\"},\"line\":{\"color\":\"white\"}},\"header\":{\"fill\":{\"color\":\"#C8D4E3\"},\"line\":{\"color\":\"white\"}},\"type\":\"table\"}]},\"layout\":{\"annotationdefaults\":{\"arrowcolor\":\"#2a3f5f\",\"arrowhead\":0,\"arrowwidth\":1},\"autotypenumbers\":\"strict\",\"coloraxis\":{\"colorbar\":{\"outlinewidth\":0,\"ticks\":\"\"}},\"colorscale\":{\"diverging\":[[0,\"#8e0152\"],[0.1,\"#c51b7d\"],[0.2,\"#de77ae\"],[0.3,\"#f1b6da\"],[0.4,\"#fde0ef\"],[0.5,\"#f7f7f7\"],[0.6,\"#e6f5d0\"],[0.7,\"#b8e186\"],[0.8,\"#7fbc41\"],[0.9,\"#4d9221\"],[1,\"#276419\"]],\"sequential\":[[0.0,\"#0d0887\"],[0.1111111111111111,\"#46039f\"],[0.2222222222222222,\"#7201a8\"],[0.3333333333333333,\"#9c179e\"],[0.4444444444444444,\"#bd3786\"],[0.5555555555555556,\"#d8576b\"],[0.6666666666666666,\"#ed7953\"],[0.7777777777777778,\"#fb9f3a\"],[0.8888888888888888,\"#fdca26\"],[1.0,\"#f0f921\"]],\"sequentialminus\":[[0.0,\"#0d0887\"],[0.1111111111111111,\"#46039f\"],[0.2222222222222222,\"#7201a8\"],[0.3333333333333333,\"#9c179e\"],[0.4444444444444444,\"#bd3786\"],[0.5555555555555556,\"#d8576b\"],[0.6666666666666666,\"#ed7953\"],[0.7777777777777778,\"#fb9f3a\"],[0.8888888888888888,\"#fdca26\"],[1.0,\"#f0f921\"]]},\"colorway\":[\"#636efa\",\"#EF553B\",\"#00cc96\",\"#ab63fa\",\"#FFA15A\",\"#19d3f3\",\"#FF6692\",\"#B6E880\",\"#FF97FF\",\"#FECB52\"],\"font\":{\"color\":\"#2a3f5f\"},\"geo\":{\"bgcolor\":\"white\",\"lakecolor\":\"white\",\"landcolor\":\"#E5ECF6\",\"showlakes\":true,\"showland\":true,\"subunitcolor\":\"white\"},\"hoverlabel\":{\"align\":\"left\"},\"hovermode\":\"closest\",\"mapbox\":{\"style\":\"light\"},\"paper_bgcolor\":\"white\",\"plot_bgcolor\":\"#E5ECF6\",\"polar\":{\"angularaxis\":{\"gridcolor\":\"white\",\"linecolor\":\"white\",\"ticks\":\"\"},\"bgcolor\":\"#E5ECF6\",\"radialaxis\":{\"gridcolor\":\"white\",\"linecolor\":\"white\",\"ticks\":\"\"}},\"scene\":{\"xaxis\":{\"backgroundcolor\":\"#E5ECF6\",\"gridcolor\":\"white\",\"gridwidth\":2,\"linecolor\":\"white\",\"showbackground\":true,\"ticks\":\"\",\"zerolinecolor\":\"white\"},\"yaxis\":{\"backgroundcolor\":\"#E5ECF6\",\"gridcolor\":\"white\",\"gridwidth\":2,\"linecolor\":\"white\",\"showbackground\":true,\"ticks\":\"\",\"zerolinecolor\":\"white\"},\"zaxis\":{\"backgroundcolor\":\"#E5ECF6\",\"gridcolor\":\"white\",\"gridwidth\":2,\"linecolor\":\"white\",\"showbackground\":true,\"ticks\":\"\",\"zerolinecolor\":\"white\"}},\"shapedefaults\":{\"line\":{\"color\":\"#2a3f5f\"}},\"ternary\":{\"aaxis\":{\"gridcolor\":\"white\",\"linecolor\":\"white\",\"ticks\":\"\"},\"baxis\":{\"gridcolor\":\"white\",\"linecolor\":\"white\",\"ticks\":\"\"},\"bgcolor\":\"#E5ECF6\",\"caxis\":{\"gridcolor\":\"white\",\"linecolor\":\"white\",\"ticks\":\"\"}},\"title\":{\"x\":0.05},\"xaxis\":{\"automargin\":true,\"gridcolor\":\"white\",\"linecolor\":\"white\",\"ticks\":\"\",\"title\":{\"standoff\":15},\"zerolinecolor\":\"white\",\"zerolinewidth\":2},\"yaxis\":{\"automargin\":true,\"gridcolor\":\"white\",\"linecolor\":\"white\",\"ticks\":\"\",\"title\":{\"standoff\":15},\"zerolinecolor\":\"white\",\"zerolinewidth\":2}}},\"geo\":{\"domain\":{\"x\":[0.0,0.495],\"y\":[0.0,0.3]},\"projection\":{\"type\":\"natural earth\"},\"center\":{}},\"geo2\":{\"domain\":{\"x\":[0.505,1.0],\"y\":[0.0,0.3]},\"projection\":{\"type\":\"natural earth\"},\"center\":{}},\"geo3\":{\"domain\":{\"x\":[0.0,0.495],\"y\":[0.35,0.6499999999999999]},\"projection\":{\"type\":\"natural earth\"},\"center\":{}},\"geo4\":{\"domain\":{\"x\":[0.505,1.0],\"y\":[0.35,0.6499999999999999]},\"projection\":{\"type\":\"natural earth\"},\"center\":{}},\"geo5\":{\"domain\":{\"x\":[0.0,0.495],\"y\":[0.7,1.0]},\"projection\":{\"type\":\"natural earth\"},\"center\":{}},\"geo6\":{\"domain\":{\"x\":[0.505,1.0],\"y\":[0.7,1.0]},\"projection\":{\"type\":\"natural earth\"},\"center\":{}},\"annotations\":[{\"font\":{},\"showarrow\":false,\"text\":\"Campaign=5\",\"x\":0.2475,\"xanchor\":\"center\",\"xref\":\"paper\",\"y\":0.3,\"yanchor\":\"bottom\",\"yref\":\"paper\"},{\"font\":{},\"showarrow\":false,\"text\":\"Campaign=Most recent\",\"x\":0.7525,\"xanchor\":\"center\",\"xref\":\"paper\",\"y\":0.3,\"yanchor\":\"bottom\",\"yref\":\"paper\"},{\"font\":{},\"showarrow\":false,\"text\":\"Campaign=3\",\"x\":0.2475,\"xanchor\":\"center\",\"xref\":\"paper\",\"y\":0.6499999999999999,\"yanchor\":\"bottom\",\"yref\":\"paper\"},{\"font\":{},\"showarrow\":false,\"text\":\"Campaign=4\",\"x\":0.7525,\"xanchor\":\"center\",\"xref\":\"paper\",\"y\":0.6499999999999999,\"yanchor\":\"bottom\",\"yref\":\"paper\"},{\"font\":{},\"showarrow\":false,\"text\":\"Campaign=1\",\"x\":0.2475,\"xanchor\":\"center\",\"xref\":\"paper\",\"y\":1.0,\"yanchor\":\"bottom\",\"yref\":\"paper\"},{\"font\":{},\"showarrow\":false,\"text\":\"Campaign=2\",\"x\":0.7525,\"xanchor\":\"center\",\"xref\":\"paper\",\"y\":1.0,\"yanchor\":\"bottom\",\"yref\":\"paper\"}],\"coloraxis\":{\"colorbar\":{\"title\":{\"text\":\"Accepted (%)\"}},\"colorscale\":[[0.0,\"#0d0887\"],[0.1111111111111111,\"#46039f\"],[0.2222222222222222,\"#7201a8\"],[0.3333333333333333,\"#9c179e\"],[0.4444444444444444,\"#bd3786\"],[0.5555555555555556,\"#d8576b\"],[0.6666666666666666,\"#ed7953\"],[0.7777777777777778,\"#fb9f3a\"],[0.8888888888888888,\"#fdca26\"],[1.0,\"#f0f921\"]]},\"legend\":{\"tracegroupgap\":0},\"title\":{\"text\":\"Advertising Campaign Success Rate by Country\"},\"width\":700},                        {\"responsive\": true}                    ).then(function(){\n",
       "                            \n",
       "var gd = document.getElementById('9f08b674-0c66-4b2e-9388-4e4c9e37667b');\n",
       "var x = new MutationObserver(function (mutations, observer) {{\n",
       "        var display = window.getComputedStyle(gd).display;\n",
       "        if (!display || display === 'none') {{\n",
       "            console.log([gd, 'removed!']);\n",
       "            Plotly.purge(gd);\n",
       "            observer.disconnect();\n",
       "        }}\n",
       "}});\n",
       "\n",
       "// Listen for the removal of the full notebook cells\n",
       "var notebookContainer = gd.closest('#notebook-container');\n",
       "if (notebookContainer) {{\n",
       "    x.observe(notebookContainer, {childList: true});\n",
       "}}\n",
       "\n",
       "// Listen for the clearing of the current output cell\n",
       "var outputEl = gd.closest('.output');\n",
       "if (outputEl) {{\n",
       "    x.observe(outputEl, {childList: true});\n",
       "}}\n",
       "\n",
       "                        })                };                            </script>        </div>\n",
       "</body>\n",
       "</html>"
      ]
     },
     "metadata": {},
     "output_type": "display_data"
    }
   ],
   "source": [
    "## I'm taking my best guess about the largest nations that make sense given the codes provided\n",
    "df['Country_code'] = df['Country'].replace({'SP': 'ESP', 'CA': 'CAN', 'US': 'USA', 'SA': 'ZAF', 'ME': 'MEX'})\n",
    "\n",
    "# Success of campaigns by country code\n",
    "df_cam = df[['Country_code', 'AcceptedCmp1', 'AcceptedCmp2', 'AcceptedCmp3', 'AcceptedCmp4', 'AcceptedCmp5', 'Response']].melt(\n",
    "    id_vars='Country_code', var_name='Campaign', value_name='Accepted (%)')\n",
    "df_cam = pd.DataFrame(df_cam.groupby(['Country_code', 'Campaign'])['Accepted (%)'].mean()*100).reset_index(drop=False)\n",
    "\n",
    "# Rename the campaign variables so they're easier to interpret\n",
    "df_cam['Campaign'] = df_cam['Campaign'].replace({'AcceptedCmp1': '1',\n",
    "                                                'AcceptedCmp2': '2',\n",
    "                                                'AcceptedCmp3': '3',\n",
    "                                                'AcceptedCmp4': '4',\n",
    "                                                'AcceptedCmp5': '5',\n",
    "                                                 'Response': 'Most recent'\n",
    "                                                })\n",
    "\n",
    "# choropleth plot\n",
    "import plotly.express as px\n",
    "\n",
    "fig = px.choropleth(df_cam, locationmode='ISO-3', color='Accepted (%)', facet_col='Campaign', facet_col_wrap=2,\n",
    "                    facet_row_spacing=0.05, facet_col_spacing=0.01, width=700,\n",
    "                    locations='Country_code', projection='natural earth', title='Advertising Campaign Success Rate by Country'\n",
    "                   )\n",
    "fig.show()"
   ]
  },
  {
   "cell_type": "markdown",
   "metadata": {
    "id": "DLJiawwCM0xj",
    "papermill": {
     "duration": 0.086699,
     "end_time": "2021-02-02T20:50:15.922850",
     "exception": false,
     "start_time": "2021-02-02T20:50:15.836151",
     "status": "completed"
    },
    "tags": []
   },
   "source": [
    "* Statistical summary of regional effects on campaign success:\n",
    "    - Methodology: Performed logistic regression for Campaign Accepted by Country, reporting Chisq p-value for overall model.\n",
    "    - Findings: The regional differences in advertising campaign success are statistically significant."
   ]
  },
  {
   "cell_type": "code",
   "execution_count": 43,
   "metadata": {
    "_kg_hide-input": true,
    "_kg_hide-output": true,
    "colab": {
     "base_uri": "https://localhost:8080/"
    },
    "execution": {
     "iopub.execute_input": "2021-02-02T20:50:16.125396Z",
     "iopub.status.busy": "2021-02-02T20:50:16.124428Z",
     "iopub.status.idle": "2021-02-02T20:50:16.690526Z",
     "shell.execute_reply": "2021-02-02T20:50:16.689829Z"
    },
    "id": "xfv8UD0dM0xk",
    "outputId": "ea2cf744-e22a-467c-c8d7-4f7474f68c9f",
    "papermill": {
     "duration": 0.678012,
     "end_time": "2021-02-02T20:50:16.690673",
     "exception": false,
     "start_time": "2021-02-02T20:50:16.012661",
     "status": "completed"
    },
    "tags": []
   },
   "outputs": [
    {
     "name": "stdout",
     "output_type": "stream",
     "text": [
      "                 Generalized Linear Model Regression Results                  \n",
      "==============================================================================\n",
      "Dep. Variable:           AcceptedCmp1   No. Observations:                 2237\n",
      "Model:                            GLM   Df Residuals:                     2229\n",
      "Model Family:                Binomial   Df Model:                            7\n",
      "Link Function:                  logit   Scale:                          1.0000\n",
      "Method:                          IRLS   Log-Likelihood:                -532.52\n",
      "Date:                Wed, 25 Jan 2023   Deviance:                       1065.0\n",
      "Time:                        00:21:54   Pearson chi2:                 2.23e+03\n",
      "No. Iterations:                    20                                         \n",
      "Covariance Type:            nonrobust                                         \n",
      "==================================================================================\n",
      "                     coef    std err          z      P>|z|      [0.025      0.975]\n",
      "----------------------------------------------------------------------------------\n",
      "Intercept         -3.0845      0.387     -7.980      0.000      -3.842      -2.327\n",
      "Country[T.CA]      0.4534      0.457      0.992      0.321      -0.442       1.349\n",
      "Country[T.GER]     0.3031      0.549      0.552      0.581      -0.772       1.379\n",
      "Country[T.IND]     0.0888      0.547      0.162      0.871      -0.984       1.161\n",
      "Country[T.ME]    -18.4815   1.69e+04     -0.001      0.999   -3.31e+04    3.31e+04\n",
      "Country[T.SA]      0.3245      0.450      0.721      0.471      -0.558       1.207\n",
      "Country[T.SP]      0.5176      0.404      1.281      0.200      -0.274       1.309\n",
      "Country[T.US]      0.4055      0.550      0.738      0.461      -0.672       1.483\n",
      "==================================================================================\n",
      "                 Generalized Linear Model Regression Results                  \n",
      "==============================================================================\n",
      "Dep. Variable:           AcceptedCmp2   No. Observations:                 2237\n",
      "Model:                            GLM   Df Residuals:                     2229\n",
      "Model Family:                Binomial   Df Model:                            7\n",
      "Link Function:                  logit   Scale:                          1.0000\n",
      "Method:                          IRLS   Log-Likelihood:                -154.66\n",
      "Date:                Wed, 25 Jan 2023   Deviance:                       309.32\n",
      "Time:                        00:21:54   Pearson chi2:                 1.97e+03\n",
      "No. Iterations:                    24                                         \n",
      "Covariance Type:            nonrobust                                         \n",
      "==================================================================================\n",
      "                     coef    std err          z      P>|z|      [0.025      0.975]\n",
      "----------------------------------------------------------------------------------\n",
      "Intercept        -25.5661   1.71e+04     -0.001      0.999   -3.35e+04    3.34e+04\n",
      "Country[T.CA]     21.7895   1.71e+04      0.001      0.999   -3.34e+04    3.35e+04\n",
      "Country[T.GER]    21.4886   1.71e+04      0.001      0.999   -3.34e+04    3.35e+04\n",
      "Country[T.IND]    21.2825   1.71e+04      0.001      0.999   -3.34e+04    3.35e+04\n",
      "Country[T.ME]   3.189e-05   1.26e+05   2.53e-10      1.000   -2.47e+05    2.47e+05\n",
      "Country[T.SA]     21.1473   1.71e+04      0.001      0.999   -3.34e+04    3.35e+04\n",
      "Country[T.SP]     21.3558   1.71e+04      0.001      0.999   -3.34e+04    3.35e+04\n",
      "Country[T.US]   3.188e-05   2.68e+04   1.19e-09      1.000   -5.26e+04    5.26e+04\n",
      "==================================================================================\n",
      "                 Generalized Linear Model Regression Results                  \n",
      "==============================================================================\n",
      "Dep. Variable:           AcceptedCmp3   No. Observations:                 2237\n",
      "Model:                            GLM   Df Residuals:                     2229\n",
      "Model Family:                Binomial   Df Model:                            7\n",
      "Link Function:                  logit   Scale:                          1.0000\n",
      "Method:                          IRLS   Log-Likelihood:                -581.86\n",
      "Date:                Wed, 25 Jan 2023   Deviance:                       1163.7\n",
      "Time:                        00:21:55   Pearson chi2:                 2.24e+03\n",
      "No. Iterations:                     6                                         \n",
      "Covariance Type:            nonrobust                                         \n",
      "==================================================================================\n",
      "                     coef    std err          z      P>|z|      [0.025      0.975]\n",
      "----------------------------------------------------------------------------------\n",
      "Intercept         -2.8201      0.343     -8.219      0.000      -3.493      -2.148\n",
      "Country[T.CA]      0.1890      0.421      0.449      0.654      -0.636       1.014\n",
      "Country[T.GER]     0.4222      0.476      0.886      0.375      -0.511       1.356\n",
      "Country[T.IND]     0.4872      0.450      1.084      0.279      -0.394       1.368\n",
      "Country[T.ME]      2.1269      1.272      1.672      0.094      -0.366       4.620\n",
      "Country[T.SA]      0.1120      0.411      0.273      0.785      -0.693       0.917\n",
      "Country[T.SP]      0.3202      0.362      0.885      0.376      -0.389       1.029\n",
      "Country[T.US]      0.2844      0.503      0.566      0.572      -0.701       1.270\n",
      "==================================================================================\n",
      "                 Generalized Linear Model Regression Results                  \n",
      "==============================================================================\n",
      "Dep. Variable:           AcceptedCmp4   No. Observations:                 2237\n",
      "Model:                            GLM   Df Residuals:                     2229\n",
      "Model Family:                Binomial   Df Model:                            7\n",
      "Link Function:                  logit   Scale:                          1.0000\n",
      "Method:                          IRLS   Log-Likelihood:                -589.87\n",
      "Date:                Wed, 25 Jan 2023   Deviance:                       1179.7\n",
      "Time:                        00:21:55   Pearson chi2:                 2.23e+03\n",
      "No. Iterations:                    20                                         \n",
      "Covariance Type:            nonrobust                                         \n",
      "==================================================================================\n",
      "                     coef    std err          z      P>|z|      [0.025      0.975]\n",
      "----------------------------------------------------------------------------------\n",
      "Intercept         -3.2452      0.416     -7.799      0.000      -4.061      -2.430\n",
      "Country[T.CA]      0.9261      0.468      1.979      0.048       0.009       1.843\n",
      "Country[T.GER]     0.9517      0.523      1.821      0.069      -0.073       1.976\n",
      "Country[T.IND]     0.7304      0.521      1.402      0.161      -0.291       1.752\n",
      "Country[T.ME]    -18.3209   1.69e+04     -0.001      0.999   -3.31e+04    3.31e+04\n",
      "Country[T.SA]      0.4852      0.476      1.020      0.308      -0.447       1.418\n",
      "Country[T.SP]      0.8211      0.431      1.907      0.057      -0.023       1.665\n",
      "Country[T.US]      0.4022      0.591      0.680      0.496      -0.757       1.561\n",
      "==================================================================================\n",
      "                 Generalized Linear Model Regression Results                  \n",
      "==============================================================================\n",
      "Dep. Variable:           AcceptedCmp5   No. Observations:                 2237\n",
      "Model:                            GLM   Df Residuals:                     2229\n",
      "Model Family:                Binomial   Df Model:                            7\n",
      "Link Function:                  logit   Scale:                          1.0000\n",
      "Method:                          IRLS   Log-Likelihood:                -578.17\n",
      "Date:                Wed, 25 Jan 2023   Deviance:                       1156.3\n",
      "Time:                        00:21:55   Pearson chi2:                 2.23e+03\n",
      "No. Iterations:                    20                                         \n",
      "Covariance Type:            nonrobust                                         \n",
      "==================================================================================\n",
      "                     coef    std err          z      P>|z|      [0.025      0.975]\n",
      "----------------------------------------------------------------------------------\n",
      "Intercept         -2.4255      0.289     -8.382      0.000      -2.993      -1.858\n",
      "Country[T.CA]     -0.0394      0.368     -0.107      0.915      -0.761       0.682\n",
      "Country[T.GER]    -0.2136      0.467     -0.458      0.647      -1.128       0.701\n",
      "Country[T.IND]    -0.7315      0.507     -1.442      0.149      -1.726       0.263\n",
      "Country[T.ME]    -19.1406   1.69e+04     -0.001      0.999   -3.31e+04    3.31e+04\n",
      "Country[T.SA]     -0.2826      0.367     -0.770      0.441      -1.001       0.436\n",
      "Country[T.SP]     -0.0109      0.310     -0.035      0.972      -0.618       0.597\n",
      "Country[T.US]     -0.6095      0.542     -1.125      0.260      -1.671       0.452\n",
      "==================================================================================\n",
      "                 Generalized Linear Model Regression Results                  \n",
      "==============================================================================\n",
      "Dep. Variable:               Response   No. Observations:                 2237\n",
      "Model:                            GLM   Df Residuals:                     2229\n",
      "Model Family:                Binomial   Df Model:                            7\n",
      "Link Function:                  logit   Scale:                          1.0000\n",
      "Method:                          IRLS   Log-Likelihood:                -937.28\n",
      "Date:                Wed, 25 Jan 2023   Deviance:                       1874.6\n",
      "Time:                        00:21:55   Pearson chi2:                 2.24e+03\n",
      "No. Iterations:                     5                                         \n",
      "Covariance Type:            nonrobust                                         \n",
      "==================================================================================\n",
      "                     coef    std err          z      P>|z|      [0.025      0.975]\n",
      "----------------------------------------------------------------------------------\n",
      "Intercept         -1.7845      0.225     -7.919      0.000      -2.226      -1.343\n",
      "Country[T.CA]     -0.0160      0.285     -0.056      0.955      -0.575       0.543\n",
      "Country[T.GER]    -0.0170      0.345     -0.049      0.961      -0.694       0.660\n",
      "Country[T.IND]    -0.5484      0.368     -1.492      0.136      -1.269       0.172\n",
      "Country[T.ME]      2.4776      1.245      1.990      0.047       0.037       4.918\n",
      "Country[T.SA]      0.0868      0.271      0.320      0.749      -0.445       0.618\n",
      "Country[T.SP]      0.1328      0.240      0.553      0.580      -0.337       0.603\n",
      "Country[T.US]     -0.2149      0.372     -0.578      0.563      -0.943       0.513\n",
      "==================================================================================\n",
      "\n",
      "Chisq p-values:  [0.0, 0.0, 0.0, 0.0, 0.0, 0.0]\n"
     ]
    }
   ],
   "source": [
    "# Calculate logistic regression p-values for campaign acceptance ~ country using generalized linear model\n",
    "import statsmodels.formula.api as smf\n",
    "import statsmodels as sm\n",
    "from scipy import stats\n",
    "\n",
    "## Get the data of interest for GLM\n",
    "df_cam_wide = df[['Country', 'AcceptedCmp1', 'AcceptedCmp2', 'AcceptedCmp3', 'AcceptedCmp4', 'AcceptedCmp5', 'Response']]\n",
    "\n",
    "## Store statistics results\n",
    "stat_results = []\n",
    "\n",
    "## Perform GLM\n",
    "for col in df_cam_wide.drop(columns='Country').columns:\n",
    "    this_data = df_cam_wide[['Country', col]]\n",
    "    \n",
    "    # Define formula\n",
    "    formula = col+'~Country'\n",
    "    \n",
    "    # Logistic regression (family=binomial)\n",
    "    model = smf.glm(formula = formula, data=this_data, family=sm.genmod.families.Binomial())\n",
    "    result = model.fit()\n",
    "    \n",
    "    # Get chisquare value for overall model (CampaignAccepted ~ Country) and calculate p-value\n",
    "    chisq = result.pearson_chi2\n",
    "    pval = stats.distributions.chi2.sf(chisq , 7) # Df Model = 7 degrees of freedom when you run result.summary()\n",
    "     \n",
    "    # Append to stat_results\n",
    "    stat_results.append(pval)\n",
    "    \n",
    "    # Print stat summary for entire model\n",
    "    print(result.summary())\n",
    "    \n",
    "## Check results\n",
    "print(\"\\nChisq p-values: \", stat_results)"
   ]
  },
  {
   "cell_type": "code",
   "execution_count": 44,
   "metadata": {
    "_kg_hide-input": true,
    "colab": {
     "base_uri": "https://localhost:8080/",
     "height": 437
    },
    "execution": {
     "iopub.execute_input": "2021-02-02T20:50:16.884949Z",
     "iopub.status.busy": "2021-02-02T20:50:16.883720Z",
     "iopub.status.idle": "2021-02-02T20:50:18.871883Z",
     "shell.execute_reply": "2021-02-02T20:50:18.872585Z"
    },
    "id": "XmGz2WuSM0xk",
    "outputId": "3b91e94b-a34a-4098-f36d-44ee0a88d979",
    "papermill": {
     "duration": 2.092908,
     "end_time": "2021-02-02T20:50:18.872766",
     "exception": false,
     "start_time": "2021-02-02T20:50:16.779858",
     "status": "completed"
    },
    "tags": []
   },
   "outputs": [
    {
     "data": {
      "image/png": "[encoded data removed]",
      "text/plain": [
       "<Figure size 648x432 with 6 Axes>"
      ]
     },
     "metadata": {},
     "output_type": "display_data"
    }
   ],
   "source": [
    "## Merge in the original country codes provided in the dataset\n",
    "countries = df[['Country', 'Country_code']].drop_duplicates().reset_index(drop=True)\n",
    "df_cam2 = df_cam.merge(countries, how='left', on='Country_code')\n",
    "df_cam2.head()\n",
    "\n",
    "## Bar graphs\n",
    "g = sns.FacetGrid(df_cam2, col='Campaign', col_wrap=3)\n",
    "g.map(sns.barplot, 'Country', 'Accepted (%)')\n",
    "\n",
    "for ax, pval in zip(g.axes.flat, stat_results):\n",
    "    ax.text(0, 65, \"Chisq p-value: \"+str(pval), fontsize=9) #add text;"
   ]
  },
  {
   "cell_type": "markdown",
   "metadata": {
    "id": "mgfq6RqnM0xk",
    "papermill": {
     "duration": 0.090578,
     "end_time": "2021-02-02T20:50:19.051818",
     "exception": false,
     "start_time": "2021-02-02T20:50:18.961240",
     "status": "completed"
    },
    "tags": []
   },
   "source": [
    "# Section 03: Data Visualization"
   ]
  },
  {
   "cell_type": "markdown",
   "metadata": {
    "id": "uvUBFSKdM0xk",
    "papermill": {
     "duration": 0.088116,
     "end_time": "2021-02-02T20:50:19.228835",
     "exception": false,
     "start_time": "2021-02-02T20:50:19.140719",
     "status": "completed"
    },
    "tags": []
   },
   "source": [
    "Plot and visualize the answers to the below questions.\n",
    "\n",
    "### Which marketing campaign is most successful?\n",
    "\n",
    "* Plot marketing campaign overall acceptance rates:\n",
    "    - Findings: The most successful campaign is the most recent (column name: `Response`)."
   ]
  },
  {
   "cell_type": "code",
   "execution_count": 45,
   "metadata": {
    "_kg_hide-input": true,
    "colab": {
     "base_uri": "https://localhost:8080/",
     "height": 303
    },
    "execution": {
     "iopub.execute_input": "2021-02-02T20:50:19.439819Z",
     "iopub.status.busy": "2021-02-02T20:50:19.438939Z",
     "iopub.status.idle": "2021-02-02T20:50:19.804825Z",
     "shell.execute_reply": "2021-02-02T20:50:19.805716Z"
    },
    "id": "HLmS3osuM0xl",
    "outputId": "a6afcba6-d809-4306-ef70-167946cbf9db",
    "papermill": {
     "duration": 0.488884,
     "end_time": "2021-02-02T20:50:19.806096",
     "exception": false,
     "start_time": "2021-02-02T20:50:19.317212",
     "status": "completed"
    },
    "tags": []
   },
   "outputs": [
    {
     "data": {
      "image/png": "[encoded data removed]",
      "text/plain": [
       "<Figure size 432x288 with 1 Axes>"
      ]
     },
     "metadata": {},
     "output_type": "display_data"
    }
   ],
   "source": [
    "# Calculate success rate (percent accepted)\n",
    "cam_success = pd.DataFrame(df[['AcceptedCmp1', 'AcceptedCmp2', 'AcceptedCmp3', 'AcceptedCmp4', 'AcceptedCmp5', 'Response']].mean()*100, \n",
    "                           columns=['Percent']).reset_index()\n",
    "\n",
    "# Plot\n",
    "sns.barplot(x='Percent', y='index', data=cam_success.sort_values('Percent'), palette='Blues')\n",
    "plt.xlabel('Accepted (%)')\n",
    "plt.ylabel('Campaign')\n",
    "plt.title('Marketing campaign success rate', size=16);"
   ]
  },
  {
   "cell_type": "markdown",
   "metadata": {
    "id": "0MWUa64dM0xl",
    "papermill": {
     "duration": 0.093078,
     "end_time": "2021-02-02T20:50:19.996434",
     "exception": false,
     "start_time": "2021-02-02T20:50:19.903356",
     "status": "completed"
    },
    "tags": []
   },
   "source": [
    "### What does the average customer look like for this company?\n",
    "\n",
    "* Basic demographics: The average customer is:\n",
    "    - Born in 1969\n",
    "    - Became a customer in 2013\n",
    "    - Has an income of roughly \\$52,000 per year\n",
    "    - Has 1 dependent (roughly equally split between kids or teens)\n",
    "    - Made a purchase from our company in the last 49 days"
   ]
  },
  {
   "cell_type": "code",
   "execution_count": 46,
   "metadata": {
    "_kg_hide-input": true,
    "_kg_hide-output": true,
    "execution": {
     "iopub.execute_input": "2021-02-02T20:50:20.195620Z",
     "iopub.status.busy": "2021-02-02T20:50:20.194464Z",
     "iopub.status.idle": "2021-02-02T20:50:20.197210Z",
     "shell.execute_reply": "2021-02-02T20:50:20.198161Z"
    },
    "id": "v7fwPLn7M0xl",
    "papermill": {
     "duration": 0.106429,
     "end_time": "2021-02-02T20:50:20.198457",
     "exception": false,
     "start_time": "2021-02-02T20:50:20.092028",
     "status": "completed"
    },
    "tags": []
   },
   "outputs": [],
   "source": [
    "# List of cols with binary responses\n",
    "binary_cols = [col for col in df.columns if 'Accepted' in col] + ['Response', 'Complain']\n",
    "\n",
    "# List of cols for spending \n",
    "mnt_cols = [col for col in df.columns if 'Mnt' in col]\n",
    "\n",
    "# List of cols for channels\n",
    "channel_cols = [col for col in df.columns if 'Num' in col] + ['TotalPurchases', 'TotalCampaignsAcc']"
   ]
  },
  {
   "cell_type": "code",
   "execution_count": 47,
   "metadata": {
    "_kg_hide-input": true,
    "colab": {
     "base_uri": "https://localhost:8080/",
     "height": 269
    },
    "execution": {
     "iopub.execute_input": "2021-02-02T20:50:20.420226Z",
     "iopub.status.busy": "2021-02-02T20:50:20.413552Z",
     "iopub.status.idle": "2021-02-02T20:50:20.439193Z",
     "shell.execute_reply": "2021-02-02T20:50:20.438418Z"
    },
    "id": "Ugvor3bEM0xl",
    "outputId": "43aff2c6-ed3b-4e87-8074-d5c4b04cc9a2",
    "papermill": {
     "duration": 0.131789,
     "end_time": "2021-02-02T20:50:20.439355",
     "exception": false,
     "start_time": "2021-02-02T20:50:20.307566",
     "status": "completed"
    },
    "tags": []
   },
   "outputs": [
    {
     "data": {
      "text/html": [
       "\n",
       "  <div id=\"df-6d94b6c0-b485-4f20-bd28-44817195cd1a\">\n",
       "    <div class=\"colab-df-container\">\n",
       "      <div>\n",
       "<style scoped>\n",
       "    .dataframe tbody tr th:only-of-type {\n",
       "        vertical-align: middle;\n",
       "    }\n",
       "\n",
       "    .dataframe tbody tr th {\n",
       "        vertical-align: top;\n",
       "    }\n",
       "\n",
       "    .dataframe thead th {\n",
       "        text-align: right;\n",
       "    }\n",
       "</style>\n",
       "<table border=\"1\" class=\"dataframe\">\n",
       "  <thead>\n",
       "    <tr style=\"text-align: right;\">\n",
       "      <th></th>\n",
       "      <th>Average</th>\n",
       "    </tr>\n",
       "  </thead>\n",
       "  <tbody>\n",
       "    <tr>\n",
       "      <th>Year_Birth</th>\n",
       "      <td>1968.9</td>\n",
       "    </tr>\n",
       "    <tr>\n",
       "      <th>Year_Customer</th>\n",
       "      <td>2013.0</td>\n",
       "    </tr>\n",
       "    <tr>\n",
       "      <th>Income</th>\n",
       "      <td>52227.4</td>\n",
       "    </tr>\n",
       "    <tr>\n",
       "      <th>Dependents</th>\n",
       "      <td>1.0</td>\n",
       "    </tr>\n",
       "    <tr>\n",
       "      <th>Kidhome</th>\n",
       "      <td>0.4</td>\n",
       "    </tr>\n",
       "    <tr>\n",
       "      <th>Teenhome</th>\n",
       "      <td>0.5</td>\n",
       "    </tr>\n",
       "    <tr>\n",
       "      <th>Recency</th>\n",
       "      <td>49.1</td>\n",
       "    </tr>\n",
       "  </tbody>\n",
       "</table>\n",
       "</div>\n",
       "      <button class=\"colab-df-convert\" onclick=\"convertToInteractive('df-6d94b6c0-b485-4f20-bd28-44817195cd1a')\"\n",
       "              title=\"Convert this dataframe to an interactive table.\"\n",
       "              style=\"display:none;\">\n",
       "        \n",
       "  <svg xmlns=\"http://www.w3.org/2000/svg\" height=\"24px\"viewBox=\"0 0 24 24\"\n",
       "       width=\"24px\">\n",
       "    <path d=\"M0 0h24v24H0V0z\" fill=\"none\"/>\n",
       "    <path d=\"M18.56 5.44l.94 2.06.94-2.06 2.06-.94-2.06-.94-.94-2.06-.94 2.06-2.06.94zm-11 1L8.5 8.5l.94-2.06 2.06-.94-2.06-.94L8.5 2.5l-.94 2.06-2.06.94zm10 10l.94 2.06.94-2.06 2.06-.94-2.06-.94-.94-2.06-.94 2.06-2.06.94z\"/><path d=\"M17.41 7.96l-1.37-1.37c-.4-.4-.92-.59-1.43-.59-.52 0-1.04.2-1.43.59L10.3 9.45l-7.72 7.72c-.78.78-.78 2.05 0 2.83L4 21.41c.39.39.9.59 1.41.59.51 0 1.02-.2 1.41-.59l7.78-7.78 2.81-2.81c.8-.78.8-2.07 0-2.86zM5.41 20L4 18.59l7.72-7.72 1.47 1.35L5.41 20z\"/>\n",
       "  </svg>\n",
       "      </button>\n",
       "      \n",
       "  <style>\n",
       "    .colab-df-container {\n",
       "      display:flex;\n",
       "      flex-wrap:wrap;\n",
       "      gap: 12px;\n",
       "    }\n",
       "\n",
       "    .colab-df-convert {\n",
       "      background-color: #E8F0FE;\n",
       "      border: none;\n",
       "      border-radius: 50%;\n",
       "      cursor: pointer;\n",
       "      display: none;\n",
       "      fill: #1967D2;\n",
       "      height: 32px;\n",
       "      padding: 0 0 0 0;\n",
       "      width: 32px;\n",
       "    }\n",
       "\n",
       "    .colab-df-convert:hover {\n",
       "      background-color: #E2EBFA;\n",
       "      box-shadow: 0px 1px 2px rgba(60, 64, 67, 0.3), 0px 1px 3px 1px rgba(60, 64, 67, 0.15);\n",
       "      fill: #174EA6;\n",
       "    }\n",
       "\n",
       "    [theme=dark] .colab-df-convert {\n",
       "      background-color: #3B4455;\n",
       "      fill: #D2E3FC;\n",
       "    }\n",
       "\n",
       "    [theme=dark] .colab-df-convert:hover {\n",
       "      background-color: #434B5C;\n",
       "      box-shadow: 0px 1px 3px 1px rgba(0, 0, 0, 0.15);\n",
       "      filter: drop-shadow(0px 1px 2px rgba(0, 0, 0, 0.3));\n",
       "      fill: #FFFFFF;\n",
       "    }\n",
       "  </style>\n",
       "\n",
       "      <script>\n",
       "        const buttonEl =\n",
       "          document.querySelector('#df-6d94b6c0-b485-4f20-bd28-44817195cd1a button.colab-df-convert');\n",
       "        buttonEl.style.display =\n",
       "          google.colab.kernel.accessAllowed ? 'block' : 'none';\n",
       "\n",
       "        async function convertToInteractive(key) {\n",
       "          const element = document.querySelector('#df-6d94b6c0-b485-4f20-bd28-44817195cd1a');\n",
       "          const dataTable =\n",
       "            await google.colab.kernel.invokeFunction('convertToInteractive',\n",
       "                                                     [key], {});\n",
       "          if (!dataTable) return;\n",
       "\n",
       "          const docLinkHtml = 'Like what you see? Visit the ' +\n",
       "            '<a target=\"_blank\" href=https://colab.research.google.com/notebooks/data_table.ipynb>data table notebook</a>'\n",
       "            + ' to learn more about interactive tables.';\n",
       "          element.innerHTML = '';\n",
       "          dataTable['output_type'] = 'display_data';\n",
       "          await google.colab.output.renderOutput(dataTable, element);\n",
       "          const docLink = document.createElement('div');\n",
       "          docLink.innerHTML = docLinkHtml;\n",
       "          element.appendChild(docLink);\n",
       "        }\n",
       "      </script>\n",
       "    </div>\n",
       "  </div>\n",
       "  "
      ],
      "text/plain": [
       "               Average\n",
       "Year_Birth      1968.9\n",
       "Year_Customer   2013.0\n",
       "Income         52227.4\n",
       "Dependents         1.0\n",
       "Kidhome            0.4\n",
       "Teenhome           0.5\n",
       "Recency           49.1"
      ]
     },
     "execution_count": 47,
     "metadata": {},
     "output_type": "execute_result"
    }
   ],
   "source": [
    "# Average customer demographics\n",
    "demographics = pd.DataFrame(round(df.drop(columns=binary_cols+mnt_cols+channel_cols).mean(), 1), columns=['Average']).reindex([\n",
    "    'Year_Birth', 'Year_Customer', 'Income', 'Dependents', 'Kidhome', 'Teenhome', 'Recency'])\n",
    "\n",
    "demographics"
   ]
  },
  {
   "cell_type": "markdown",
   "metadata": {
    "id": "OXvuyEsSM0xl",
    "papermill": {
     "duration": 0.094236,
     "end_time": "2021-02-02T20:50:20.629771",
     "exception": false,
     "start_time": "2021-02-02T20:50:20.535535",
     "status": "completed"
    },
    "tags": []
   },
   "source": [
    "### Which products are performing best?\n",
    "\n",
    "* The average customer spent:\n",
    "    - \\$25-50 on Fruits, Sweets, Fish, or Gold products\n",
    "    - Over \\$160 on Meat products\n",
    "    - Over \\$300 on Wines\n",
    "    - Over \\$600 total\n",
    "* Products performing best:\n",
    "    - Wines\n",
    "    - Followed by meats"
   ]
  },
  {
   "cell_type": "code",
   "execution_count": 48,
   "metadata": {
    "_kg_hide-input": true,
    "colab": {
     "base_uri": "https://localhost:8080/",
     "height": 285
    },
    "execution": {
     "iopub.execute_input": "2021-02-02T20:50:20.847582Z",
     "iopub.status.busy": "2021-02-02T20:50:20.839947Z",
     "iopub.status.idle": "2021-02-02T20:50:21.165198Z",
     "shell.execute_reply": "2021-02-02T20:50:21.164422Z"
    },
    "id": "tb4hPqSkM0xm",
    "outputId": "92b9ca54-edff-4f8a-cd51-9552a5b944e1",
    "papermill": {
     "duration": 0.440429,
     "end_time": "2021-02-02T20:50:21.165356",
     "exception": false,
     "start_time": "2021-02-02T20:50:20.724927",
     "status": "completed"
    },
    "tags": []
   },
   "outputs": [
    {
     "data": {
      "image/png": "[encoded data removed]",
      "text/plain": [
       "<Figure size 432x288 with 1 Axes>"
      ]
     },
     "metadata": {},
     "output_type": "display_data"
    }
   ],
   "source": [
    "spending = pd.DataFrame(round(df[mnt_cols].mean(), 1), columns=['Average']).sort_values(by='Average').reset_index()\n",
    "\n",
    "# Plot\n",
    "ax = sns.barplot(x='Average', y='index', data=spending, palette='Blues')\n",
    "plt.ylabel('Amount spent on...')\n",
    "\n",
    "## Add text labels for each bar's value\n",
    "for p,q in zip(ax.patches, spending['Average']):\n",
    "    ax.text(x=q+40,\n",
    "            y=p.get_y()+0.5,\n",
    "            s=q,\n",
    "            ha=\"center\") ;"
   ]
  },
  {
   "cell_type": "markdown",
   "metadata": {
    "id": "Nw8jrel1M0xm",
    "papermill": {
     "duration": 0.094129,
     "end_time": "2021-02-02T20:50:21.353359",
     "exception": false,
     "start_time": "2021-02-02T20:50:21.259230",
     "status": "completed"
    },
    "tags": []
   },
   "source": [
    "### Which channels are underperforming?\n",
    "\n",
    "* Channels: The average customer is\n",
    "    - Accepted less than 1 advertising campaign\n",
    "    - Made 2 deals purchases, 2 catalog purchases, 4 web purchases, and 5 store purchases\n",
    "    - Averaged 14 total purchases\n",
    "    - Visited the website 5 times\n",
    "* Underperforming channels:\n",
    "    - Advertising campaigns\n",
    "    - Followed by deals, and catalog"
   ]
  },
  {
   "cell_type": "code",
   "execution_count": 49,
   "metadata": {
    "_kg_hide-input": true,
    "colab": {
     "base_uri": "https://localhost:8080/",
     "height": 285
    },
    "execution": {
     "iopub.execute_input": "2021-02-02T20:50:21.566050Z",
     "iopub.status.busy": "2021-02-02T20:50:21.565158Z",
     "iopub.status.idle": "2021-02-02T20:50:21.869040Z",
     "shell.execute_reply": "2021-02-02T20:50:21.869681Z"
    },
    "id": "yHWiCBA_M0xm",
    "outputId": "8111c96a-2aa3-47cd-bac4-ca696ae20213",
    "papermill": {
     "duration": 0.422691,
     "end_time": "2021-02-02T20:50:21.869871",
     "exception": false,
     "start_time": "2021-02-02T20:50:21.447180",
     "status": "completed"
    },
    "tags": []
   },
   "outputs": [
    {
     "data": {
      "image/png": "[encoded data removed]",
      "text/plain": [
       "<Figure size 432x288 with 1 Axes>"
      ]
     },
     "metadata": {},
     "output_type": "display_data"
    }
   ],
   "source": [
    "channels = pd.DataFrame(round(df[channel_cols].mean(), 1), columns=['Average']).sort_values(by='Average').reset_index()\n",
    "\n",
    "# Plot\n",
    "ax = sns.barplot(x='Average', y='index', data=channels, palette='Blues')\n",
    "plt.ylabel('Number of...')\n",
    "\n",
    "## Add text labels for each bar's value\n",
    "for p,q in zip(ax.patches, channels['Average']):\n",
    "    ax.text(x=q+0.8,\n",
    "            y=p.get_y()+0.5,\n",
    "            s=q,\n",
    "            ha=\"center\") ;"
   ]
  },
  {
   "cell_type": "markdown",
   "metadata": {
    "id": "Dje0TtsAM0xm",
    "papermill": {
     "duration": 0.096247,
     "end_time": "2021-02-02T20:50:22.059082",
     "exception": false,
     "start_time": "2021-02-02T20:50:21.962835",
     "status": "completed"
    },
    "tags": []
   },
   "source": [
    "# Conclusion"
   ]
  },
  {
   "cell_type": "markdown",
   "metadata": {
    "id": "talyKk5XM0xn",
    "papermill": {
     "duration": 0.097633,
     "end_time": "2021-02-02T20:50:22.255159",
     "exception": false,
     "start_time": "2021-02-02T20:50:22.157526",
     "status": "completed"
    },
    "tags": []
   },
   "source": [
    "\n",
    "**Recall the overall goal:**  \n",
    "You're a Data Scientist and you've been told by the Chief Marketing Officer that recent marketing campaigns have not been as effective as they were expected to be. You need to analyze the data set to understand this problem and propose data-driven solutions.\n",
    "\n",
    "**Summary of actionable findings to improve advertising campaign success:**  \n",
    "* The most successful advertising campaign was the most recent campaign (column name: `Response`), and was particularly successful in Mexico (>60% acceptance rate)\n",
    "    - Recommendation: Conduct future advertising campaigns using the same model recently implemented in Mexico. \n",
    "* Advertising campaign acceptance is positively correlated with income and negatively correlated with having kids/teens\n",
    "    - Recommendation: Create two streams of targeted advertising campaigns, one aimed at high-income individuals without kids/teens and another aimed at lower-income individuals with kids/teens\n",
    "* The most successful products are wines and meats (*i.e.* the average customer spent the most on these items)\n",
    "    - Recommendation: Focus advertising campaigns on boosting sales of the less popular items\n",
    "* The underperforming channels are deals and catalog purchases (*i.e.* the average customer made the fewest purchases via these channels)\n",
    "* The best performing channels are web and store purchases (*i.e.* the average customer made the most purchases via these channels)\n",
    "    - Recommendation: Focus advertising campaigns on more successful channels, to reach more customers"
   ]
  }
 ],
 "metadata": {
  "colab": {
   "provenance": []
  },
  "kernelspec": {
   "display_name": "Python 3",
   "language": "python",
   "name": "python3"
  },
  "language_info": {
   "codemirror_mode": {
    "name": "ipython",
    "version": 3
   },
   "file_extension": ".py",
   "mimetype": "text/x-python",
   "name": "python",
   "nbconvert_exporter": "python",
   "pygments_lexer": "ipython3",
   "version": "3.8.8"
  },
  "papermill": {
   "duration": 50.801251,
   "end_time": "2021-02-02T20:50:22.462257",
   "environment_variables": {},
   "exception": null,
   "input_path": "__notebook__.ipynb",
   "output_path": "__notebook__.ipynb",
   "parameters": {},
   "start_time": "2021-02-02T20:49:31.661006",
   "version": "2.1.0"
  }
 },
 "nbformat": 4,
 "nbformat_minor": 1
}
