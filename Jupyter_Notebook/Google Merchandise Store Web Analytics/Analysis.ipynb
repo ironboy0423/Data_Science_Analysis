{
 "cells": [
  {
   "cell_type": "code",
   "execution_count": 1,
   "metadata": {
    "_cell_guid": "b1076dfc-b9ad-4769-8c92-a6c4dae69d19",
    "_uuid": "8f2839f25d086af736a60e9eeb907d3b93b6e0e5",
    "execution": {
     "iopub.execute_input": "2020-11-15T13:34:24.098012Z",
     "iopub.status.busy": "2020-11-15T13:34:24.097193Z",
     "iopub.status.idle": "2020-11-15T13:34:24.105027Z",
     "shell.execute_reply": "2020-11-15T13:34:24.104230Z"
    },
    "papermill": {
     "duration": 0.042048,
     "end_time": "2020-11-15T13:34:24.105157",
     "exception": false,
     "start_time": "2020-11-15T13:34:24.063109",
     "status": "completed"
    },
    "tags": []
   },
   "outputs": [
    {
     "name": "stderr",
     "output_type": "stream",
     "text": [
      "F:\\ProgramData\\Anaconda\\lib\\site-packages\\numpy\\_distributor_init.py:30: UserWarning: loaded more than 1 DLL from .libs:\n",
      "F:\\ProgramData\\Anaconda\\lib\\site-packages\\numpy\\.libs\\libopenblas.PYQHXLVVQ7VESDPUVUADXEVJOBGHJPAY.gfortran-win_amd64.dll\n",
      "F:\\ProgramData\\Anaconda\\lib\\site-packages\\numpy\\.libs\\libopenblas.WCDJNK7YVMPZQ2ME2ZZHJJRJ3JIKNDB7.gfortran-win_amd64.dll\n",
      "  warnings.warn(\"loaded more than 1 DLL from .libs:\\n%s\" %\n"
     ]
    }
   ],
   "source": [
    "import numpy as np # linear algebra\n",
    "import pandas as pd # data processing, CSV file I/O (e.g. pd.read_csv)\n",
    "\n",
    "# Input data files are available in the read-only \"../input/\" directory\n",
    "# For example, running this (by clicking run or pressing Shift+Enter) will list all files under the input directory\n",
    "\n",
    "import os\n",
    "for dirname, _, filenames in os.walk('/kaggle/input'):\n",
    "    for filename in filenames:\n",
    "        print(os.path.join(dirname, filename))"
   ]
  },
  {
   "cell_type": "code",
   "execution_count": 2,
   "metadata": {
    "_cell_guid": "79c7e3d0-c299-4dcb-8224-4455121ee9b0",
    "_uuid": "d629ff2d2480ee46fbb7e2d37f6b5fab8052498a",
    "execution": {
     "iopub.execute_input": "2020-11-15T13:34:24.168870Z",
     "iopub.status.busy": "2020-11-15T13:34:24.168070Z",
     "iopub.status.idle": "2020-11-15T13:34:26.309506Z",
     "shell.execute_reply": "2020-11-15T13:34:26.310250Z"
    },
    "papermill": {
     "duration": 2.17868,
     "end_time": "2020-11-15T13:34:26.310474",
     "exception": false,
     "start_time": "2020-11-15T13:34:24.131794",
     "status": "completed"
    },
    "tags": []
   },
   "outputs": [
    {
     "data": {
      "text/html": [
       "        <script type=\"text/javascript\">\n",
       "        window.PlotlyConfig = {MathJaxConfig: 'local'};\n",
       "        if (window.MathJax) {MathJax.Hub.Config({SVG: {font: \"STIX-Web\"}});}\n",
       "        if (typeof require !== 'undefined') {\n",
       "        require.undef(\"plotly\");\n",
       "        requirejs.config({\n",
       "            paths: {\n",
       "                'plotly': ['https://cdn.plot.ly/plotly-latest.min']\n",
       "            }\n",
       "        });\n",
       "        require(['plotly'], function(Plotly) {\n",
       "            window._Plotly = Plotly;\n",
       "        });\n",
       "        }\n",
       "        </script>\n",
       "        "
      ]
     },
     "metadata": {},
     "output_type": "display_data"
    },
    {
     "name": "stdout",
     "output_type": "stream",
     "text": [
      "Using Kaggle's public dataset BigQuery integration.\n"
     ]
    }
   ],
   "source": [
    "import bq_helper\n",
    "import matplotlib\n",
    "import matplotlib.pyplot as plt\n",
    "import seaborn as sns\n",
    "from IPython.display import set_matplotlib_formats\n",
    "from plotly.offline import init_notebook_mode, iplot\n",
    "init_notebook_mode(connected=True)\n",
    "import plotly.graph_objs as go\n",
    "import plotly.express as px\n",
    "\n",
    "set_matplotlib_formats('retina')\n",
    "%matplotlib inline\n",
    "\n",
    "from google.cloud import bigquery\n",
    "client = bigquery.Client()"
   ]
  },
  {
   "cell_type": "code",
   "execution_count": 3,
   "metadata": {
    "execution": {
     "iopub.execute_input": "2020-11-15T13:34:26.372728Z",
     "iopub.status.busy": "2020-11-15T13:34:26.371900Z",
     "iopub.status.idle": "2020-11-15T13:34:30.629906Z",
     "shell.execute_reply": "2020-11-15T13:34:30.630490Z"
    },
    "papermill": {
     "duration": 4.292502,
     "end_time": "2020-11-15T13:34:30.630662",
     "exception": false,
     "start_time": "2020-11-15T13:34:26.338160",
     "status": "completed"
    },
    "tags": []
   },
   "outputs": [
    {
     "data": {
      "text/html": [
       "<div>\n",
       "<style scoped>\n",
       "    .dataframe tbody tr th:only-of-type {\n",
       "        vertical-align: middle;\n",
       "    }\n",
       "\n",
       "    .dataframe tbody tr th {\n",
       "        vertical-align: top;\n",
       "    }\n",
       "\n",
       "    .dataframe thead th {\n",
       "        text-align: right;\n",
       "    }\n",
       "</style>\n",
       "<table border=\"1\" class=\"dataframe\">\n",
       "  <thead>\n",
       "    <tr style=\"text-align: right;\">\n",
       "      <th></th>\n",
       "      <th>users</th>\n",
       "      <th>visits</th>\n",
       "      <th>pageviews</th>\n",
       "      <th>transactions</th>\n",
       "      <th>revenue</th>\n",
       "    </tr>\n",
       "  </thead>\n",
       "  <tbody>\n",
       "    <tr>\n",
       "      <th>0</th>\n",
       "      <td>2,868</td>\n",
       "      <td>3,176</td>\n",
       "      <td>92,822</td>\n",
       "      <td>3,314</td>\n",
       "      <td>386199.7</td>\n",
       "    </tr>\n",
       "  </tbody>\n",
       "</table>\n",
       "</div>"
      ],
      "text/plain": [
       "   users visits pageviews transactions   revenue\n",
       "0  2,868  3,176    92,822        3,314  386199.7"
      ]
     },
     "execution_count": 3,
     "metadata": {},
     "output_type": "execute_result"
    }
   ],
   "source": [
    "query = '''\n",
    "    SELECT \n",
    "        FORMAT(\"%'d\",COUNT(DISTINCT fullVisitorId)) AS users,\n",
    "        FORMAT(\"%'d\",SUM(totals.visits)) AS visits,\n",
    "        FORMAT(\"%'d\",SUM(totals.pageviews)) AS pageviews,\n",
    "        FORMAT(\"%'d\", SUM(totals.transactions)) AS transactions,\n",
    "        SUM(totals.transactionRevenue)/1000000 AS revenue\n",
    "\n",
    "    FROM \n",
    "        `bigquery-public-data.google_analytics_sample.ga_sessions_*`\n",
    "    WHERE\n",
    "        _TABLE_SUFFIX BETWEEN '20161001' AND '20161230'\n",
    "        AND totals.totalTransactionRevenue IS NOT NULL\n",
    "'''\n",
    "\n",
    "safe_query_job = client.query(query)\n",
    "high_level_aug = safe_query_job.to_dataframe()\n",
    "\n",
    "high_level_aug.head()"
   ]
  },
  {
   "cell_type": "markdown",
   "metadata": {
    "papermill": {
     "duration": 0.027498,
     "end_time": "2020-11-15T13:34:30.686204",
     "exception": false,
     "start_time": "2020-11-15T13:34:30.658706",
     "status": "completed"
    },
    "tags": []
   },
   "source": [
    "#### Inference : \n",
    "\n",
    "During 2016Q4, the Google merchendise store had over 3000 visits, almost 93,000 pageviews and earned $ 386,200 in revenue."
   ]
  },
  {
   "cell_type": "code",
   "execution_count": 4,
   "metadata": {
    "execution": {
     "iopub.execute_input": "2020-11-15T13:34:30.753519Z",
     "iopub.status.busy": "2020-11-15T13:34:30.752763Z",
     "iopub.status.idle": "2020-11-15T13:34:35.347993Z",
     "shell.execute_reply": "2020-11-15T13:34:35.347309Z"
    },
    "papermill": {
     "duration": 4.633574,
     "end_time": "2020-11-15T13:34:35.348116",
     "exception": false,
     "start_time": "2020-11-15T13:34:30.714542",
     "status": "completed"
    },
    "tags": []
   },
   "outputs": [
    {
     "data": {
      "text/html": [
       "<div>\n",
       "<style scoped>\n",
       "    .dataframe tbody tr th:only-of-type {\n",
       "        vertical-align: middle;\n",
       "    }\n",
       "\n",
       "    .dataframe tbody tr th {\n",
       "        vertical-align: top;\n",
       "    }\n",
       "\n",
       "    .dataframe thead th {\n",
       "        text-align: right;\n",
       "    }\n",
       "</style>\n",
       "<table border=\"1\" class=\"dataframe\">\n",
       "  <thead>\n",
       "    <tr style=\"text-align: right;\">\n",
       "      <th></th>\n",
       "      <th>month</th>\n",
       "      <th>visits</th>\n",
       "      <th>revenue</th>\n",
       "    </tr>\n",
       "  </thead>\n",
       "  <tbody>\n",
       "    <tr>\n",
       "      <th>0</th>\n",
       "      <td>2016-10-01</td>\n",
       "      <td>872</td>\n",
       "      <td>113329.07</td>\n",
       "    </tr>\n",
       "    <tr>\n",
       "      <th>1</th>\n",
       "      <td>2016-11-01</td>\n",
       "      <td>919</td>\n",
       "      <td>119013.87</td>\n",
       "    </tr>\n",
       "    <tr>\n",
       "      <th>2</th>\n",
       "      <td>2016-12-01</td>\n",
       "      <td>1385</td>\n",
       "      <td>153856.76</td>\n",
       "    </tr>\n",
       "  </tbody>\n",
       "</table>\n",
       "</div>"
      ],
      "text/plain": [
       "        month  visits    revenue\n",
       "0  2016-10-01     872  113329.07\n",
       "1  2016-11-01     919  119013.87\n",
       "2  2016-12-01    1385  153856.76"
      ]
     },
     "execution_count": 4,
     "metadata": {},
     "output_type": "execute_result"
    }
   ],
   "source": [
    "query = \"\"\"    \n",
    "    SELECT \n",
    "        DATE_TRUNC(PARSE_DATE('%Y%m%d',date), MONTH) AS month,\n",
    "        SUM(totals.visits) AS visits,        \n",
    "        SUM(totals.transactionRevenue)/1000000 AS revenue\n",
    "\n",
    "    FROM \n",
    "        `bigquery-public-data.google_analytics_sample.ga_sessions_*`\n",
    "    WHERE\n",
    "        _TABLE_SUFFIX BETWEEN '20161001' AND '20161230'\n",
    "        AND totals.totalTransactionRevenue IS NOT NULL\n",
    "    GROUP BY 1\n",
    "    ORDER BY 1\n",
    "        \n",
    "\"\"\"\n",
    "safe_query_job = client.query(query)\n",
    "df1 = safe_query_job.to_dataframe()\n",
    "df1.head()"
   ]
  },
  {
   "cell_type": "markdown",
   "metadata": {
    "papermill": {
     "duration": 0.028121,
     "end_time": "2020-11-15T13:34:35.404599",
     "exception": false,
     "start_time": "2020-11-15T13:34:35.376478",
     "status": "completed"
    },
    "tags": []
   },
   "source": [
    "### Inference:\n",
    "\n",
    "December generated over $ 153,000 in revenue and garned almost 1400 visits to the Google Merchandise store. The revenue generated in Dec accounted for 40% of Q4 sales, indicating a holiday surge that is typically seen in retail. "
   ]
  },
  {
   "cell_type": "code",
   "execution_count": 5,
   "metadata": {
    "execution": {
     "iopub.execute_input": "2020-11-15T13:34:35.472330Z",
     "iopub.status.busy": "2020-11-15T13:34:35.471595Z",
     "iopub.status.idle": "2020-11-15T13:34:35.784883Z",
     "shell.execute_reply": "2020-11-15T13:34:35.785538Z"
    },
    "papermill": {
     "duration": 0.352799,
     "end_time": "2020-11-15T13:34:35.785694",
     "exception": false,
     "start_time": "2020-11-15T13:34:35.432895",
     "status": "completed"
    },
    "tags": []
   },
   "outputs": [
    {
     "data": {
      "image/png": "[encoded data removed]",
      "text/plain": [
       "<Figure size 432x288 with 2 Axes>"
      ]
     },
     "metadata": {
      "image/png": {
       "height": 278,
       "width": 453
      },
      "needs_background": "light"
     },
     "output_type": "display_data"
    }
   ],
   "source": [
    "fig,ax1 = plt.subplots()\n",
    "color = 'tab:red'\n",
    "ax1.set_xlabel('Month')\n",
    "ax1.set_ylabel('Revenue', color=color)\n",
    "ax1.plot(df1['month'], df1['revenue'], color=color)\n",
    "ax1.tick_params(axis='y', labelcolor=color)\n",
    "\n",
    "ax2 = ax1.twinx()  # instantiate a second axes that shares the same x-axis\n",
    "\n",
    "color = 'tab:blue'\n",
    "ax2.set_ylabel('Visits', color=color)  # we already handled the x-label with ax1\n",
    "ax2.plot(df1['month'], df1['visits'], color=color)\n",
    "ax2.tick_params(axis='y', labelcolor=color)\n",
    "\n",
    "plt.title('Monthly Web Traffic and Revenue for 2016Q4', fontsize=14)\n",
    "plt.xticks(df1['month'],rotation=45)\n",
    "plt.show()"
   ]
  },
  {
   "cell_type": "code",
   "execution_count": 6,
   "metadata": {
    "execution": {
     "iopub.execute_input": "2020-11-15T13:34:35.863477Z",
     "iopub.status.busy": "2020-11-15T13:34:35.862677Z",
     "iopub.status.idle": "2020-11-15T13:34:39.842851Z",
     "shell.execute_reply": "2020-11-15T13:34:39.842245Z"
    },
    "papermill": {
     "duration": 4.018902,
     "end_time": "2020-11-15T13:34:39.843034",
     "exception": false,
     "start_time": "2020-11-15T13:34:35.824132",
     "status": "completed"
    },
    "tags": []
   },
   "outputs": [
    {
     "data": {
      "text/html": [
       "<div>\n",
       "<style scoped>\n",
       "    .dataframe tbody tr th:only-of-type {\n",
       "        vertical-align: middle;\n",
       "    }\n",
       "\n",
       "    .dataframe tbody tr th {\n",
       "        vertical-align: top;\n",
       "    }\n",
       "\n",
       "    .dataframe thead th {\n",
       "        text-align: right;\n",
       "    }\n",
       "</style>\n",
       "<table border=\"1\" class=\"dataframe\">\n",
       "  <thead>\n",
       "    <tr style=\"text-align: right;\">\n",
       "      <th></th>\n",
       "      <th>country</th>\n",
       "      <th>revenue</th>\n",
       "    </tr>\n",
       "  </thead>\n",
       "  <tbody>\n",
       "    <tr>\n",
       "      <th>0</th>\n",
       "      <td>United States</td>\n",
       "      <td>365518.96</td>\n",
       "    </tr>\n",
       "    <tr>\n",
       "      <th>1</th>\n",
       "      <td>Canada</td>\n",
       "      <td>9975.27</td>\n",
       "    </tr>\n",
       "    <tr>\n",
       "      <th>2</th>\n",
       "      <td>Kenya</td>\n",
       "      <td>3679.30</td>\n",
       "    </tr>\n",
       "    <tr>\n",
       "      <th>3</th>\n",
       "      <td>Puerto Rico</td>\n",
       "      <td>656.16</td>\n",
       "    </tr>\n",
       "    <tr>\n",
       "      <th>4</th>\n",
       "      <td>United Kingdom</td>\n",
       "      <td>527.10</td>\n",
       "    </tr>\n",
       "  </tbody>\n",
       "</table>\n",
       "</div>"
      ],
      "text/plain": [
       "          country    revenue\n",
       "0   United States  365518.96\n",
       "1          Canada    9975.27\n",
       "2           Kenya    3679.30\n",
       "3     Puerto Rico     656.16\n",
       "4  United Kingdom     527.10"
      ]
     },
     "execution_count": 6,
     "metadata": {},
     "output_type": "execute_result"
    }
   ],
   "source": [
    "# create table with revenue by country\n",
    "# traffic by month\n",
    "query = \"\"\"\n",
    "    SELECT \n",
    "        geoNetwork.country AS country,   \n",
    "        SUM(totals.transactionRevenue)/1000000 AS revenue\n",
    "\n",
    "    FROM \n",
    "        `bigquery-public-data.google_analytics_sample.ga_sessions_*`\n",
    "    WHERE\n",
    "        _TABLE_SUFFIX BETWEEN '20161001' AND '20161230'\n",
    "        AND totals.totalTransactionRevenue IS NOT NULL\n",
    "    GROUP BY 1\n",
    "    ORDER BY 2 desc\n",
    "    \n",
    "\"\"\"\n",
    "safe_query_job = client.query(query)\n",
    "df2 = safe_query_job.to_dataframe()\n",
    "df2.head()\n"
   ]
  },
  {
   "cell_type": "code",
   "execution_count": 7,
   "metadata": {
    "execution": {
     "iopub.execute_input": "2020-11-15T13:34:39.913018Z",
     "iopub.status.busy": "2020-11-15T13:34:39.912258Z",
     "iopub.status.idle": "2020-11-15T13:34:40.008402Z",
     "shell.execute_reply": "2020-11-15T13:34:40.009088Z"
    },
    "papermill": {
     "duration": 0.13502,
     "end_time": "2020-11-15T13:34:40.009252",
     "exception": false,
     "start_time": "2020-11-15T13:34:39.874232",
     "status": "completed"
    },
    "tags": []
   },
   "outputs": [
    {
     "data": {
      "application/vnd.plotly.v1+json": {
       "config": {
        "plotlyServerURL": "https://plot.ly"
       },
       "data": [
        {
         "colorbar": {
          "title": {
           "text": "revenue USD"
          }
         },
         "colorscale": [
          [
           0,
           "rgb(255,245,240)"
          ],
          [
           0.125,
           "rgb(254,224,210)"
          ],
          [
           0.25,
           "rgb(252,187,161)"
          ],
          [
           0.375,
           "rgb(252,146,114)"
          ],
          [
           0.5,
           "rgb(251,106,74)"
          ],
          [
           0.625,
           "rgb(239,59,44)"
          ],
          [
           0.75,
           "rgb(203,24,29)"
          ],
          [
           0.875,
           "rgb(165,15,21)"
          ],
          [
           1,
           "rgb(103,0,13)"
          ]
         ],
         "locationmode": "country names",
         "locations": [
          "United States",
          "Canada",
          "Kenya",
          "Puerto Rico",
          "United Kingdom",
          "Mexico",
          "Israel",
          "Ecuador",
          "Indonesia",
          "Hong Kong",
          "Malaysia",
          "India",
          "Singapore",
          "Netherlands",
          "Australia",
          "Taiwan",
          "Colombia",
          "Thailand",
          "Argentina",
          "Chile",
          "Brazil",
          "Italy",
          "South Korea",
          "Turkey",
          "Japan",
          "El Salvador",
          "Romania",
          "Cyprus",
          "China",
          "Nicaragua",
          "Germany",
          "Philippines",
          "Pakistan",
          "Finland",
          "France",
          "Lebanon",
          "Switzerland",
          "Ireland",
          "Armenia",
          "Guadeloupe",
          "Kazakhstan",
          "(not set)",
          "Russia",
          "Georgia",
          "Panama",
          "Uruguay"
         ],
         "type": "choropleth",
         "z": [
          365518.96,
          9975.27,
          3679.3,
          656.16,
          527.1,
          510.5,
          495.9,
          464.06,
          461.83,
          455.9,
          334.93,
          333.83,
          270.8,
          259.05,
          172.2,
          160.5,
          158.08,
          143.9,
          135.86,
          112.75,
          101.35,
          99.99,
          87.69,
          84.95,
          84.92,
          76.89,
          75.96,
          75.44,
          66.78,
          63.99,
          63.6,
          58.87,
          57.95,
          55.99,
          55.13,
          40.77,
          35.18,
          32.76,
          30.48,
          27.18,
          23.99,
          23.98,
          17.99,
          16.99,
          10.5,
          3.5
         ]
        }
       ],
       "layout": {
        "template": {
         "data": {
          "bar": [
           {
            "error_x": {
             "color": "#2a3f5f"
            },
            "error_y": {
             "color": "#2a3f5f"
            },
            "marker": {
             "line": {
              "color": "#E5ECF6",
              "width": 0.5
             }
            },
            "type": "bar"
           }
          ],
          "barpolar": [
           {
            "marker": {
             "line": {
              "color": "#E5ECF6",
              "width": 0.5
             }
            },
            "type": "barpolar"
           }
          ],
          "carpet": [
           {
            "aaxis": {
             "endlinecolor": "#2a3f5f",
             "gridcolor": "white",
             "linecolor": "white",
             "minorgridcolor": "white",
             "startlinecolor": "#2a3f5f"
            },
            "baxis": {
             "endlinecolor": "#2a3f5f",
             "gridcolor": "white",
             "linecolor": "white",
             "minorgridcolor": "white",
             "startlinecolor": "#2a3f5f"
            },
            "type": "carpet"
           }
          ],
          "choropleth": [
           {
            "colorbar": {
             "outlinewidth": 0,
             "ticks": ""
            },
            "type": "choropleth"
           }
          ],
          "contour": [
           {
            "colorbar": {
             "outlinewidth": 0,
             "ticks": ""
            },
            "colorscale": [
             [
              0,
              "#0d0887"
             ],
             [
              0.1111111111111111,
              "#46039f"
             ],
             [
              0.2222222222222222,
              "#7201a8"
             ],
             [
              0.3333333333333333,
              "#9c179e"
             ],
             [
              0.4444444444444444,
              "#bd3786"
             ],
             [
              0.5555555555555556,
              "#d8576b"
             ],
             [
              0.6666666666666666,
              "#ed7953"
             ],
             [
              0.7777777777777778,
              "#fb9f3a"
             ],
             [
              0.8888888888888888,
              "#fdca26"
             ],
             [
              1,
              "#f0f921"
             ]
            ],
            "type": "contour"
           }
          ],
          "contourcarpet": [
           {
            "colorbar": {
             "outlinewidth": 0,
             "ticks": ""
            },
            "type": "contourcarpet"
           }
          ],
          "heatmap": [
           {
            "colorbar": {
             "outlinewidth": 0,
             "ticks": ""
            },
            "colorscale": [
             [
              0,
              "#0d0887"
             ],
             [
              0.1111111111111111,
              "#46039f"
             ],
             [
              0.2222222222222222,
              "#7201a8"
             ],
             [
              0.3333333333333333,
              "#9c179e"
             ],
             [
              0.4444444444444444,
              "#bd3786"
             ],
             [
              0.5555555555555556,
              "#d8576b"
             ],
             [
              0.6666666666666666,
              "#ed7953"
             ],
             [
              0.7777777777777778,
              "#fb9f3a"
             ],
             [
              0.8888888888888888,
              "#fdca26"
             ],
             [
              1,
              "#f0f921"
             ]
            ],
            "type": "heatmap"
           }
          ],
          "heatmapgl": [
           {
            "colorbar": {
             "outlinewidth": 0,
             "ticks": ""
            },
            "colorscale": [
             [
              0,
              "#0d0887"
             ],
             [
              0.1111111111111111,
              "#46039f"
             ],
             [
              0.2222222222222222,
              "#7201a8"
             ],
             [
              0.3333333333333333,
              "#9c179e"
             ],
             [
              0.4444444444444444,
              "#bd3786"
             ],
             [
              0.5555555555555556,
              "#d8576b"
             ],
             [
              0.6666666666666666,
              "#ed7953"
             ],
             [
              0.7777777777777778,
              "#fb9f3a"
             ],
             [
              0.8888888888888888,
              "#fdca26"
             ],
             [
              1,
              "#f0f921"
             ]
            ],
            "type": "heatmapgl"
           }
          ],
          "histogram": [
           {
            "marker": {
             "colorbar": {
              "outlinewidth": 0,
              "ticks": ""
             }
            },
            "type": "histogram"
           }
          ],
          "histogram2d": [
           {
            "colorbar": {
             "outlinewidth": 0,
             "ticks": ""
            },
            "colorscale": [
             [
              0,
              "#0d0887"
             ],
             [
              0.1111111111111111,
              "#46039f"
             ],
             [
              0.2222222222222222,
              "#7201a8"
             ],
             [
              0.3333333333333333,
              "#9c179e"
             ],
             [
              0.4444444444444444,
              "#bd3786"
             ],
             [
              0.5555555555555556,
              "#d8576b"
             ],
             [
              0.6666666666666666,
              "#ed7953"
             ],
             [
              0.7777777777777778,
              "#fb9f3a"
             ],
             [
              0.8888888888888888,
              "#fdca26"
             ],
             [
              1,
              "#f0f921"
             ]
            ],
            "type": "histogram2d"
           }
          ],
          "histogram2dcontour": [
           {
            "colorbar": {
             "outlinewidth": 0,
             "ticks": ""
            },
            "colorscale": [
             [
              0,
              "#0d0887"
             ],
             [
              0.1111111111111111,
              "#46039f"
             ],
             [
              0.2222222222222222,
              "#7201a8"
             ],
             [
              0.3333333333333333,
              "#9c179e"
             ],
             [
              0.4444444444444444,
              "#bd3786"
             ],
             [
              0.5555555555555556,
              "#d8576b"
             ],
             [
              0.6666666666666666,
              "#ed7953"
             ],
             [
              0.7777777777777778,
              "#fb9f3a"
             ],
             [
              0.8888888888888888,
              "#fdca26"
             ],
             [
              1,
              "#f0f921"
             ]
            ],
            "type": "histogram2dcontour"
           }
          ],
          "mesh3d": [
           {
            "colorbar": {
             "outlinewidth": 0,
             "ticks": ""
            },
            "type": "mesh3d"
           }
          ],
          "parcoords": [
           {
            "line": {
             "colorbar": {
              "outlinewidth": 0,
              "ticks": ""
             }
            },
            "type": "parcoords"
           }
          ],
          "pie": [
           {
            "automargin": true,
            "type": "pie"
           }
          ],
          "scatter": [
           {
            "marker": {
             "colorbar": {
              "outlinewidth": 0,
              "ticks": ""
             }
            },
            "type": "scatter"
           }
          ],
          "scatter3d": [
           {
            "line": {
             "colorbar": {
              "outlinewidth": 0,
              "ticks": ""
             }
            },
            "marker": {
             "colorbar": {
              "outlinewidth": 0,
              "ticks": ""
             }
            },
            "type": "scatter3d"
           }
          ],
          "scattercarpet": [
           {
            "marker": {
             "colorbar": {
              "outlinewidth": 0,
              "ticks": ""
             }
            },
            "type": "scattercarpet"
           }
          ],
          "scattergeo": [
           {
            "marker": {
             "colorbar": {
              "outlinewidth": 0,
              "ticks": ""
             }
            },
            "type": "scattergeo"
           }
          ],
          "scattergl": [
           {
            "marker": {
             "colorbar": {
              "outlinewidth": 0,
              "ticks": ""
             }
            },
            "type": "scattergl"
           }
          ],
          "scattermapbox": [
           {
            "marker": {
             "colorbar": {
              "outlinewidth": 0,
              "ticks": ""
             }
            },
            "type": "scattermapbox"
           }
          ],
          "scatterpolar": [
           {
            "marker": {
             "colorbar": {
              "outlinewidth": 0,
              "ticks": ""
             }
            },
            "type": "scatterpolar"
           }
          ],
          "scatterpolargl": [
           {
            "marker": {
             "colorbar": {
              "outlinewidth": 0,
              "ticks": ""
             }
            },
            "type": "scatterpolargl"
           }
          ],
          "scatterternary": [
           {
            "marker": {
             "colorbar": {
              "outlinewidth": 0,
              "ticks": ""
             }
            },
            "type": "scatterternary"
           }
          ],
          "surface": [
           {
            "colorbar": {
             "outlinewidth": 0,
             "ticks": ""
            },
            "colorscale": [
             [
              0,
              "#0d0887"
             ],
             [
              0.1111111111111111,
              "#46039f"
             ],
             [
              0.2222222222222222,
              "#7201a8"
             ],
             [
              0.3333333333333333,
              "#9c179e"
             ],
             [
              0.4444444444444444,
              "#bd3786"
             ],
             [
              0.5555555555555556,
              "#d8576b"
             ],
             [
              0.6666666666666666,
              "#ed7953"
             ],
             [
              0.7777777777777778,
              "#fb9f3a"
             ],
             [
              0.8888888888888888,
              "#fdca26"
             ],
             [
              1,
              "#f0f921"
             ]
            ],
            "type": "surface"
           }
          ],
          "table": [
           {
            "cells": {
             "fill": {
              "color": "#EBF0F8"
             },
             "line": {
              "color": "white"
             }
            },
            "header": {
             "fill": {
              "color": "#C8D4E3"
             },
             "line": {
              "color": "white"
             }
            },
            "type": "table"
           }
          ]
         },
         "layout": {
          "annotationdefaults": {
           "arrowcolor": "#2a3f5f",
           "arrowhead": 0,
           "arrowwidth": 1
          },
          "coloraxis": {
           "colorbar": {
            "outlinewidth": 0,
            "ticks": ""
           }
          },
          "colorscale": {
           "diverging": [
            [
             0,
             "#8e0152"
            ],
            [
             0.1,
             "#c51b7d"
            ],
            [
             0.2,
             "#de77ae"
            ],
            [
             0.3,
             "#f1b6da"
            ],
            [
             0.4,
             "#fde0ef"
            ],
            [
             0.5,
             "#f7f7f7"
            ],
            [
             0.6,
             "#e6f5d0"
            ],
            [
             0.7,
             "#b8e186"
            ],
            [
             0.8,
             "#7fbc41"
            ],
            [
             0.9,
             "#4d9221"
            ],
            [
             1,
             "#276419"
            ]
           ],
           "sequential": [
            [
             0,
             "#0d0887"
            ],
            [
             0.1111111111111111,
             "#46039f"
            ],
            [
             0.2222222222222222,
             "#7201a8"
            ],
            [
             0.3333333333333333,
             "#9c179e"
            ],
            [
             0.4444444444444444,
             "#bd3786"
            ],
            [
             0.5555555555555556,
             "#d8576b"
            ],
            [
             0.6666666666666666,
             "#ed7953"
            ],
            [
             0.7777777777777778,
             "#fb9f3a"
            ],
            [
             0.8888888888888888,
             "#fdca26"
            ],
            [
             1,
             "#f0f921"
            ]
           ],
           "sequentialminus": [
            [
             0,
             "#0d0887"
            ],
            [
             0.1111111111111111,
             "#46039f"
            ],
            [
             0.2222222222222222,
             "#7201a8"
            ],
            [
             0.3333333333333333,
             "#9c179e"
            ],
            [
             0.4444444444444444,
             "#bd3786"
            ],
            [
             0.5555555555555556,
             "#d8576b"
            ],
            [
             0.6666666666666666,
             "#ed7953"
            ],
            [
             0.7777777777777778,
             "#fb9f3a"
            ],
            [
             0.8888888888888888,
             "#fdca26"
            ],
            [
             1,
             "#f0f921"
            ]
           ]
          },
          "colorway": [
           "#636efa",
           "#EF553B",
           "#00cc96",
           "#ab63fa",
           "#FFA15A",
           "#19d3f3",
           "#FF6692",
           "#B6E880",
           "#FF97FF",
           "#FECB52"
          ],
          "font": {
           "color": "#2a3f5f"
          },
          "geo": {
           "bgcolor": "white",
           "lakecolor": "white",
           "landcolor": "#E5ECF6",
           "showlakes": true,
           "showland": true,
           "subunitcolor": "white"
          },
          "hoverlabel": {
           "align": "left"
          },
          "hovermode": "closest",
          "mapbox": {
           "style": "light"
          },
          "paper_bgcolor": "white",
          "plot_bgcolor": "#E5ECF6",
          "polar": {
           "angularaxis": {
            "gridcolor": "white",
            "linecolor": "white",
            "ticks": ""
           },
           "bgcolor": "#E5ECF6",
           "radialaxis": {
            "gridcolor": "white",
            "linecolor": "white",
            "ticks": ""
           }
          },
          "scene": {
           "xaxis": {
            "backgroundcolor": "#E5ECF6",
            "gridcolor": "white",
            "gridwidth": 2,
            "linecolor": "white",
            "showbackground": true,
            "ticks": "",
            "zerolinecolor": "white"
           },
           "yaxis": {
            "backgroundcolor": "#E5ECF6",
            "gridcolor": "white",
            "gridwidth": 2,
            "linecolor": "white",
            "showbackground": true,
            "ticks": "",
            "zerolinecolor": "white"
           },
           "zaxis": {
            "backgroundcolor": "#E5ECF6",
            "gridcolor": "white",
            "gridwidth": 2,
            "linecolor": "white",
            "showbackground": true,
            "ticks": "",
            "zerolinecolor": "white"
           }
          },
          "shapedefaults": {
           "line": {
            "color": "#2a3f5f"
           }
          },
          "ternary": {
           "aaxis": {
            "gridcolor": "white",
            "linecolor": "white",
            "ticks": ""
           },
           "baxis": {
            "gridcolor": "white",
            "linecolor": "white",
            "ticks": ""
           },
           "bgcolor": "#E5ECF6",
           "caxis": {
            "gridcolor": "white",
            "linecolor": "white",
            "ticks": ""
           }
          },
          "title": {
           "x": 0.05
          },
          "xaxis": {
           "automargin": true,
           "gridcolor": "white",
           "linecolor": "white",
           "ticks": "",
           "title": {
            "standoff": 15
           },
           "zerolinecolor": "white",
           "zerolinewidth": 2
          },
          "yaxis": {
           "automargin": true,
           "gridcolor": "white",
           "linecolor": "white",
           "ticks": "",
           "title": {
            "standoff": 15
           },
           "zerolinecolor": "white",
           "zerolinewidth": 2
          }
         }
        },
        "title": {
         "text": "2016Q4 Google Merchandise Store by Geo Location"
        }
       }
      },
      "text/html": [
       "<div>                            <div id=\"34eecb53-9952-4278-be52-a0700b02f1be\" class=\"plotly-graph-div\" style=\"height:525px; width:100%;\"></div>            <script type=\"text/javascript\">                require([\"plotly\"], function(Plotly) {                    window.PLOTLYENV=window.PLOTLYENV || {};                                    if (document.getElementById(\"34eecb53-9952-4278-be52-a0700b02f1be\")) {                    Plotly.newPlot(                        \"34eecb53-9952-4278-be52-a0700b02f1be\",                        [{\"colorbar\": {\"title\": {\"text\": \"revenue USD\"}}, \"colorscale\": [[0.0, \"rgb(255,245,240)\"], [0.125, \"rgb(254,224,210)\"], [0.25, \"rgb(252,187,161)\"], [0.375, \"rgb(252,146,114)\"], [0.5, \"rgb(251,106,74)\"], [0.625, \"rgb(239,59,44)\"], [0.75, \"rgb(203,24,29)\"], [0.875, \"rgb(165,15,21)\"], [1.0, \"rgb(103,0,13)\"]], \"locationmode\": \"country names\", \"locations\": [\"United States\", \"Canada\", \"Kenya\", \"Puerto Rico\", \"United Kingdom\", \"Mexico\", \"Israel\", \"Ecuador\", \"Indonesia\", \"Hong Kong\", \"Malaysia\", \"India\", \"Singapore\", \"Netherlands\", \"Australia\", \"Taiwan\", \"Colombia\", \"Thailand\", \"Argentina\", \"Chile\", \"Brazil\", \"Italy\", \"South Korea\", \"Turkey\", \"Japan\", \"El Salvador\", \"Romania\", \"Cyprus\", \"China\", \"Nicaragua\", \"Germany\", \"Philippines\", \"Pakistan\", \"Finland\", \"France\", \"Lebanon\", \"Switzerland\", \"Ireland\", \"Armenia\", \"Guadeloupe\", \"Kazakhstan\", \"(not set)\", \"Russia\", \"Georgia\", \"Panama\", \"Uruguay\"], \"type\": \"choropleth\", \"z\": [365518.96, 9975.27, 3679.3, 656.16, 527.1, 510.5, 495.9, 464.06, 461.83, 455.9, 334.93, 333.83, 270.8, 259.05, 172.2, 160.5, 158.08, 143.9, 135.86, 112.75, 101.35, 99.99, 87.69, 84.95, 84.92, 76.89, 75.96, 75.44, 66.78, 63.99, 63.6, 58.87, 57.95, 55.99, 55.13, 40.77, 35.18, 32.76, 30.48, 27.18, 23.99, 23.98, 17.99, 16.99, 10.5, 3.5]}],                        {\"template\": {\"data\": {\"bar\": [{\"error_x\": {\"color\": \"#2a3f5f\"}, \"error_y\": {\"color\": \"#2a3f5f\"}, \"marker\": {\"line\": {\"color\": \"#E5ECF6\", \"width\": 0.5}}, \"type\": \"bar\"}], \"barpolar\": [{\"marker\": {\"line\": {\"color\": \"#E5ECF6\", \"width\": 0.5}}, \"type\": \"barpolar\"}], \"carpet\": [{\"aaxis\": {\"endlinecolor\": \"#2a3f5f\", \"gridcolor\": \"white\", \"linecolor\": \"white\", \"minorgridcolor\": \"white\", \"startlinecolor\": \"#2a3f5f\"}, \"baxis\": {\"endlinecolor\": \"#2a3f5f\", \"gridcolor\": \"white\", \"linecolor\": \"white\", \"minorgridcolor\": \"white\", \"startlinecolor\": \"#2a3f5f\"}, \"type\": \"carpet\"}], \"choropleth\": [{\"colorbar\": {\"outlinewidth\": 0, \"ticks\": \"\"}, \"type\": \"choropleth\"}], \"contour\": [{\"colorbar\": {\"outlinewidth\": 0, \"ticks\": \"\"}, \"colorscale\": [[0.0, \"#0d0887\"], [0.1111111111111111, \"#46039f\"], [0.2222222222222222, \"#7201a8\"], [0.3333333333333333, \"#9c179e\"], [0.4444444444444444, \"#bd3786\"], [0.5555555555555556, \"#d8576b\"], [0.6666666666666666, \"#ed7953\"], [0.7777777777777778, \"#fb9f3a\"], [0.8888888888888888, \"#fdca26\"], [1.0, \"#f0f921\"]], \"type\": \"contour\"}], \"contourcarpet\": [{\"colorbar\": {\"outlinewidth\": 0, \"ticks\": \"\"}, \"type\": \"contourcarpet\"}], \"heatmap\": [{\"colorbar\": {\"outlinewidth\": 0, \"ticks\": \"\"}, \"colorscale\": [[0.0, \"#0d0887\"], [0.1111111111111111, \"#46039f\"], [0.2222222222222222, \"#7201a8\"], [0.3333333333333333, \"#9c179e\"], [0.4444444444444444, \"#bd3786\"], [0.5555555555555556, \"#d8576b\"], [0.6666666666666666, \"#ed7953\"], [0.7777777777777778, \"#fb9f3a\"], [0.8888888888888888, \"#fdca26\"], [1.0, \"#f0f921\"]], \"type\": \"heatmap\"}], \"heatmapgl\": [{\"colorbar\": {\"outlinewidth\": 0, \"ticks\": \"\"}, \"colorscale\": [[0.0, \"#0d0887\"], [0.1111111111111111, \"#46039f\"], [0.2222222222222222, \"#7201a8\"], [0.3333333333333333, \"#9c179e\"], [0.4444444444444444, \"#bd3786\"], [0.5555555555555556, \"#d8576b\"], [0.6666666666666666, \"#ed7953\"], [0.7777777777777778, \"#fb9f3a\"], [0.8888888888888888, \"#fdca26\"], [1.0, \"#f0f921\"]], \"type\": \"heatmapgl\"}], \"histogram\": [{\"marker\": {\"colorbar\": {\"outlinewidth\": 0, \"ticks\": \"\"}}, \"type\": \"histogram\"}], \"histogram2d\": [{\"colorbar\": {\"outlinewidth\": 0, \"ticks\": \"\"}, \"colorscale\": [[0.0, \"#0d0887\"], [0.1111111111111111, \"#46039f\"], [0.2222222222222222, \"#7201a8\"], [0.3333333333333333, \"#9c179e\"], [0.4444444444444444, \"#bd3786\"], [0.5555555555555556, \"#d8576b\"], [0.6666666666666666, \"#ed7953\"], [0.7777777777777778, \"#fb9f3a\"], [0.8888888888888888, \"#fdca26\"], [1.0, \"#f0f921\"]], \"type\": \"histogram2d\"}], \"histogram2dcontour\": [{\"colorbar\": {\"outlinewidth\": 0, \"ticks\": \"\"}, \"colorscale\": [[0.0, \"#0d0887\"], [0.1111111111111111, \"#46039f\"], [0.2222222222222222, \"#7201a8\"], [0.3333333333333333, \"#9c179e\"], [0.4444444444444444, \"#bd3786\"], [0.5555555555555556, \"#d8576b\"], [0.6666666666666666, \"#ed7953\"], [0.7777777777777778, \"#fb9f3a\"], [0.8888888888888888, \"#fdca26\"], [1.0, \"#f0f921\"]], \"type\": \"histogram2dcontour\"}], \"mesh3d\": [{\"colorbar\": {\"outlinewidth\": 0, \"ticks\": \"\"}, \"type\": \"mesh3d\"}], \"parcoords\": [{\"line\": {\"colorbar\": {\"outlinewidth\": 0, \"ticks\": \"\"}}, \"type\": \"parcoords\"}], \"pie\": [{\"automargin\": true, \"type\": \"pie\"}], \"scatter\": [{\"marker\": {\"colorbar\": {\"outlinewidth\": 0, \"ticks\": \"\"}}, \"type\": \"scatter\"}], \"scatter3d\": [{\"line\": {\"colorbar\": {\"outlinewidth\": 0, \"ticks\": \"\"}}, \"marker\": {\"colorbar\": {\"outlinewidth\": 0, \"ticks\": \"\"}}, \"type\": \"scatter3d\"}], \"scattercarpet\": [{\"marker\": {\"colorbar\": {\"outlinewidth\": 0, \"ticks\": \"\"}}, \"type\": \"scattercarpet\"}], \"scattergeo\": [{\"marker\": {\"colorbar\": {\"outlinewidth\": 0, \"ticks\": \"\"}}, \"type\": \"scattergeo\"}], \"scattergl\": [{\"marker\": {\"colorbar\": {\"outlinewidth\": 0, \"ticks\": \"\"}}, \"type\": \"scattergl\"}], \"scattermapbox\": [{\"marker\": {\"colorbar\": {\"outlinewidth\": 0, \"ticks\": \"\"}}, \"type\": \"scattermapbox\"}], \"scatterpolar\": [{\"marker\": {\"colorbar\": {\"outlinewidth\": 0, \"ticks\": \"\"}}, \"type\": \"scatterpolar\"}], \"scatterpolargl\": [{\"marker\": {\"colorbar\": {\"outlinewidth\": 0, \"ticks\": \"\"}}, \"type\": \"scatterpolargl\"}], \"scatterternary\": [{\"marker\": {\"colorbar\": {\"outlinewidth\": 0, \"ticks\": \"\"}}, \"type\": \"scatterternary\"}], \"surface\": [{\"colorbar\": {\"outlinewidth\": 0, \"ticks\": \"\"}, \"colorscale\": [[0.0, \"#0d0887\"], [0.1111111111111111, \"#46039f\"], [0.2222222222222222, \"#7201a8\"], [0.3333333333333333, \"#9c179e\"], [0.4444444444444444, \"#bd3786\"], [0.5555555555555556, \"#d8576b\"], [0.6666666666666666, \"#ed7953\"], [0.7777777777777778, \"#fb9f3a\"], [0.8888888888888888, \"#fdca26\"], [1.0, \"#f0f921\"]], \"type\": \"surface\"}], \"table\": [{\"cells\": {\"fill\": {\"color\": \"#EBF0F8\"}, \"line\": {\"color\": \"white\"}}, \"header\": {\"fill\": {\"color\": \"#C8D4E3\"}, \"line\": {\"color\": \"white\"}}, \"type\": \"table\"}]}, \"layout\": {\"annotationdefaults\": {\"arrowcolor\": \"#2a3f5f\", \"arrowhead\": 0, \"arrowwidth\": 1}, \"coloraxis\": {\"colorbar\": {\"outlinewidth\": 0, \"ticks\": \"\"}}, \"colorscale\": {\"diverging\": [[0, \"#8e0152\"], [0.1, \"#c51b7d\"], [0.2, \"#de77ae\"], [0.3, \"#f1b6da\"], [0.4, \"#fde0ef\"], [0.5, \"#f7f7f7\"], [0.6, \"#e6f5d0\"], [0.7, \"#b8e186\"], [0.8, \"#7fbc41\"], [0.9, \"#4d9221\"], [1, \"#276419\"]], \"sequential\": [[0.0, \"#0d0887\"], [0.1111111111111111, \"#46039f\"], [0.2222222222222222, \"#7201a8\"], [0.3333333333333333, \"#9c179e\"], [0.4444444444444444, \"#bd3786\"], [0.5555555555555556, \"#d8576b\"], [0.6666666666666666, \"#ed7953\"], [0.7777777777777778, \"#fb9f3a\"], [0.8888888888888888, \"#fdca26\"], [1.0, \"#f0f921\"]], \"sequentialminus\": [[0.0, \"#0d0887\"], [0.1111111111111111, \"#46039f\"], [0.2222222222222222, \"#7201a8\"], [0.3333333333333333, \"#9c179e\"], [0.4444444444444444, \"#bd3786\"], [0.5555555555555556, \"#d8576b\"], [0.6666666666666666, \"#ed7953\"], [0.7777777777777778, \"#fb9f3a\"], [0.8888888888888888, \"#fdca26\"], [1.0, \"#f0f921\"]]}, \"colorway\": [\"#636efa\", \"#EF553B\", \"#00cc96\", \"#ab63fa\", \"#FFA15A\", \"#19d3f3\", \"#FF6692\", \"#B6E880\", \"#FF97FF\", \"#FECB52\"], \"font\": {\"color\": \"#2a3f5f\"}, \"geo\": {\"bgcolor\": \"white\", \"lakecolor\": \"white\", \"landcolor\": \"#E5ECF6\", \"showlakes\": true, \"showland\": true, \"subunitcolor\": \"white\"}, \"hoverlabel\": {\"align\": \"left\"}, \"hovermode\": \"closest\", \"mapbox\": {\"style\": \"light\"}, \"paper_bgcolor\": \"white\", \"plot_bgcolor\": \"#E5ECF6\", \"polar\": {\"angularaxis\": {\"gridcolor\": \"white\", \"linecolor\": \"white\", \"ticks\": \"\"}, \"bgcolor\": \"#E5ECF6\", \"radialaxis\": {\"gridcolor\": \"white\", \"linecolor\": \"white\", \"ticks\": \"\"}}, \"scene\": {\"xaxis\": {\"backgroundcolor\": \"#E5ECF6\", \"gridcolor\": \"white\", \"gridwidth\": 2, \"linecolor\": \"white\", \"showbackground\": true, \"ticks\": \"\", \"zerolinecolor\": \"white\"}, \"yaxis\": {\"backgroundcolor\": \"#E5ECF6\", \"gridcolor\": \"white\", \"gridwidth\": 2, \"linecolor\": \"white\", \"showbackground\": true, \"ticks\": \"\", \"zerolinecolor\": \"white\"}, \"zaxis\": {\"backgroundcolor\": \"#E5ECF6\", \"gridcolor\": \"white\", \"gridwidth\": 2, \"linecolor\": \"white\", \"showbackground\": true, \"ticks\": \"\", \"zerolinecolor\": \"white\"}}, \"shapedefaults\": {\"line\": {\"color\": \"#2a3f5f\"}}, \"ternary\": {\"aaxis\": {\"gridcolor\": \"white\", \"linecolor\": \"white\", \"ticks\": \"\"}, \"baxis\": {\"gridcolor\": \"white\", \"linecolor\": \"white\", \"ticks\": \"\"}, \"bgcolor\": \"#E5ECF6\", \"caxis\": {\"gridcolor\": \"white\", \"linecolor\": \"white\", \"ticks\": \"\"}}, \"title\": {\"x\": 0.05}, \"xaxis\": {\"automargin\": true, \"gridcolor\": \"white\", \"linecolor\": \"white\", \"ticks\": \"\", \"title\": {\"standoff\": 15}, \"zerolinecolor\": \"white\", \"zerolinewidth\": 2}, \"yaxis\": {\"automargin\": true, \"gridcolor\": \"white\", \"linecolor\": \"white\", \"ticks\": \"\", \"title\": {\"standoff\": 15}, \"zerolinecolor\": \"white\", \"zerolinewidth\": 2}}}, \"title\": {\"text\": \"2016Q4 Google Merchandise Store by Geo Location\"}},                        {\"responsive\": true}                    ).then(function(){\n",
       "                            \n",
       "var gd = document.getElementById('34eecb53-9952-4278-be52-a0700b02f1be');\n",
       "var x = new MutationObserver(function (mutations, observer) {{\n",
       "        var display = window.getComputedStyle(gd).display;\n",
       "        if (!display || display === 'none') {{\n",
       "            console.log([gd, 'removed!']);\n",
       "            Plotly.purge(gd);\n",
       "            observer.disconnect();\n",
       "        }}\n",
       "}});\n",
       "\n",
       "// Listen for the removal of the full notebook cells\n",
       "var notebookContainer = gd.closest('#notebook-container');\n",
       "if (notebookContainer) {{\n",
       "    x.observe(notebookContainer, {childList: true});\n",
       "}}\n",
       "\n",
       "// Listen for the clearing of the current output cell\n",
       "var outputEl = gd.closest('.output');\n",
       "if (outputEl) {{\n",
       "    x.observe(outputEl, {childList: true});\n",
       "}}\n",
       "\n",
       "                        })                };                });            </script>        </div>"
      ]
     },
     "metadata": {},
     "output_type": "display_data"
    }
   ],
   "source": [
    "# create a heatmap of revenue by geo location\n",
    "\n",
    "fig = go.Figure(data=go.Choropleth(\n",
    "    locations=df2['country'], \n",
    "    z = df2['revenue'].astype(float),\n",
    "    locationmode = 'country names', \n",
    "    colorscale = 'Reds',\n",
    "    colorbar_title = \"revenue USD\",\n",
    "))\n",
    "\n",
    "fig.update_layout(\n",
    "    title_text = '2016Q4 Google Merchandise Store by Geo Location',)\n",
    "fig.show()"
   ]
  },
  {
   "cell_type": "markdown",
   "metadata": {
    "papermill": {
     "duration": 0.039488,
     "end_time": "2020-11-15T13:34:40.088742",
     "exception": false,
     "start_time": "2020-11-15T13:34:40.049254",
     "status": "completed"
    },
    "tags": []
   },
   "source": [
    "## Top channels sending traffic to GM"
   ]
  },
  {
   "cell_type": "code",
   "execution_count": 8,
   "metadata": {
    "execution": {
     "iopub.execute_input": "2020-11-15T13:34:40.175955Z",
     "iopub.status.busy": "2020-11-15T13:34:40.175213Z",
     "iopub.status.idle": "2020-11-15T13:34:44.702831Z",
     "shell.execute_reply": "2020-11-15T13:34:44.703487Z"
    },
    "papermill": {
     "duration": 4.575543,
     "end_time": "2020-11-15T13:34:44.703661",
     "exception": false,
     "start_time": "2020-11-15T13:34:40.128118",
     "status": "completed"
    },
    "tags": []
   },
   "outputs": [
    {
     "data": {
      "text/html": [
       "<div>\n",
       "<style scoped>\n",
       "    .dataframe tbody tr th:only-of-type {\n",
       "        vertical-align: middle;\n",
       "    }\n",
       "\n",
       "    .dataframe tbody tr th {\n",
       "        vertical-align: top;\n",
       "    }\n",
       "\n",
       "    .dataframe thead th {\n",
       "        text-align: right;\n",
       "    }\n",
       "</style>\n",
       "<table border=\"1\" class=\"dataframe\">\n",
       "  <thead>\n",
       "    <tr style=\"text-align: right;\">\n",
       "      <th></th>\n",
       "      <th>channel</th>\n",
       "      <th>revenue</th>\n",
       "      <th>transactions</th>\n",
       "      <th>users</th>\n",
       "      <th>sessions</th>\n",
       "      <th>pageviews</th>\n",
       "    </tr>\n",
       "  </thead>\n",
       "  <tbody>\n",
       "    <tr>\n",
       "      <th>0</th>\n",
       "      <td>Referral</td>\n",
       "      <td>182578.60</td>\n",
       "      <td>1540</td>\n",
       "      <td>1331</td>\n",
       "      <td>1470</td>\n",
       "      <td>42829</td>\n",
       "    </tr>\n",
       "    <tr>\n",
       "      <th>1</th>\n",
       "      <td>Direct</td>\n",
       "      <td>128141.06</td>\n",
       "      <td>568</td>\n",
       "      <td>456</td>\n",
       "      <td>539</td>\n",
       "      <td>16132</td>\n",
       "    </tr>\n",
       "    <tr>\n",
       "      <th>2</th>\n",
       "      <td>Organic Search</td>\n",
       "      <td>93376.88</td>\n",
       "      <td>991</td>\n",
       "      <td>905</td>\n",
       "      <td>956</td>\n",
       "      <td>28247</td>\n",
       "    </tr>\n",
       "    <tr>\n",
       "      <th>3</th>\n",
       "      <td>Paid Search</td>\n",
       "      <td>14028.37</td>\n",
       "      <td>164</td>\n",
       "      <td>153</td>\n",
       "      <td>160</td>\n",
       "      <td>4277</td>\n",
       "    </tr>\n",
       "    <tr>\n",
       "      <th>4</th>\n",
       "      <td>Display</td>\n",
       "      <td>4728.45</td>\n",
       "      <td>34</td>\n",
       "      <td>34</td>\n",
       "      <td>34</td>\n",
       "      <td>1044</td>\n",
       "    </tr>\n",
       "  </tbody>\n",
       "</table>\n",
       "</div>"
      ],
      "text/plain": [
       "          channel    revenue  transactions  users  sessions  pageviews\n",
       "0        Referral  182578.60          1540   1331      1470      42829\n",
       "1          Direct  128141.06           568    456       539      16132\n",
       "2  Organic Search   93376.88           991    905       956      28247\n",
       "3     Paid Search   14028.37           164    153       160       4277\n",
       "4         Display    4728.45            34     34        34       1044"
      ]
     },
     "execution_count": 8,
     "metadata": {},
     "output_type": "execute_result"
    }
   ],
   "source": [
    "# create a table of metrics by channel\n",
    "\n",
    "query = \"\"\"\n",
    "    SELECT\n",
    "        channelGrouping as channel,\n",
    "        SUM(totals.totalTransactionRevenue)/1000000 AS revenue,\n",
    "        SUM(totals.transactions) AS transactions,\n",
    "        COUNT(DISTINCT fullVisitorId) AS users,\n",
    "        SUM(totals.visits) AS sessions,\n",
    "        SUM(totals.pageviews) AS pageviews\n",
    "    FROM \n",
    "        `bigquery-public-data.google_analytics_sample.ga_sessions_*`\n",
    "    WHERE\n",
    "        _TABLE_SUFFIX BETWEEN '20161001' AND '20161230'\n",
    "        AND totals.totalTransactionRevenue IS NOT NULL\n",
    "    GROUP BY\n",
    "        1\n",
    "    ORDER BY\n",
    "        2 DESC\n",
    "\"\"\"\n",
    "safe_query_job = client.query(query)\n",
    "df3 = safe_query_job.to_dataframe()\n",
    "df3.head()\n"
   ]
  },
  {
   "cell_type": "code",
   "execution_count": 9,
   "metadata": {
    "execution": {
     "iopub.execute_input": "2020-11-15T13:34:44.829815Z",
     "iopub.status.busy": "2020-11-15T13:34:44.822465Z",
     "iopub.status.idle": "2020-11-15T13:34:45.885018Z",
     "shell.execute_reply": "2020-11-15T13:34:45.885613Z"
    },
    "papermill": {
     "duration": 1.127797,
     "end_time": "2020-11-15T13:34:45.885770",
     "exception": false,
     "start_time": "2020-11-15T13:34:44.757973",
     "status": "completed"
    },
    "tags": []
   },
   "outputs": [
    {
     "data": {
      "text/plain": [
       "Text(0.5, 1.0, 'Total Pageviews by Channel')"
      ]
     },
     "execution_count": 9,
     "metadata": {},
     "output_type": "execute_result"
    },
    {
     "data": {
      "image/png": "[encoded data removed]",
      "text/plain": [
       "<Figure size 720x1728 with 5 Axes>"
      ]
     },
     "metadata": {
      "image/png": {
       "height": 1364,
       "width": 631
      },
      "needs_background": "light"
     },
     "output_type": "display_data"
    }
   ],
   "source": [
    "# set up the matplotlib figure\n",
    "fig, (ax1, ax2, ax3, ax4, ax5) = plt.subplots(5, figsize=(10,24))\n",
    "fig.subplots_adjust(hspace=1)\n",
    "\n",
    "sns.barplot(x='channel',y='revenue',data=df3,estimator=sum,ax=ax1)\n",
    "\n",
    "sns.barplot(x='channel',y='transactions',data=df3,estimator=sum,ax=ax2)\n",
    "\n",
    "sns.barplot(x='channel',y='users',data=df3,estimator=sum,ax=ax3)\n",
    "\n",
    "sns.barplot(x='channel',y='sessions',data=df3,estimator=sum,ax=ax4)\n",
    "\n",
    "sns.barplot(x='channel',y='pageviews',data=df3,estimator=sum,ax=ax5)\n",
    "\n",
    "ax1.set_title('Total Revenue by Channel')\n",
    "ax2.set_title('Total Transactions by Channel')\n",
    "ax3.set_title('Total Users by Channel')\n",
    "ax4.set_title('Total Visits by Channel')\n",
    "ax5.set_title('Total Pageviews by Channel')"
   ]
  },
  {
   "cell_type": "markdown",
   "metadata": {
    "papermill": {
     "duration": 0.044529,
     "end_time": "2020-11-15T13:34:45.974912",
     "exception": false,
     "start_time": "2020-11-15T13:34:45.930383",
     "status": "completed"
    },
    "tags": []
   },
   "source": [
    "### User Behavior On Google Merchandise"
   ]
  },
  {
   "cell_type": "code",
   "execution_count": 10,
   "metadata": {
    "execution": {
     "iopub.execute_input": "2020-11-15T13:34:46.073765Z",
     "iopub.status.busy": "2020-11-15T13:34:46.072989Z",
     "iopub.status.idle": "2020-11-15T13:35:21.893952Z",
     "shell.execute_reply": "2020-11-15T13:35:21.894546Z"
    },
    "papermill": {
     "duration": 35.87489,
     "end_time": "2020-11-15T13:35:21.894724",
     "exception": false,
     "start_time": "2020-11-15T13:34:46.019834",
     "status": "completed"
    },
    "tags": []
   },
   "outputs": [
    {
     "data": {
      "text/html": [
       "<div>\n",
       "<style scoped>\n",
       "    .dataframe tbody tr th:only-of-type {\n",
       "        vertical-align: middle;\n",
       "    }\n",
       "\n",
       "    .dataframe tbody tr th {\n",
       "        vertical-align: top;\n",
       "    }\n",
       "\n",
       "    .dataframe thead th {\n",
       "        text-align: right;\n",
       "    }\n",
       "</style>\n",
       "<table border=\"1\" class=\"dataframe\">\n",
       "  <thead>\n",
       "    <tr style=\"text-align: right;\">\n",
       "      <th></th>\n",
       "      <th>userID</th>\n",
       "      <th>avgTimeOnSite</th>\n",
       "      <th>pageviews</th>\n",
       "      <th>transactions</th>\n",
       "    </tr>\n",
       "  </thead>\n",
       "  <tbody>\n",
       "    <tr>\n",
       "      <th>0</th>\n",
       "      <td>0000010278554503158</td>\n",
       "      <td>194.0</td>\n",
       "      <td>8.0</td>\n",
       "      <td>0.0</td>\n",
       "    </tr>\n",
       "    <tr>\n",
       "      <th>1</th>\n",
       "      <td>0000020424342248747</td>\n",
       "      <td>297.0</td>\n",
       "      <td>13.0</td>\n",
       "      <td>0.0</td>\n",
       "    </tr>\n",
       "    <tr>\n",
       "      <th>2</th>\n",
       "      <td>0000152474579038632</td>\n",
       "      <td>162.0</td>\n",
       "      <td>2.0</td>\n",
       "      <td>0.0</td>\n",
       "    </tr>\n",
       "    <tr>\n",
       "      <th>3</th>\n",
       "      <td>0000174067426171406</td>\n",
       "      <td>559.5</td>\n",
       "      <td>30.0</td>\n",
       "      <td>0.0</td>\n",
       "    </tr>\n",
       "    <tr>\n",
       "      <th>4</th>\n",
       "      <td>000033471059618621</td>\n",
       "      <td>NaN</td>\n",
       "      <td>1.0</td>\n",
       "      <td>0.0</td>\n",
       "    </tr>\n",
       "  </tbody>\n",
       "</table>\n",
       "</div>"
      ],
      "text/plain": [
       "                userID  avgTimeOnSite  pageviews  transactions\n",
       "0  0000010278554503158          194.0        8.0           0.0\n",
       "1  0000020424342248747          297.0       13.0           0.0\n",
       "2  0000152474579038632          162.0        2.0           0.0\n",
       "3  0000174067426171406          559.5       30.0           0.0\n",
       "4   000033471059618621            NaN        1.0           0.0"
      ]
     },
     "execution_count": 10,
     "metadata": {},
     "output_type": "execute_result"
    }
   ],
   "source": [
    "query = \"\"\"\n",
    "    SELECT \n",
    "        fullVisitorId AS userID,\n",
    "        AVG(totals.timeOnSite) As avgTimeOnSite,\n",
    "        SUM(totals.pageviews) AS pageviews,\n",
    "        SUM(totals.transactions) AS transactions\n",
    "    FROM \n",
    "        `bigquery-public-data.google_analytics_sample.ga_sessions_*`\n",
    "    WHERE\n",
    "        _TABLE_SUFFIX BETWEEN '20161001' AND '20161230'\n",
    "    GROUP BY\n",
    "        1\n",
    "    ORDER BY 1\n",
    "        \n",
    "\"\"\"\n",
    "safe_query_job = client.query(query)\n",
    "df4 = safe_query_job.to_dataframe()\n",
    "\n",
    "df4['transactions'].fillna(0, inplace=True)\n",
    "df4.head()"
   ]
  },
  {
   "cell_type": "code",
   "execution_count": 11,
   "metadata": {
    "execution": {
     "iopub.execute_input": "2020-11-15T13:35:21.991875Z",
     "iopub.status.busy": "2020-11-15T13:35:21.990790Z",
     "iopub.status.idle": "2020-11-15T13:35:22.028539Z",
     "shell.execute_reply": "2020-11-15T13:35:22.027760Z"
    },
    "papermill": {
     "duration": 0.089076,
     "end_time": "2020-11-15T13:35:22.028672",
     "exception": false,
     "start_time": "2020-11-15T13:35:21.939596",
     "status": "completed"
    },
    "tags": []
   },
   "outputs": [
    {
     "data": {
      "text/html": [
       "<div>\n",
       "<style scoped>\n",
       "    .dataframe tbody tr th:only-of-type {\n",
       "        vertical-align: middle;\n",
       "    }\n",
       "\n",
       "    .dataframe tbody tr th {\n",
       "        vertical-align: top;\n",
       "    }\n",
       "\n",
       "    .dataframe thead th {\n",
       "        text-align: right;\n",
       "    }\n",
       "</style>\n",
       "<table border=\"1\" class=\"dataframe\">\n",
       "  <thead>\n",
       "    <tr style=\"text-align: right;\">\n",
       "      <th></th>\n",
       "      <th>avgTimeOnSite</th>\n",
       "      <th>pageviews</th>\n",
       "      <th>transactions</th>\n",
       "    </tr>\n",
       "  </thead>\n",
       "  <tbody>\n",
       "    <tr>\n",
       "      <th>avgTimeOnSite</th>\n",
       "      <td>1.000000</td>\n",
       "      <td>0.454428</td>\n",
       "      <td>0.242365</td>\n",
       "    </tr>\n",
       "    <tr>\n",
       "      <th>pageviews</th>\n",
       "      <td>0.454428</td>\n",
       "      <td>1.000000</td>\n",
       "      <td>0.525083</td>\n",
       "    </tr>\n",
       "    <tr>\n",
       "      <th>transactions</th>\n",
       "      <td>0.242365</td>\n",
       "      <td>0.525083</td>\n",
       "      <td>1.000000</td>\n",
       "    </tr>\n",
       "  </tbody>\n",
       "</table>\n",
       "</div>"
      ],
      "text/plain": [
       "               avgTimeOnSite  pageviews  transactions\n",
       "avgTimeOnSite       1.000000   0.454428      0.242365\n",
       "pageviews           0.454428   1.000000      0.525083\n",
       "transactions        0.242365   0.525083      1.000000"
      ]
     },
     "execution_count": 11,
     "metadata": {},
     "output_type": "execute_result"
    }
   ],
   "source": [
    "pearson_corr = df4.corr(method='pearson')\n",
    "pearson_corr"
   ]
  },
  {
   "cell_type": "code",
   "execution_count": 12,
   "metadata": {
    "execution": {
     "iopub.execute_input": "2020-11-15T13:35:22.147987Z",
     "iopub.status.busy": "2020-11-15T13:35:22.147144Z",
     "iopub.status.idle": "2020-11-15T13:35:22.403017Z",
     "shell.execute_reply": "2020-11-15T13:35:22.402347Z"
    },
    "papermill": {
     "duration": 0.319924,
     "end_time": "2020-11-15T13:35:22.403149",
     "exception": false,
     "start_time": "2020-11-15T13:35:22.083225",
     "status": "completed"
    },
    "tags": []
   },
   "outputs": [
    {
     "data": {
      "text/plain": [
       "<matplotlib.axes._subplots.AxesSubplot at 0x7f5bec9b4250>"
      ]
     },
     "execution_count": 12,
     "metadata": {},
     "output_type": "execute_result"
    },
    {
     "data": {
      "image/png": "[encoded data removed]",
      "text/plain": [
       "<Figure size 432x288 with 2 Axes>"
      ]
     },
     "metadata": {
      "image/png": {
       "height": 252,
       "width": 416
      },
      "needs_background": "light"
     },
     "output_type": "display_data"
    }
   ],
   "source": [
    "sns.heatmap(pearson_corr,xticklabels=pearson_corr.columns,\n",
    "              yticklabels=pearson_corr.columns,cmap='RdBu_r',\n",
    "              annot=True,linewidth=0.5)"
   ]
  },
  {
   "cell_type": "markdown",
   "metadata": {
    "papermill": {
     "duration": 0.047857,
     "end_time": "2020-11-15T13:35:22.499165",
     "exception": false,
     "start_time": "2020-11-15T13:35:22.451308",
     "status": "completed"
    },
    "tags": []
   },
   "source": [
    "### Most visited pages on site ?"
   ]
  },
  {
   "cell_type": "code",
   "execution_count": 13,
   "metadata": {
    "execution": {
     "iopub.execute_input": "2020-11-15T13:35:22.602923Z",
     "iopub.status.busy": "2020-11-15T13:35:22.602077Z",
     "iopub.status.idle": "2020-11-15T13:35:26.851937Z",
     "shell.execute_reply": "2020-11-15T13:35:26.851161Z"
    },
    "papermill": {
     "duration": 4.305027,
     "end_time": "2020-11-15T13:35:26.852065",
     "exception": false,
     "start_time": "2020-11-15T13:35:22.547038",
     "status": "completed"
    },
    "tags": []
   },
   "outputs": [
    {
     "data": {
      "text/html": [
       "<div>\n",
       "<style scoped>\n",
       "    .dataframe tbody tr th:only-of-type {\n",
       "        vertical-align: middle;\n",
       "    }\n",
       "\n",
       "    .dataframe tbody tr th {\n",
       "        vertical-align: top;\n",
       "    }\n",
       "\n",
       "    .dataframe thead th {\n",
       "        text-align: right;\n",
       "    }\n",
       "</style>\n",
       "<table border=\"1\" class=\"dataframe\">\n",
       "  <thead>\n",
       "    <tr style=\"text-align: right;\">\n",
       "      <th></th>\n",
       "      <th>pagePath</th>\n",
       "      <th>pageviews</th>\n",
       "    </tr>\n",
       "  </thead>\n",
       "  <tbody>\n",
       "    <tr>\n",
       "      <th>0</th>\n",
       "      <td>/google+redesign/</td>\n",
       "      <td>13059899</td>\n",
       "    </tr>\n",
       "    <tr>\n",
       "      <th>1</th>\n",
       "      <td>/home</td>\n",
       "      <td>2320076</td>\n",
       "    </tr>\n",
       "    <tr>\n",
       "      <th>2</th>\n",
       "      <td>/basket.html</td>\n",
       "      <td>2251571</td>\n",
       "    </tr>\n",
       "    <tr>\n",
       "      <th>3</th>\n",
       "      <td>/store.html</td>\n",
       "      <td>693064</td>\n",
       "    </tr>\n",
       "    <tr>\n",
       "      <th>4</th>\n",
       "      <td>/signin.html</td>\n",
       "      <td>373752</td>\n",
       "    </tr>\n",
       "    <tr>\n",
       "      <th>5</th>\n",
       "      <td>/asearch.html</td>\n",
       "      <td>342792</td>\n",
       "    </tr>\n",
       "    <tr>\n",
       "      <th>6</th>\n",
       "      <td>/yourinfo.html</td>\n",
       "      <td>309919</td>\n",
       "    </tr>\n",
       "    <tr>\n",
       "      <th>7</th>\n",
       "      <td>/payment.html</td>\n",
       "      <td>305266</td>\n",
       "    </tr>\n",
       "    <tr>\n",
       "      <th>8</th>\n",
       "      <td>/ordercompleted.html</td>\n",
       "      <td>214672</td>\n",
       "    </tr>\n",
       "    <tr>\n",
       "      <th>9</th>\n",
       "      <td>/revieworder.html</td>\n",
       "      <td>144310</td>\n",
       "    </tr>\n",
       "  </tbody>\n",
       "</table>\n",
       "</div>"
      ],
      "text/plain": [
       "               pagePath  pageviews\n",
       "0     /google+redesign/   13059899\n",
       "1                 /home    2320076\n",
       "2          /basket.html    2251571\n",
       "3           /store.html     693064\n",
       "4          /signin.html     373752\n",
       "5         /asearch.html     342792\n",
       "6        /yourinfo.html     309919\n",
       "7         /payment.html     305266\n",
       "8  /ordercompleted.html     214672\n",
       "9     /revieworder.html     144310"
      ]
     },
     "execution_count": 13,
     "metadata": {},
     "output_type": "execute_result"
    }
   ],
   "source": [
    "query = \"\"\"\n",
    "    SELECT\n",
    "        hits.page.pagePathLevel1 AS pagePath,\n",
    "        SUM(totals.pageviews) AS pageviews\n",
    "    FROM\n",
    "      `bigquery-public-data.google_analytics_sample.ga_sessions_*`,\n",
    "      UNNEST(hits) AS hits\n",
    "    WHERE\n",
    "        _TABLE_SUFFIX BETWEEN '20161001' AND '20161230'\n",
    "    GROUP BY 1\n",
    "    ORDER BY 2 DESC\n",
    "    LIMIT 10\n",
    "\"\"\"\n",
    "safe_query_job = client.query(query)\n",
    "df5 = safe_query_job.to_dataframe()\n",
    "df5\n"
   ]
  },
  {
   "cell_type": "code",
   "execution_count": 14,
   "metadata": {
    "execution": {
     "iopub.execute_input": "2020-11-15T13:35:26.955782Z",
     "iopub.status.busy": "2020-11-15T13:35:26.954942Z",
     "iopub.status.idle": "2020-11-15T13:35:27.310824Z",
     "shell.execute_reply": "2020-11-15T13:35:27.311399Z"
    },
    "papermill": {
     "duration": 0.410716,
     "end_time": "2020-11-15T13:35:27.311571",
     "exception": false,
     "start_time": "2020-11-15T13:35:26.900855",
     "status": "completed"
    },
    "tags": []
   },
   "outputs": [
    {
     "data": {
      "image/png": "[encoded data removed]",
      "text/plain": [
       "<Figure size 432x288 with 1 Axes>"
      ]
     },
     "metadata": {
      "image/png": {
       "height": 373,
       "width": 374
      },
      "needs_background": "light"
     },
     "output_type": "display_data"
    }
   ],
   "source": [
    "df5.plot.bar(x='pagePath', y='pageviews', rot=70, title='Top 10 Viewed Pages')\n",
    "plt.show()"
   ]
  },
  {
   "cell_type": "code",
   "execution_count": 15,
   "metadata": {
    "execution": {
     "iopub.execute_input": "2020-11-15T13:35:27.421885Z",
     "iopub.status.busy": "2020-11-15T13:35:27.421094Z",
     "iopub.status.idle": "2020-11-15T13:35:33.920823Z",
     "shell.execute_reply": "2020-11-15T13:35:33.920230Z"
    },
    "papermill": {
     "duration": 6.558436,
     "end_time": "2020-11-15T13:35:33.920963",
     "exception": false,
     "start_time": "2020-11-15T13:35:27.362527",
     "status": "completed"
    },
    "tags": []
   },
   "outputs": [
    {
     "data": {
      "text/html": [
       "<div>\n",
       "<style scoped>\n",
       "    .dataframe tbody tr th:only-of-type {\n",
       "        vertical-align: middle;\n",
       "    }\n",
       "\n",
       "    .dataframe tbody tr th {\n",
       "        vertical-align: top;\n",
       "    }\n",
       "\n",
       "    .dataframe thead th {\n",
       "        text-align: right;\n",
       "    }\n",
       "</style>\n",
       "<table border=\"1\" class=\"dataframe\">\n",
       "  <thead>\n",
       "    <tr style=\"text-align: right;\">\n",
       "      <th></th>\n",
       "      <th>product_category</th>\n",
       "      <th>product_name</th>\n",
       "      <th>product_sku</th>\n",
       "      <th>product_price</th>\n",
       "      <th>product_quantity</th>\n",
       "      <th>product_revenue</th>\n",
       "      <th>total_revenue</th>\n",
       "    </tr>\n",
       "  </thead>\n",
       "  <tbody>\n",
       "    <tr>\n",
       "      <th>0</th>\n",
       "      <td>Apparel</td>\n",
       "      <td>Google Vintage Henley Grey/Black</td>\n",
       "      <td>GGOEGAEJ035314</td>\n",
       "      <td>23.99</td>\n",
       "      <td>1</td>\n",
       "      <td>27.99</td>\n",
       "      <td>27.99</td>\n",
       "    </tr>\n",
       "    <tr>\n",
       "      <th>1</th>\n",
       "      <td>Electronics</td>\n",
       "      <td>Google G Noise-reducing Bluetooth Headphones</td>\n",
       "      <td>GGOEGEVB070599</td>\n",
       "      <td>119.99</td>\n",
       "      <td>1</td>\n",
       "      <td>122.99</td>\n",
       "      <td>122.99</td>\n",
       "    </tr>\n",
       "    <tr>\n",
       "      <th>2</th>\n",
       "      <td>Apparel</td>\n",
       "      <td>Google Men's Long Sleeve Raglan Ocean Blue</td>\n",
       "      <td>GGOEGAEC033113</td>\n",
       "      <td>19.99</td>\n",
       "      <td>2</td>\n",
       "      <td>42.98</td>\n",
       "      <td>42.98</td>\n",
       "    </tr>\n",
       "    <tr>\n",
       "      <th>3</th>\n",
       "      <td>Drinkware</td>\n",
       "      <td>Engraved Ceramic Google Mug</td>\n",
       "      <td>GGOEGDWC020199</td>\n",
       "      <td>7.19</td>\n",
       "      <td>1</td>\n",
       "      <td>11.69</td>\n",
       "      <td>26.58</td>\n",
       "    </tr>\n",
       "    <tr>\n",
       "      <th>4</th>\n",
       "      <td>Drinkware</td>\n",
       "      <td>Red Shine 15 oz Mug</td>\n",
       "      <td>GGOEGDWR015799</td>\n",
       "      <td>10.39</td>\n",
       "      <td>1</td>\n",
       "      <td>14.89</td>\n",
       "      <td>26.58</td>\n",
       "    </tr>\n",
       "  </tbody>\n",
       "</table>\n",
       "</div>"
      ],
      "text/plain": [
       "  product_category                                  product_name  \\\n",
       "0          Apparel              Google Vintage Henley Grey/Black   \n",
       "1      Electronics  Google G Noise-reducing Bluetooth Headphones   \n",
       "2          Apparel    Google Men's Long Sleeve Raglan Ocean Blue   \n",
       "3        Drinkware                   Engraved Ceramic Google Mug   \n",
       "4        Drinkware                           Red Shine 15 oz Mug   \n",
       "\n",
       "      product_sku  product_price  product_quantity  product_revenue  \\\n",
       "0  GGOEGAEJ035314          23.99                 1            27.99   \n",
       "1  GGOEGEVB070599         119.99                 1           122.99   \n",
       "2  GGOEGAEC033113          19.99                 2            42.98   \n",
       "3  GGOEGDWC020199           7.19                 1            11.69   \n",
       "4  GGOEGDWR015799          10.39                 1            14.89   \n",
       "\n",
       "   total_revenue  \n",
       "0          27.99  \n",
       "1         122.99  \n",
       "2          42.98  \n",
       "3          26.58  \n",
       "4          26.58  "
      ]
     },
     "execution_count": 15,
     "metadata": {},
     "output_type": "execute_result"
    }
   ],
   "source": [
    "query = \"\"\"\n",
    "    SELECT\n",
    "        product.v2ProductCategory AS product_category,\n",
    "        product.v2ProductName AS product_name,\n",
    "        product.productSKU AS product_sku,\n",
    "        product.productPrice/1e6 AS product_price,\n",
    "        product.productQuantity AS product_quantity,\n",
    "        product.productRevenue/1e6 AS product_revenue,\n",
    "        totals.totalTransactionRevenue/1e6 AS total_revenue\n",
    "    FROM\n",
    "      `bigquery-public-data.google_analytics_sample.ga_sessions_*`,\n",
    "      UNNEST(hits) AS hits,\n",
    "      UNNEST(hits.product) AS product\n",
    "    WHERE\n",
    "        _TABLE_SUFFIX BETWEEN '20161001' AND '20161230'\n",
    "        AND productRevenue IS NOT NULL\n",
    "\"\"\"\n",
    "safe_query_job = client.query(query)\n",
    "df6 = safe_query_job.to_dataframe()\n",
    "df6.head()"
   ]
  },
  {
   "cell_type": "code",
   "execution_count": 16,
   "metadata": {
    "execution": {
     "iopub.execute_input": "2020-11-15T13:35:34.033238Z",
     "iopub.status.busy": "2020-11-15T13:35:34.032376Z",
     "iopub.status.idle": "2020-11-15T13:35:34.435465Z",
     "shell.execute_reply": "2020-11-15T13:35:34.436030Z"
    },
    "papermill": {
     "duration": 0.463757,
     "end_time": "2020-11-15T13:35:34.436177",
     "exception": false,
     "start_time": "2020-11-15T13:35:33.972420",
     "status": "completed"
    },
    "tags": []
   },
   "outputs": [
    {
     "data": {
      "text/plain": [
       "<matplotlib.axes._subplots.AxesSubplot at 0x7f5be9d369d0>"
      ]
     },
     "execution_count": 16,
     "metadata": {},
     "output_type": "execute_result"
    },
    {
     "data": {
      "image/png": "[encoded data removed]",
      "text/plain": [
       "<Figure size 432x288 with 1 Axes>"
      ]
     },
     "metadata": {
      "image/png": {
       "height": 360,
       "width": 394
      },
      "needs_background": "light"
     },
     "output_type": "display_data"
    }
   ],
   "source": [
    "df6['product_category'].unique()\n",
    "df6 = df6.replace(['${productitem.product.origCatName}'], 'Miscellaneous')\n",
    "\n",
    "pivot = pd.pivot_table(df6, index=['product_category'], values=['product_revenue', 'product_quantity'], aggfunc=np.sum).sort_values(by='product_revenue', ascending=False)\n",
    "pivot.plot(kind='bar')"
   ]
  },
  {
   "cell_type": "markdown",
   "metadata": {
    "papermill": {
     "duration": 0.053999,
     "end_time": "2020-11-15T13:35:34.544401",
     "exception": false,
     "start_time": "2020-11-15T13:35:34.490402",
     "status": "completed"
    },
    "tags": []
   },
   "source": [
    "### Shopping Cart Abandonment"
   ]
  },
  {
   "cell_type": "code",
   "execution_count": 17,
   "metadata": {
    "execution": {
     "iopub.execute_input": "2020-11-15T13:35:34.661866Z",
     "iopub.status.busy": "2020-11-15T13:35:34.661053Z",
     "iopub.status.idle": "2020-11-15T13:35:39.503040Z",
     "shell.execute_reply": "2020-11-15T13:35:39.502236Z"
    },
    "papermill": {
     "duration": 4.904086,
     "end_time": "2020-11-15T13:35:39.503169",
     "exception": false,
     "start_time": "2020-11-15T13:35:34.599083",
     "status": "completed"
    },
    "tags": []
   },
   "outputs": [
    {
     "data": {
      "text/html": [
       "<div>\n",
       "<style scoped>\n",
       "    .dataframe tbody tr th:only-of-type {\n",
       "        vertical-align: middle;\n",
       "    }\n",
       "\n",
       "    .dataframe tbody tr th {\n",
       "        vertical-align: top;\n",
       "    }\n",
       "\n",
       "    .dataframe thead th {\n",
       "        text-align: right;\n",
       "    }\n",
       "</style>\n",
       "<table border=\"1\" class=\"dataframe\">\n",
       "  <thead>\n",
       "    <tr style=\"text-align: right;\">\n",
       "      <th></th>\n",
       "      <th>actions</th>\n",
       "      <th>total_hits</th>\n",
       "    </tr>\n",
       "  </thead>\n",
       "  <tbody>\n",
       "    <tr>\n",
       "      <th>0</th>\n",
       "      <td>1</td>\n",
       "      <td>111457</td>\n",
       "    </tr>\n",
       "    <tr>\n",
       "      <th>1</th>\n",
       "      <td>2</td>\n",
       "      <td>92030</td>\n",
       "    </tr>\n",
       "    <tr>\n",
       "      <th>2</th>\n",
       "      <td>5</td>\n",
       "      <td>60395</td>\n",
       "    </tr>\n",
       "    <tr>\n",
       "      <th>3</th>\n",
       "      <td>6</td>\n",
       "      <td>19802</td>\n",
       "    </tr>\n",
       "  </tbody>\n",
       "</table>\n",
       "</div>"
      ],
      "text/plain": [
       "  actions  total_hits\n",
       "0       1      111457\n",
       "1       2       92030\n",
       "2       5       60395\n",
       "3       6       19802"
      ]
     },
     "execution_count": 17,
     "metadata": {},
     "output_type": "execute_result"
    }
   ],
   "source": [
    "query = \"\"\"\n",
    "    SELECT\n",
    "        hits.eCommerceAction.action_type AS actions,\n",
    "        COUNT(fullVisitorId) AS total_hits\n",
    "    FROM\n",
    "      `bigquery-public-data.google_analytics_sample.ga_sessions_*`,\n",
    "      UNNEST(hits) AS hits,\n",
    "      UNNEST(hits.product) AS product\n",
    "    WHERE\n",
    "        _TABLE_SUFFIX BETWEEN '20161001' AND '20161230'\n",
    "    AND\n",
    "        (hits.ecommerceaction.action_type != '0' AND hits.ecommerceaction.action_type != '4' AND hits.ecommerceaction.action_type != '3')\n",
    "    GROUP BY \n",
    "        1\n",
    "    ORDER BY 1\n",
    "\"\"\"\n",
    "safe_query_job = client.query(query)\n",
    "df7 = safe_query_job.to_dataframe()\n",
    "df7.head()"
   ]
  },
  {
   "cell_type": "code",
   "execution_count": 18,
   "metadata": {
    "execution": {
     "iopub.execute_input": "2020-11-15T13:35:39.624750Z",
     "iopub.status.busy": "2020-11-15T13:35:39.623923Z",
     "iopub.status.idle": "2020-11-15T13:35:39.627371Z",
     "shell.execute_reply": "2020-11-15T13:35:39.626660Z"
    },
    "papermill": {
     "duration": 0.068471,
     "end_time": "2020-11-15T13:35:39.627511",
     "exception": false,
     "start_time": "2020-11-15T13:35:39.559040",
     "status": "completed"
    },
    "tags": []
   },
   "outputs": [],
   "source": [
    "df7['actions'] = df7['actions'].astype(str)\n",
    "df7['actions'] = df7['actions'].replace(['0','1','2','3','4','5','6'],['Unknown','Click through of product lists','Product detail views','Add product(s) to cart','Remove products from cart',\n",
    "                                'Check out','Completed purchase'])"
   ]
  },
  {
   "cell_type": "code",
   "execution_count": 19,
   "metadata": {
    "execution": {
     "iopub.execute_input": "2020-11-15T13:35:39.744643Z",
     "iopub.status.busy": "2020-11-15T13:35:39.743866Z",
     "iopub.status.idle": "2020-11-15T13:35:39.772904Z",
     "shell.execute_reply": "2020-11-15T13:35:39.772241Z"
    },
    "papermill": {
     "duration": 0.090491,
     "end_time": "2020-11-15T13:35:39.773039",
     "exception": false,
     "start_time": "2020-11-15T13:35:39.682548",
     "status": "completed"
    },
    "tags": []
   },
   "outputs": [
    {
     "data": {
      "application/vnd.plotly.v1+json": {
       "config": {
        "plotlyServerURL": "https://plot.ly"
       },
       "data": [
        {
         "textinfo": "value+percent initial",
         "textposition": "inside",
         "type": "funnel",
         "x": [
          111457,
          92030,
          60395,
          19802
         ],
         "y": [
          "Click through of product lists",
          "Product detail views",
          "Check out",
          "Completed purchase"
         ]
        }
       ],
       "layout": {
        "template": {
         "data": {
          "bar": [
           {
            "error_x": {
             "color": "#2a3f5f"
            },
            "error_y": {
             "color": "#2a3f5f"
            },
            "marker": {
             "line": {
              "color": "#E5ECF6",
              "width": 0.5
             }
            },
            "type": "bar"
           }
          ],
          "barpolar": [
           {
            "marker": {
             "line": {
              "color": "#E5ECF6",
              "width": 0.5
             }
            },
            "type": "barpolar"
           }
          ],
          "carpet": [
           {
            "aaxis": {
             "endlinecolor": "#2a3f5f",
             "gridcolor": "white",
             "linecolor": "white",
             "minorgridcolor": "white",
             "startlinecolor": "#2a3f5f"
            },
            "baxis": {
             "endlinecolor": "#2a3f5f",
             "gridcolor": "white",
             "linecolor": "white",
             "minorgridcolor": "white",
             "startlinecolor": "#2a3f5f"
            },
            "type": "carpet"
           }
          ],
          "choropleth": [
           {
            "colorbar": {
             "outlinewidth": 0,
             "ticks": ""
            },
            "type": "choropleth"
           }
          ],
          "contour": [
           {
            "colorbar": {
             "outlinewidth": 0,
             "ticks": ""
            },
            "colorscale": [
             [
              0,
              "#0d0887"
             ],
             [
              0.1111111111111111,
              "#46039f"
             ],
             [
              0.2222222222222222,
              "#7201a8"
             ],
             [
              0.3333333333333333,
              "#9c179e"
             ],
             [
              0.4444444444444444,
              "#bd3786"
             ],
             [
              0.5555555555555556,
              "#d8576b"
             ],
             [
              0.6666666666666666,
              "#ed7953"
             ],
             [
              0.7777777777777778,
              "#fb9f3a"
             ],
             [
              0.8888888888888888,
              "#fdca26"
             ],
             [
              1,
              "#f0f921"
             ]
            ],
            "type": "contour"
           }
          ],
          "contourcarpet": [
           {
            "colorbar": {
             "outlinewidth": 0,
             "ticks": ""
            },
            "type": "contourcarpet"
           }
          ],
          "heatmap": [
           {
            "colorbar": {
             "outlinewidth": 0,
             "ticks": ""
            },
            "colorscale": [
             [
              0,
              "#0d0887"
             ],
             [
              0.1111111111111111,
              "#46039f"
             ],
             [
              0.2222222222222222,
              "#7201a8"
             ],
             [
              0.3333333333333333,
              "#9c179e"
             ],
             [
              0.4444444444444444,
              "#bd3786"
             ],
             [
              0.5555555555555556,
              "#d8576b"
             ],
             [
              0.6666666666666666,
              "#ed7953"
             ],
             [
              0.7777777777777778,
              "#fb9f3a"
             ],
             [
              0.8888888888888888,
              "#fdca26"
             ],
             [
              1,
              "#f0f921"
             ]
            ],
            "type": "heatmap"
           }
          ],
          "heatmapgl": [
           {
            "colorbar": {
             "outlinewidth": 0,
             "ticks": ""
            },
            "colorscale": [
             [
              0,
              "#0d0887"
             ],
             [
              0.1111111111111111,
              "#46039f"
             ],
             [
              0.2222222222222222,
              "#7201a8"
             ],
             [
              0.3333333333333333,
              "#9c179e"
             ],
             [
              0.4444444444444444,
              "#bd3786"
             ],
             [
              0.5555555555555556,
              "#d8576b"
             ],
             [
              0.6666666666666666,
              "#ed7953"
             ],
             [
              0.7777777777777778,
              "#fb9f3a"
             ],
             [
              0.8888888888888888,
              "#fdca26"
             ],
             [
              1,
              "#f0f921"
             ]
            ],
            "type": "heatmapgl"
           }
          ],
          "histogram": [
           {
            "marker": {
             "colorbar": {
              "outlinewidth": 0,
              "ticks": ""
             }
            },
            "type": "histogram"
           }
          ],
          "histogram2d": [
           {
            "colorbar": {
             "outlinewidth": 0,
             "ticks": ""
            },
            "colorscale": [
             [
              0,
              "#0d0887"
             ],
             [
              0.1111111111111111,
              "#46039f"
             ],
             [
              0.2222222222222222,
              "#7201a8"
             ],
             [
              0.3333333333333333,
              "#9c179e"
             ],
             [
              0.4444444444444444,
              "#bd3786"
             ],
             [
              0.5555555555555556,
              "#d8576b"
             ],
             [
              0.6666666666666666,
              "#ed7953"
             ],
             [
              0.7777777777777778,
              "#fb9f3a"
             ],
             [
              0.8888888888888888,
              "#fdca26"
             ],
             [
              1,
              "#f0f921"
             ]
            ],
            "type": "histogram2d"
           }
          ],
          "histogram2dcontour": [
           {
            "colorbar": {
             "outlinewidth": 0,
             "ticks": ""
            },
            "colorscale": [
             [
              0,
              "#0d0887"
             ],
             [
              0.1111111111111111,
              "#46039f"
             ],
             [
              0.2222222222222222,
              "#7201a8"
             ],
             [
              0.3333333333333333,
              "#9c179e"
             ],
             [
              0.4444444444444444,
              "#bd3786"
             ],
             [
              0.5555555555555556,
              "#d8576b"
             ],
             [
              0.6666666666666666,
              "#ed7953"
             ],
             [
              0.7777777777777778,
              "#fb9f3a"
             ],
             [
              0.8888888888888888,
              "#fdca26"
             ],
             [
              1,
              "#f0f921"
             ]
            ],
            "type": "histogram2dcontour"
           }
          ],
          "mesh3d": [
           {
            "colorbar": {
             "outlinewidth": 0,
             "ticks": ""
            },
            "type": "mesh3d"
           }
          ],
          "parcoords": [
           {
            "line": {
             "colorbar": {
              "outlinewidth": 0,
              "ticks": ""
             }
            },
            "type": "parcoords"
           }
          ],
          "pie": [
           {
            "automargin": true,
            "type": "pie"
           }
          ],
          "scatter": [
           {
            "marker": {
             "colorbar": {
              "outlinewidth": 0,
              "ticks": ""
             }
            },
            "type": "scatter"
           }
          ],
          "scatter3d": [
           {
            "line": {
             "colorbar": {
              "outlinewidth": 0,
              "ticks": ""
             }
            },
            "marker": {
             "colorbar": {
              "outlinewidth": 0,
              "ticks": ""
             }
            },
            "type": "scatter3d"
           }
          ],
          "scattercarpet": [
           {
            "marker": {
             "colorbar": {
              "outlinewidth": 0,
              "ticks": ""
             }
            },
            "type": "scattercarpet"
           }
          ],
          "scattergeo": [
           {
            "marker": {
             "colorbar": {
              "outlinewidth": 0,
              "ticks": ""
             }
            },
            "type": "scattergeo"
           }
          ],
          "scattergl": [
           {
            "marker": {
             "colorbar": {
              "outlinewidth": 0,
              "ticks": ""
             }
            },
            "type": "scattergl"
           }
          ],
          "scattermapbox": [
           {
            "marker": {
             "colorbar": {
              "outlinewidth": 0,
              "ticks": ""
             }
            },
            "type": "scattermapbox"
           }
          ],
          "scatterpolar": [
           {
            "marker": {
             "colorbar": {
              "outlinewidth": 0,
              "ticks": ""
             }
            },
            "type": "scatterpolar"
           }
          ],
          "scatterpolargl": [
           {
            "marker": {
             "colorbar": {
              "outlinewidth": 0,
              "ticks": ""
             }
            },
            "type": "scatterpolargl"
           }
          ],
          "scatterternary": [
           {
            "marker": {
             "colorbar": {
              "outlinewidth": 0,
              "ticks": ""
             }
            },
            "type": "scatterternary"
           }
          ],
          "surface": [
           {
            "colorbar": {
             "outlinewidth": 0,
             "ticks": ""
            },
            "colorscale": [
             [
              0,
              "#0d0887"
             ],
             [
              0.1111111111111111,
              "#46039f"
             ],
             [
              0.2222222222222222,
              "#7201a8"
             ],
             [
              0.3333333333333333,
              "#9c179e"
             ],
             [
              0.4444444444444444,
              "#bd3786"
             ],
             [
              0.5555555555555556,
              "#d8576b"
             ],
             [
              0.6666666666666666,
              "#ed7953"
             ],
             [
              0.7777777777777778,
              "#fb9f3a"
             ],
             [
              0.8888888888888888,
              "#fdca26"
             ],
             [
              1,
              "#f0f921"
             ]
            ],
            "type": "surface"
           }
          ],
          "table": [
           {
            "cells": {
             "fill": {
              "color": "#EBF0F8"
             },
             "line": {
              "color": "white"
             }
            },
            "header": {
             "fill": {
              "color": "#C8D4E3"
             },
             "line": {
              "color": "white"
             }
            },
            "type": "table"
           }
          ]
         },
         "layout": {
          "annotationdefaults": {
           "arrowcolor": "#2a3f5f",
           "arrowhead": 0,
           "arrowwidth": 1
          },
          "coloraxis": {
           "colorbar": {
            "outlinewidth": 0,
            "ticks": ""
           }
          },
          "colorscale": {
           "diverging": [
            [
             0,
             "#8e0152"
            ],
            [
             0.1,
             "#c51b7d"
            ],
            [
             0.2,
             "#de77ae"
            ],
            [
             0.3,
             "#f1b6da"
            ],
            [
             0.4,
             "#fde0ef"
            ],
            [
             0.5,
             "#f7f7f7"
            ],
            [
             0.6,
             "#e6f5d0"
            ],
            [
             0.7,
             "#b8e186"
            ],
            [
             0.8,
             "#7fbc41"
            ],
            [
             0.9,
             "#4d9221"
            ],
            [
             1,
             "#276419"
            ]
           ],
           "sequential": [
            [
             0,
             "#0d0887"
            ],
            [
             0.1111111111111111,
             "#46039f"
            ],
            [
             0.2222222222222222,
             "#7201a8"
            ],
            [
             0.3333333333333333,
             "#9c179e"
            ],
            [
             0.4444444444444444,
             "#bd3786"
            ],
            [
             0.5555555555555556,
             "#d8576b"
            ],
            [
             0.6666666666666666,
             "#ed7953"
            ],
            [
             0.7777777777777778,
             "#fb9f3a"
            ],
            [
             0.8888888888888888,
             "#fdca26"
            ],
            [
             1,
             "#f0f921"
            ]
           ],
           "sequentialminus": [
            [
             0,
             "#0d0887"
            ],
            [
             0.1111111111111111,
             "#46039f"
            ],
            [
             0.2222222222222222,
             "#7201a8"
            ],
            [
             0.3333333333333333,
             "#9c179e"
            ],
            [
             0.4444444444444444,
             "#bd3786"
            ],
            [
             0.5555555555555556,
             "#d8576b"
            ],
            [
             0.6666666666666666,
             "#ed7953"
            ],
            [
             0.7777777777777778,
             "#fb9f3a"
            ],
            [
             0.8888888888888888,
             "#fdca26"
            ],
            [
             1,
             "#f0f921"
            ]
           ]
          },
          "colorway": [
           "#636efa",
           "#EF553B",
           "#00cc96",
           "#ab63fa",
           "#FFA15A",
           "#19d3f3",
           "#FF6692",
           "#B6E880",
           "#FF97FF",
           "#FECB52"
          ],
          "font": {
           "color": "#2a3f5f"
          },
          "geo": {
           "bgcolor": "white",
           "lakecolor": "white",
           "landcolor": "#E5ECF6",
           "showlakes": true,
           "showland": true,
           "subunitcolor": "white"
          },
          "hoverlabel": {
           "align": "left"
          },
          "hovermode": "closest",
          "mapbox": {
           "style": "light"
          },
          "paper_bgcolor": "white",
          "plot_bgcolor": "#E5ECF6",
          "polar": {
           "angularaxis": {
            "gridcolor": "white",
            "linecolor": "white",
            "ticks": ""
           },
           "bgcolor": "#E5ECF6",
           "radialaxis": {
            "gridcolor": "white",
            "linecolor": "white",
            "ticks": ""
           }
          },
          "scene": {
           "xaxis": {
            "backgroundcolor": "#E5ECF6",
            "gridcolor": "white",
            "gridwidth": 2,
            "linecolor": "white",
            "showbackground": true,
            "ticks": "",
            "zerolinecolor": "white"
           },
           "yaxis": {
            "backgroundcolor": "#E5ECF6",
            "gridcolor": "white",
            "gridwidth": 2,
            "linecolor": "white",
            "showbackground": true,
            "ticks": "",
            "zerolinecolor": "white"
           },
           "zaxis": {
            "backgroundcolor": "#E5ECF6",
            "gridcolor": "white",
            "gridwidth": 2,
            "linecolor": "white",
            "showbackground": true,
            "ticks": "",
            "zerolinecolor": "white"
           }
          },
          "shapedefaults": {
           "line": {
            "color": "#2a3f5f"
           }
          },
          "ternary": {
           "aaxis": {
            "gridcolor": "white",
            "linecolor": "white",
            "ticks": ""
           },
           "baxis": {
            "gridcolor": "white",
            "linecolor": "white",
            "ticks": ""
           },
           "bgcolor": "#E5ECF6",
           "caxis": {
            "gridcolor": "white",
            "linecolor": "white",
            "ticks": ""
           }
          },
          "title": {
           "x": 0.05
          },
          "xaxis": {
           "automargin": true,
           "gridcolor": "white",
           "linecolor": "white",
           "ticks": "",
           "title": {
            "standoff": 15
           },
           "zerolinecolor": "white",
           "zerolinewidth": 2
          },
          "yaxis": {
           "automargin": true,
           "gridcolor": "white",
           "linecolor": "white",
           "ticks": "",
           "title": {
            "standoff": 15
           },
           "zerolinecolor": "white",
           "zerolinewidth": 2
          }
         }
        },
        "title": {
         "text": "Shopping Cart Abandonment"
        }
       }
      },
      "text/html": [
       "<div>                            <div id=\"b1572b54-3c56-43ed-8c57-6fa4f4ca476f\" class=\"plotly-graph-div\" style=\"height:525px; width:100%;\"></div>            <script type=\"text/javascript\">                require([\"plotly\"], function(Plotly) {                    window.PLOTLYENV=window.PLOTLYENV || {};                                    if (document.getElementById(\"b1572b54-3c56-43ed-8c57-6fa4f4ca476f\")) {                    Plotly.newPlot(                        \"b1572b54-3c56-43ed-8c57-6fa4f4ca476f\",                        [{\"textinfo\": \"value+percent initial\", \"textposition\": \"inside\", \"type\": \"funnel\", \"x\": [111457, 92030, 60395, 19802], \"y\": [\"Click through of product lists\", \"Product detail views\", \"Check out\", \"Completed purchase\"]}],                        {\"template\": {\"data\": {\"bar\": [{\"error_x\": {\"color\": \"#2a3f5f\"}, \"error_y\": {\"color\": \"#2a3f5f\"}, \"marker\": {\"line\": {\"color\": \"#E5ECF6\", \"width\": 0.5}}, \"type\": \"bar\"}], \"barpolar\": [{\"marker\": {\"line\": {\"color\": \"#E5ECF6\", \"width\": 0.5}}, \"type\": \"barpolar\"}], \"carpet\": [{\"aaxis\": {\"endlinecolor\": \"#2a3f5f\", \"gridcolor\": \"white\", \"linecolor\": \"white\", \"minorgridcolor\": \"white\", \"startlinecolor\": \"#2a3f5f\"}, \"baxis\": {\"endlinecolor\": \"#2a3f5f\", \"gridcolor\": \"white\", \"linecolor\": \"white\", \"minorgridcolor\": \"white\", \"startlinecolor\": \"#2a3f5f\"}, \"type\": \"carpet\"}], \"choropleth\": [{\"colorbar\": {\"outlinewidth\": 0, \"ticks\": \"\"}, \"type\": \"choropleth\"}], \"contour\": [{\"colorbar\": {\"outlinewidth\": 0, \"ticks\": \"\"}, \"colorscale\": [[0.0, \"#0d0887\"], [0.1111111111111111, \"#46039f\"], [0.2222222222222222, \"#7201a8\"], [0.3333333333333333, \"#9c179e\"], [0.4444444444444444, \"#bd3786\"], [0.5555555555555556, \"#d8576b\"], [0.6666666666666666, \"#ed7953\"], [0.7777777777777778, \"#fb9f3a\"], [0.8888888888888888, \"#fdca26\"], [1.0, \"#f0f921\"]], \"type\": \"contour\"}], \"contourcarpet\": [{\"colorbar\": {\"outlinewidth\": 0, \"ticks\": \"\"}, \"type\": \"contourcarpet\"}], \"heatmap\": [{\"colorbar\": {\"outlinewidth\": 0, \"ticks\": \"\"}, \"colorscale\": [[0.0, \"#0d0887\"], [0.1111111111111111, \"#46039f\"], [0.2222222222222222, \"#7201a8\"], [0.3333333333333333, \"#9c179e\"], [0.4444444444444444, \"#bd3786\"], [0.5555555555555556, \"#d8576b\"], [0.6666666666666666, \"#ed7953\"], [0.7777777777777778, \"#fb9f3a\"], [0.8888888888888888, \"#fdca26\"], [1.0, \"#f0f921\"]], \"type\": \"heatmap\"}], \"heatmapgl\": [{\"colorbar\": {\"outlinewidth\": 0, \"ticks\": \"\"}, \"colorscale\": [[0.0, \"#0d0887\"], [0.1111111111111111, \"#46039f\"], [0.2222222222222222, \"#7201a8\"], [0.3333333333333333, \"#9c179e\"], [0.4444444444444444, \"#bd3786\"], [0.5555555555555556, \"#d8576b\"], [0.6666666666666666, \"#ed7953\"], [0.7777777777777778, \"#fb9f3a\"], [0.8888888888888888, \"#fdca26\"], [1.0, \"#f0f921\"]], \"type\": \"heatmapgl\"}], \"histogram\": [{\"marker\": {\"colorbar\": {\"outlinewidth\": 0, \"ticks\": \"\"}}, \"type\": \"histogram\"}], \"histogram2d\": [{\"colorbar\": {\"outlinewidth\": 0, \"ticks\": \"\"}, \"colorscale\": [[0.0, \"#0d0887\"], [0.1111111111111111, \"#46039f\"], [0.2222222222222222, \"#7201a8\"], [0.3333333333333333, \"#9c179e\"], [0.4444444444444444, \"#bd3786\"], [0.5555555555555556, \"#d8576b\"], [0.6666666666666666, \"#ed7953\"], [0.7777777777777778, \"#fb9f3a\"], [0.8888888888888888, \"#fdca26\"], [1.0, \"#f0f921\"]], \"type\": \"histogram2d\"}], \"histogram2dcontour\": [{\"colorbar\": {\"outlinewidth\": 0, \"ticks\": \"\"}, \"colorscale\": [[0.0, \"#0d0887\"], [0.1111111111111111, \"#46039f\"], [0.2222222222222222, \"#7201a8\"], [0.3333333333333333, \"#9c179e\"], [0.4444444444444444, \"#bd3786\"], [0.5555555555555556, \"#d8576b\"], [0.6666666666666666, \"#ed7953\"], [0.7777777777777778, \"#fb9f3a\"], [0.8888888888888888, \"#fdca26\"], [1.0, \"#f0f921\"]], \"type\": \"histogram2dcontour\"}], \"mesh3d\": [{\"colorbar\": {\"outlinewidth\": 0, \"ticks\": \"\"}, \"type\": \"mesh3d\"}], \"parcoords\": [{\"line\": {\"colorbar\": {\"outlinewidth\": 0, \"ticks\": \"\"}}, \"type\": \"parcoords\"}], \"pie\": [{\"automargin\": true, \"type\": \"pie\"}], \"scatter\": [{\"marker\": {\"colorbar\": {\"outlinewidth\": 0, \"ticks\": \"\"}}, \"type\": \"scatter\"}], \"scatter3d\": [{\"line\": {\"colorbar\": {\"outlinewidth\": 0, \"ticks\": \"\"}}, \"marker\": {\"colorbar\": {\"outlinewidth\": 0, \"ticks\": \"\"}}, \"type\": \"scatter3d\"}], \"scattercarpet\": [{\"marker\": {\"colorbar\": {\"outlinewidth\": 0, \"ticks\": \"\"}}, \"type\": \"scattercarpet\"}], \"scattergeo\": [{\"marker\": {\"colorbar\": {\"outlinewidth\": 0, \"ticks\": \"\"}}, \"type\": \"scattergeo\"}], \"scattergl\": [{\"marker\": {\"colorbar\": {\"outlinewidth\": 0, \"ticks\": \"\"}}, \"type\": \"scattergl\"}], \"scattermapbox\": [{\"marker\": {\"colorbar\": {\"outlinewidth\": 0, \"ticks\": \"\"}}, \"type\": \"scattermapbox\"}], \"scatterpolar\": [{\"marker\": {\"colorbar\": {\"outlinewidth\": 0, \"ticks\": \"\"}}, \"type\": \"scatterpolar\"}], \"scatterpolargl\": [{\"marker\": {\"colorbar\": {\"outlinewidth\": 0, \"ticks\": \"\"}}, \"type\": \"scatterpolargl\"}], \"scatterternary\": [{\"marker\": {\"colorbar\": {\"outlinewidth\": 0, \"ticks\": \"\"}}, \"type\": \"scatterternary\"}], \"surface\": [{\"colorbar\": {\"outlinewidth\": 0, \"ticks\": \"\"}, \"colorscale\": [[0.0, \"#0d0887\"], [0.1111111111111111, \"#46039f\"], [0.2222222222222222, \"#7201a8\"], [0.3333333333333333, \"#9c179e\"], [0.4444444444444444, \"#bd3786\"], [0.5555555555555556, \"#d8576b\"], [0.6666666666666666, \"#ed7953\"], [0.7777777777777778, \"#fb9f3a\"], [0.8888888888888888, \"#fdca26\"], [1.0, \"#f0f921\"]], \"type\": \"surface\"}], \"table\": [{\"cells\": {\"fill\": {\"color\": \"#EBF0F8\"}, \"line\": {\"color\": \"white\"}}, \"header\": {\"fill\": {\"color\": \"#C8D4E3\"}, \"line\": {\"color\": \"white\"}}, \"type\": \"table\"}]}, \"layout\": {\"annotationdefaults\": {\"arrowcolor\": \"#2a3f5f\", \"arrowhead\": 0, \"arrowwidth\": 1}, \"coloraxis\": {\"colorbar\": {\"outlinewidth\": 0, \"ticks\": \"\"}}, \"colorscale\": {\"diverging\": [[0, \"#8e0152\"], [0.1, \"#c51b7d\"], [0.2, \"#de77ae\"], [0.3, \"#f1b6da\"], [0.4, \"#fde0ef\"], [0.5, \"#f7f7f7\"], [0.6, \"#e6f5d0\"], [0.7, \"#b8e186\"], [0.8, \"#7fbc41\"], [0.9, \"#4d9221\"], [1, \"#276419\"]], \"sequential\": [[0.0, \"#0d0887\"], [0.1111111111111111, \"#46039f\"], [0.2222222222222222, \"#7201a8\"], [0.3333333333333333, \"#9c179e\"], [0.4444444444444444, \"#bd3786\"], [0.5555555555555556, \"#d8576b\"], [0.6666666666666666, \"#ed7953\"], [0.7777777777777778, \"#fb9f3a\"], [0.8888888888888888, \"#fdca26\"], [1.0, \"#f0f921\"]], \"sequentialminus\": [[0.0, \"#0d0887\"], [0.1111111111111111, \"#46039f\"], [0.2222222222222222, \"#7201a8\"], [0.3333333333333333, \"#9c179e\"], [0.4444444444444444, \"#bd3786\"], [0.5555555555555556, \"#d8576b\"], [0.6666666666666666, \"#ed7953\"], [0.7777777777777778, \"#fb9f3a\"], [0.8888888888888888, \"#fdca26\"], [1.0, \"#f0f921\"]]}, \"colorway\": [\"#636efa\", \"#EF553B\", \"#00cc96\", \"#ab63fa\", \"#FFA15A\", \"#19d3f3\", \"#FF6692\", \"#B6E880\", \"#FF97FF\", \"#FECB52\"], \"font\": {\"color\": \"#2a3f5f\"}, \"geo\": {\"bgcolor\": \"white\", \"lakecolor\": \"white\", \"landcolor\": \"#E5ECF6\", \"showlakes\": true, \"showland\": true, \"subunitcolor\": \"white\"}, \"hoverlabel\": {\"align\": \"left\"}, \"hovermode\": \"closest\", \"mapbox\": {\"style\": \"light\"}, \"paper_bgcolor\": \"white\", \"plot_bgcolor\": \"#E5ECF6\", \"polar\": {\"angularaxis\": {\"gridcolor\": \"white\", \"linecolor\": \"white\", \"ticks\": \"\"}, \"bgcolor\": \"#E5ECF6\", \"radialaxis\": {\"gridcolor\": \"white\", \"linecolor\": \"white\", \"ticks\": \"\"}}, \"scene\": {\"xaxis\": {\"backgroundcolor\": \"#E5ECF6\", \"gridcolor\": \"white\", \"gridwidth\": 2, \"linecolor\": \"white\", \"showbackground\": true, \"ticks\": \"\", \"zerolinecolor\": \"white\"}, \"yaxis\": {\"backgroundcolor\": \"#E5ECF6\", \"gridcolor\": \"white\", \"gridwidth\": 2, \"linecolor\": \"white\", \"showbackground\": true, \"ticks\": \"\", \"zerolinecolor\": \"white\"}, \"zaxis\": {\"backgroundcolor\": \"#E5ECF6\", \"gridcolor\": \"white\", \"gridwidth\": 2, \"linecolor\": \"white\", \"showbackground\": true, \"ticks\": \"\", \"zerolinecolor\": \"white\"}}, \"shapedefaults\": {\"line\": {\"color\": \"#2a3f5f\"}}, \"ternary\": {\"aaxis\": {\"gridcolor\": \"white\", \"linecolor\": \"white\", \"ticks\": \"\"}, \"baxis\": {\"gridcolor\": \"white\", \"linecolor\": \"white\", \"ticks\": \"\"}, \"bgcolor\": \"#E5ECF6\", \"caxis\": {\"gridcolor\": \"white\", \"linecolor\": \"white\", \"ticks\": \"\"}}, \"title\": {\"x\": 0.05}, \"xaxis\": {\"automargin\": true, \"gridcolor\": \"white\", \"linecolor\": \"white\", \"ticks\": \"\", \"title\": {\"standoff\": 15}, \"zerolinecolor\": \"white\", \"zerolinewidth\": 2}, \"yaxis\": {\"automargin\": true, \"gridcolor\": \"white\", \"linecolor\": \"white\", \"ticks\": \"\", \"title\": {\"standoff\": 15}, \"zerolinecolor\": \"white\", \"zerolinewidth\": 2}}}, \"title\": {\"text\": \"Shopping Cart Abandonment\"}},                        {\"responsive\": true}                    ).then(function(){\n",
       "                            \n",
       "var gd = document.getElementById('b1572b54-3c56-43ed-8c57-6fa4f4ca476f');\n",
       "var x = new MutationObserver(function (mutations, observer) {{\n",
       "        var display = window.getComputedStyle(gd).display;\n",
       "        if (!display || display === 'none') {{\n",
       "            console.log([gd, 'removed!']);\n",
       "            Plotly.purge(gd);\n",
       "            observer.disconnect();\n",
       "        }}\n",
       "}});\n",
       "\n",
       "// Listen for the removal of the full notebook cells\n",
       "var notebookContainer = gd.closest('#notebook-container');\n",
       "if (notebookContainer) {{\n",
       "    x.observe(notebookContainer, {childList: true});\n",
       "}}\n",
       "\n",
       "// Listen for the clearing of the current output cell\n",
       "var outputEl = gd.closest('.output');\n",
       "if (outputEl) {{\n",
       "    x.observe(outputEl, {childList: true});\n",
       "}}\n",
       "\n",
       "                        })                };                });            </script>        </div>"
      ]
     },
     "metadata": {},
     "output_type": "display_data"
    }
   ],
   "source": [
    "fig = go.Figure(go.Funnel(y = df7['actions'],x = df7['total_hits'],textposition = 'inside',textinfo = 'value+percent initial'))\n",
    "fig.update_layout(title_text = 'Shopping Cart Abandonment')\n",
    "fig.show()"
   ]
  },
  {
   "cell_type": "markdown",
   "metadata": {
    "papermill": {
     "duration": 0.062783,
     "end_time": "2020-11-15T13:35:39.899149",
     "exception": false,
     "start_time": "2020-11-15T13:35:39.836366",
     "status": "completed"
    },
    "tags": []
   },
   "source": [
    "### Visits per Continent"
   ]
  },
  {
   "cell_type": "code",
   "execution_count": 20,
   "metadata": {
    "execution": {
     "iopub.execute_input": "2020-11-15T13:35:40.039653Z",
     "iopub.status.busy": "2020-11-15T13:35:40.038847Z",
     "iopub.status.idle": "2020-11-15T13:35:41.485717Z",
     "shell.execute_reply": "2020-11-15T13:35:41.485052Z"
    },
    "papermill": {
     "duration": 1.523596,
     "end_time": "2020-11-15T13:35:41.485857",
     "exception": false,
     "start_time": "2020-11-15T13:35:39.962261",
     "status": "completed"
    },
    "tags": []
   },
   "outputs": [],
   "source": [
    "query = \"\"\"\n",
    "    SELECT geoNetwork AS place\n",
    "     FROM `bigquery-public-data.google_analytics_sample.ga_sessions_20170801`\n",
    "\"\"\"\n",
    "\n",
    "safe_config = bigquery.QueryJobConfig(maximum_bytes_billed=10**10)\n",
    "q_job = client.query(query, job_config=safe_config)\n",
    "\n",
    "df8 = q_job.to_dataframe()\n",
    "\n",
    "continent_lst = []\n",
    "for x in df8['place']:\n",
    "    x = x['continent']\n",
    "    continent_lst.append(x)\n",
    "df8['continents'] = continent_lst\n",
    "\n",
    "continent_count = {'Americas': 0, 'Asia': 0, 'Europe': 0, 'Oceania': 0, 'Africa': 0}\n",
    "for continent in df8['continents']:\n",
    "    if continent == 'Americas':\n",
    "        continent_count['Americas'] += 1\n",
    "    if continent == 'Asia':\n",
    "        continent_count['Asia'] += 1\n",
    "    if continent == 'Europe':\n",
    "        continent_count['Europe'] += 1\n",
    "    if continent == 'Oceania':\n",
    "        continent_count['Oceania'] += 1\n",
    "    if continent == 'Africa':\n",
    "        continent_count['Africa'] += 1\n"
   ]
  },
  {
   "cell_type": "code",
   "execution_count": 21,
   "metadata": {
    "execution": {
     "iopub.execute_input": "2020-11-15T13:35:41.620672Z",
     "iopub.status.busy": "2020-11-15T13:35:41.619870Z",
     "iopub.status.idle": "2020-11-15T13:35:41.723087Z",
     "shell.execute_reply": "2020-11-15T13:35:41.723669Z"
    },
    "papermill": {
     "duration": 0.174966,
     "end_time": "2020-11-15T13:35:41.723826",
     "exception": false,
     "start_time": "2020-11-15T13:35:41.548860",
     "status": "completed"
    },
    "tags": []
   },
   "outputs": [
    {
     "data": {
      "image/png": "[encoded data removed]",
      "text/plain": [
       "<Figure size 360x360 with 1 Axes>"
      ]
     },
     "metadata": {
      "image/png": {
       "height": 301,
       "width": 362
      }
     },
     "output_type": "display_data"
    }
   ],
   "source": [
    "labels = continent_count.keys()\n",
    "data = continent_count.values()\n",
    "explode = (0.05, 0, 0,0,0)\n",
    "\n",
    "plt.figure(figsize=(5,5))\n",
    "plt.pie(data, labels=labels, explode=explode, autopct='%1.1f%%', startangle=55)\n",
    "plt.title('Visits per Continent')\n",
    "plt.axis('equal') \n",
    "\n",
    "plt.show()"
   ]
  },
  {
   "cell_type": "code",
   "execution_count": 22,
   "metadata": {
    "execution": {
     "iopub.execute_input": "2020-11-15T13:35:41.862330Z",
     "iopub.status.busy": "2020-11-15T13:35:41.861573Z",
     "iopub.status.idle": "2020-11-15T13:35:42.937359Z",
     "shell.execute_reply": "2020-11-15T13:35:42.936231Z"
    },
    "papermill": {
     "duration": 1.148896,
     "end_time": "2020-11-15T13:35:42.937568",
     "exception": false,
     "start_time": "2020-11-15T13:35:41.788672",
     "status": "completed"
    },
    "tags": []
   },
   "outputs": [
    {
     "name": "stdout",
     "output_type": "stream",
     "text": [
      "                 source  counts\n",
      "0              (direct)    2166\n",
      "1           youtube.com     180\n",
      "2  analytics.google.com      57\n",
      "3              Partners      52\n",
      "4                   dfa      15\n",
      "5            google.com      12\n"
     ]
    }
   ],
   "source": [
    "query = \"\"\"\n",
    "     SELECT trafficSource.source AS source, COUNT(trafficSource) as counts\n",
    "     FROM `bigquery-public-data.google_analytics_sample.ga_sessions_20170801`\n",
    "     GROUP BY source\n",
    "     HAVING counts >= 10\n",
    "     ORDER BY counts DESC\n",
    "\"\"\"\n",
    "\n",
    "safe_config = bigquery.QueryJobConfig(maximum_bytes_billed=10**10)\n",
    "query_job = client.query(query, job_config=safe_config)\n",
    "\n",
    "df8 = query_job.to_dataframe()\n",
    "\n",
    "print(df8)"
   ]
  },
  {
   "cell_type": "code",
   "execution_count": 23,
   "metadata": {
    "execution": {
     "iopub.execute_input": "2020-11-15T13:35:43.096068Z",
     "iopub.status.busy": "2020-11-15T13:35:43.088217Z",
     "iopub.status.idle": "2020-11-15T13:35:43.231862Z",
     "shell.execute_reply": "2020-11-15T13:35:43.231060Z"
    },
    "papermill": {
     "duration": 0.227267,
     "end_time": "2020-11-15T13:35:43.232018",
     "exception": false,
     "start_time": "2020-11-15T13:35:43.004751",
     "status": "completed"
    },
    "tags": []
   },
   "outputs": [
    {
     "data": {
      "image/png": "[encoded data removed]",
      "text/plain": [
       "<Figure size 936x180 with 1 Axes>"
      ]
     },
     "metadata": {
      "image/png": {
       "height": 181,
       "width": 781
      },
      "needs_background": "light"
     },
     "output_type": "display_data"
    }
   ],
   "source": [
    "category_names = df8['source']\n",
    "results = {'counts': df8['counts']}\n",
    "\n",
    "def survey(results, category_names):\n",
    "    labels = list(results.keys())\n",
    "    data = np.array(list(results.values()))\n",
    "    data_cum = data.cumsum(axis=1)\n",
    "    category_colors = plt.get_cmap('RdYlGn')(\n",
    "        np.linspace(0.15, 0.85, data.shape[1]))\n",
    "\n",
    "    fig, ax = plt.subplots(figsize=(13, 2.5))\n",
    "    ax.invert_yaxis()\n",
    "    ax.xaxis.set_visible(False)\n",
    "    ax.set_xlim(0, np.sum(data, axis=1).max())\n",
    "\n",
    "    for i, (colname, color) in enumerate(zip(category_names, category_colors)):\n",
    "        widths = data[:, i]\n",
    "        starts = data_cum[:, i] - widths\n",
    "        ax.barh(labels, widths, left=starts, height=0.5,\n",
    "                label=colname, color=color)\n",
    "        xcenters = starts + widths / 2\n",
    "\n",
    "    ax.legend(ncol=len(category_names), bbox_to_anchor=(0, 1),\n",
    "              loc='lower left', fontsize='large')\n",
    "\n",
    "    return fig, ax\n",
    "\n",
    "\n",
    "survey(results, category_names)\n",
    "plt.show()"
   ]
  },
  {
   "cell_type": "code",
   "execution_count": 24,
   "metadata": {
    "execution": {
     "iopub.execute_input": "2020-11-15T13:35:43.375989Z",
     "iopub.status.busy": "2020-11-15T13:35:43.375019Z",
     "iopub.status.idle": "2020-11-15T13:35:43.378138Z",
     "shell.execute_reply": "2020-11-15T13:35:43.377514Z"
    },
    "papermill": {
     "duration": 0.079579,
     "end_time": "2020-11-15T13:35:43.378259",
     "exception": false,
     "start_time": "2020-11-15T13:35:43.298680",
     "status": "completed"
    },
    "tags": []
   },
   "outputs": [],
   "source": [
    "from time import time\n",
    "\n",
    "def show_amount_of_data_scanned(query):\n",
    "    dry_run_config = bigquery.QueryJobConfig(dry_run=True)\n",
    "    query_job = client.query(query, job_config=dry_run_config)\n",
    "    print('Data processed: {} GB'.format(round(query_job.total_bytes_processed / 10**9, 3)))\n",
    "    \n",
    "def show_time_to_run(query):\n",
    "    time_config = bigquery.QueryJobConfig(use_query_cache=False)\n",
    "    start = time()\n",
    "    query_result = client.query(query, job_config=time_config).result()\n",
    "    end = time()\n",
    "    print('Time to run: {} seconds'.format(round(end-start, 3)))\n"
   ]
  },
  {
   "cell_type": "code",
   "execution_count": 25,
   "metadata": {
    "execution": {
     "iopub.execute_input": "2020-11-15T13:35:43.522042Z",
     "iopub.status.busy": "2020-11-15T13:35:43.521243Z",
     "iopub.status.idle": "2020-11-15T13:35:46.601841Z",
     "shell.execute_reply": "2020-11-15T13:35:46.602555Z"
    },
    "papermill": {
     "duration": 3.157295,
     "end_time": "2020-11-15T13:35:46.602712",
     "exception": false,
     "start_time": "2020-11-15T13:35:43.445417",
     "status": "completed"
    },
    "tags": []
   },
   "outputs": [
    {
     "name": "stdout",
     "output_type": "stream",
     "text": [
      "        date   device  visits\n",
      "0   20170401  desktop    1420\n",
      "1   20170401   mobile     646\n",
      "2   20170401   tablet     104\n",
      "3   20170501  desktop    1706\n",
      "4   20170501   mobile     770\n",
      "5   20170501   tablet     112\n",
      "6   20170601  desktop    1972\n",
      "7   20170601   mobile     758\n",
      "8   20170601   tablet      96\n",
      "9   20170701  desktop     869\n",
      "10  20170701   mobile    1036\n",
      "11  20170701   tablet     143\n",
      "12  20170801  desktop    1742\n",
      "13  20170801   mobile     725\n",
      "14  20170801   tablet      89\n",
      "Data processed: 0.0 GB\n",
      "Time to run: 1.51 seconds\n"
     ]
    }
   ],
   "source": [
    "query = \"\"\"\n",
    "     SELECT date, august.device.deviceCategory AS device, SUM(august.totals.visits) AS visits\n",
    "     FROM `bigquery-public-data.google_analytics_sample.ga_sessions_20170801` AS august\n",
    "     GROUP BY date, device\n",
    "     UNION ALL\n",
    "     SELECT date, july.device.deviceCategory as device, SUM(july.totals.visits) as visits\n",
    "     FROM `bigquery-public-data.google_analytics_sample.ga_sessions_20170701` as july\n",
    "     GROUP BY date, device\n",
    "     UNION ALL\n",
    "     SELECT date, june.device.deviceCategory as device, SUM(june.totals.visits) as visits\n",
    "     FROM `bigquery-public-data.google_analytics_sample.ga_sessions_20170601` as june\n",
    "     GROUP BY date, device\n",
    "     UNION ALL\n",
    "     SELECT date, may.device.deviceCategory as device, SUM(may.totals.visits) as visits\n",
    "     FROM `bigquery-public-data.google_analytics_sample.ga_sessions_20170501` as may\n",
    "     GROUP BY date, device\n",
    "     UNION ALL\n",
    "     SELECT date, april.device.deviceCategory as device, SUM(april.totals.visits) as visits\n",
    "     FROM `bigquery-public-data.google_analytics_sample.ga_sessions_20170401` as april\n",
    "     GROUP BY date, device\n",
    "     ORDER BY date, device\n",
    "     \"\"\"\n",
    "\n",
    "safe_config = bigquery.QueryJobConfig(maximum_bytes_billed=10**10)\n",
    "query_job = client.query(query, job_config=safe_config)\n",
    "\n",
    "df9 = query_job.to_dataframe()\n",
    "\n",
    "print(df9)\n",
    "\n",
    "show_amount_of_data_scanned(query)\n",
    "show_time_to_run(query)\n"
   ]
  },
  {
   "cell_type": "code",
   "execution_count": 26,
   "metadata": {
    "execution": {
     "iopub.execute_input": "2020-11-15T13:35:46.757856Z",
     "iopub.status.busy": "2020-11-15T13:35:46.757064Z",
     "iopub.status.idle": "2020-11-15T13:35:46.979071Z",
     "shell.execute_reply": "2020-11-15T13:35:46.978311Z"
    },
    "papermill": {
     "duration": 0.307883,
     "end_time": "2020-11-15T13:35:46.979200",
     "exception": false,
     "start_time": "2020-11-15T13:35:46.671317",
     "status": "completed"
    },
    "tags": []
   },
   "outputs": [
    {
     "data": {
      "image/png": "[encoded data removed]",
      "text/plain": [
       "<Figure size 720x504 with 1 Axes>"
      ]
     },
     "metadata": {
      "image/png": {
       "height": 440,
       "width": 618
      },
      "needs_background": "light"
     },
     "output_type": "display_data"
    }
   ],
   "source": [
    "desktop = df9['visits'][0::3]\n",
    "mobile = df9['visits'][1::3]\n",
    "tablet = df9['visits'][2::3]\n",
    "\n",
    "x = ['April', 'May', 'June', 'July', 'August']\n",
    "\n",
    "y = np.vstack([tablet, mobile, desktop])\n",
    "\n",
    "labels = ['Tablet', 'Mobile', 'Desktop']\n",
    "\n",
    "plt.figure(figsize=(10,7))\n",
    "plt.stackplot(x, tablet, mobile, desktop, labels=labels)\n",
    "plt.title('Monthly Device Visits (2017)')\n",
    "plt.ylabel('Visits')\n",
    "plt.xlabel('Month')\n",
    "plt.legend(loc='upper left')\n",
    "plt.show()"
   ]
  }
 ],
 "metadata": {
  "kernelspec": {
   "display_name": "Python 3",
   "language": "python",
   "name": "python3"
  },
  "language_info": {
   "codemirror_mode": {
    "name": "ipython",
    "version": 3
   },
   "file_extension": ".py",
   "mimetype": "text/x-python",
   "name": "python",
   "nbconvert_exporter": "python",
   "pygments_lexer": "ipython3",
   "version": "3.8.8"
  },
  "papermill": {
   "duration": 88.250275,
   "end_time": "2020-11-15T13:35:47.349056",
   "environment_variables": {},
   "exception": null,
   "input_path": "__notebook__.ipynb",
   "output_path": "__notebook__.ipynb",
   "parameters": {},
   "start_time": "2020-11-15T13:34:19.098781",
   "version": "2.1.0"
  }
 },
 "nbformat": 4,
 "nbformat_minor": 4
}
